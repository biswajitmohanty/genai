{
  "cells": [
    {
      "cell_type": "markdown",
      "metadata": {
        "id": "view-in-github",
        "colab_type": "text"
      },
      "source": [
        "<a href=\"https://colab.research.google.com/github/biswajitmohanty/genai/blob/main/Encoder_Decoder_Translation.ipynb\" target=\"_parent\"><img src=\"https://colab.research.google.com/assets/colab-badge.svg\" alt=\"Open In Colab\"/></a>"
      ]
    },
    {
      "cell_type": "markdown",
      "id": "8cf92b6a",
      "metadata": {
        "papermill": {
          "duration": 0.022765,
          "end_time": "2024-09-19T09:24:35.050186",
          "exception": false,
          "start_time": "2024-09-19T09:24:35.027421",
          "status": "completed"
        },
        "tags": [],
        "id": "8cf92b6a"
      },
      "source": [
        "<a id=toc></a>\n",
        "<h1 style=\"padding: 35px;color:white;margin:10;font-size:200%;text-align:center;display:fill;border-radius:10px;overflow:hidden;background-image: url(https://i.postimg.cc/fTDmwnkQ/Miaka.png); background-size: 100% auto;background-position: 0px 0px;\n",
        "\"><span style='color:white'><b> Machine Translation Using Encoder-Decoder</b></span></h1>\n",
        "\n",
        "<br>\n",
        "\n",
        "<center>\n",
        "    <img src=\"https://media.geeksforgeeks.org/wp-content/uploads/20231226141038/Machine-Translation-Model.png\"\n",
        "         alt =\"Machine Translation\"\n",
        "         style='width: 60%;'>\n",
        "</center>\n",
        "\n",
        "## Dataset\n",
        "The dataset used in this notebook is the '<b>IIT Bombay English-Hindi Translation Dataset</b>'. This Data contains 1,561,840 instances of Hindi - English Translation\n",
        "\n",
        "<br>\n",
        "\n",
        "<hr>"
      ]
    },
    {
      "cell_type": "markdown",
      "id": "ff77221f",
      "metadata": {
        "papermill": {
          "duration": 0.021726,
          "end_time": "2024-09-19T09:24:35.139375",
          "exception": false,
          "start_time": "2024-09-19T09:24:35.117649",
          "status": "completed"
        },
        "tags": [],
        "id": "ff77221f"
      },
      "source": [
        "<a id=toc></a>\n",
        "<h1 style=\"padding: 35px;color:white;margin:10;font-size:200%;text-align:center;display:fill;border-radius:10px;overflow:hidden;background-image: url(https://i.postimg.cc/fTDmwnkQ/Miaka.png); background-size: 100% auto;background-position: 0px 0px;\n",
        "\"><span style='color:white'><b> Encoder Decoder Architecture </b></span></h1>"
      ]
    },
    {
      "cell_type": "markdown",
      "id": "b7beda7f",
      "metadata": {
        "execution": {
          "iopub.execute_input": "2024-07-07T14:00:29.688861Z",
          "iopub.status.busy": "2024-07-07T14:00:29.688355Z",
          "iopub.status.idle": "2024-07-07T14:00:30.908182Z",
          "shell.execute_reply": "2024-07-07T14:00:30.906490Z",
          "shell.execute_reply.started": "2024-07-07T14:00:29.688826Z"
        },
        "papermill": {
          "duration": 0.021953,
          "end_time": "2024-09-19T09:24:35.184697",
          "exception": false,
          "start_time": "2024-09-19T09:24:35.162744",
          "status": "completed"
        },
        "tags": [],
        "id": "b7beda7f"
      },
      "source": [
        "![Encoder](https://6chaoran.wordpress.com/wp-content/uploads/2019/01/encoder-decoder-architecture.png?w=640)"
      ]
    },
    {
      "cell_type": "markdown",
      "id": "ca36c314",
      "metadata": {
        "papermill": {
          "duration": 0.022462,
          "end_time": "2024-09-19T09:24:35.316926",
          "exception": false,
          "start_time": "2024-09-19T09:24:35.294464",
          "status": "completed"
        },
        "tags": [],
        "id": "ca36c314"
      },
      "source": [
        "### Encoder-Decoder Architecture in RNNs:\n",
        "- **Architecture**:\n",
        "  - Comprises two RNNs: an Encoder and a Decoder.\n",
        "  - Encoder processes the input sequence and converts it into a fixed-size context vector.\n",
        "  - Decoder takes this context vector and generates the output sequence step by step.\n",
        "\n",
        "- **Encoder**:\n",
        "  - Takes input sequence one token at a time.\n",
        "  - Outputs a context vector summarizing the input sequence.\n",
        "  - Can use various RNN variants like LSTM or GRU.\n",
        "\n",
        "- **Decoder**:\n",
        "  - Takes the context vector from the Encoder and generates the output sequence.\n",
        "  - Processes the output sequence step by step, incorporating information from the context vector.\n",
        "  - Can have a different architecture from the Encoder, but typically uses the same RNN variant.\n",
        "\n",
        "- **Training**:\n",
        "  - During training, both Encoder and Decoder are jointly trained using teacher forcing.\n",
        "  - Teacher forcing involves providing the correct previous target token as input to the Decoder at each step."
      ]
    },
    {
      "cell_type": "markdown",
      "id": "23d64f50",
      "metadata": {
        "papermill": {
          "duration": 0.022255,
          "end_time": "2024-09-19T09:24:35.361861",
          "exception": false,
          "start_time": "2024-09-19T09:24:35.339606",
          "status": "completed"
        },
        "tags": [],
        "id": "23d64f50"
      },
      "source": [
        "<a id='2'></a>\n",
        "# 2 | Importing Required Libraries & DataSource\n",
        "\n",
        "<div style=\"padding: 4px;color:white;margin:10;font-size:200%;text-align:center;display:fill;border-radius:10px;overflow:hidden;background-image: url(https://i.postimg.cc/fTDmwnkQ/Miaka.png); background-size: 100% auto;\"></div>\n"
      ]
    },
    {
      "cell_type": "code",
      "execution_count": 1,
      "id": "941edbdc",
      "metadata": {
        "execution": {
          "iopub.execute_input": "2024-09-19T09:24:35.407418Z",
          "iopub.status.busy": "2024-09-19T09:24:35.407036Z",
          "iopub.status.idle": "2024-09-19T09:24:50.834270Z",
          "shell.execute_reply": "2024-09-19T09:24:50.833239Z"
        },
        "papermill": {
          "duration": 15.453086,
          "end_time": "2024-09-19T09:24:50.836747",
          "exception": false,
          "start_time": "2024-09-19T09:24:35.383661",
          "status": "completed"
        },
        "tags": [],
        "colab": {
          "base_uri": "https://localhost:8080/"
        },
        "id": "941edbdc",
        "outputId": "93c5f2a8-e720-4372-8f8a-75e948c07df8"
      },
      "outputs": [
        {
          "output_type": "stream",
          "name": "stdout",
          "text": [
            "Collecting contractions\n",
            "  Downloading contractions-0.1.73-py2.py3-none-any.whl.metadata (1.2 kB)\n",
            "Collecting textsearch>=0.0.21 (from contractions)\n",
            "  Downloading textsearch-0.0.24-py2.py3-none-any.whl.metadata (1.2 kB)\n",
            "Collecting anyascii (from textsearch>=0.0.21->contractions)\n",
            "  Downloading anyascii-0.3.2-py3-none-any.whl.metadata (1.5 kB)\n",
            "Collecting pyahocorasick (from textsearch>=0.0.21->contractions)\n",
            "  Downloading pyahocorasick-2.1.0-cp311-cp311-manylinux_2_17_x86_64.manylinux2014_x86_64.whl.metadata (13 kB)\n",
            "Downloading contractions-0.1.73-py2.py3-none-any.whl (8.7 kB)\n",
            "Downloading textsearch-0.0.24-py2.py3-none-any.whl (7.6 kB)\n",
            "Downloading anyascii-0.3.2-py3-none-any.whl (289 kB)\n",
            "\u001b[2K   \u001b[90m━━━━━━━━━━━━━━━━━━━━━━━━━━━━━━━━━━━━━━━━\u001b[0m \u001b[32m289.9/289.9 kB\u001b[0m \u001b[31m10.3 MB/s\u001b[0m eta \u001b[36m0:00:00\u001b[0m\n",
            "\u001b[?25hDownloading pyahocorasick-2.1.0-cp311-cp311-manylinux_2_17_x86_64.manylinux2014_x86_64.whl (118 kB)\n",
            "\u001b[2K   \u001b[90m━━━━━━━━━━━━━━━━━━━━━━━━━━━━━━━━━━━━━━━━\u001b[0m \u001b[32m118.3/118.3 kB\u001b[0m \u001b[31m12.1 MB/s\u001b[0m eta \u001b[36m0:00:00\u001b[0m\n",
            "\u001b[?25hInstalling collected packages: pyahocorasick, anyascii, textsearch, contractions\n",
            "Successfully installed anyascii-0.3.2 contractions-0.1.73 pyahocorasick-2.1.0 textsearch-0.0.24\n"
          ]
        }
      ],
      "source": [
        "!pip install contractions"
      ]
    },
    {
      "cell_type": "code",
      "source": [
        "!pip install gensim"
      ],
      "metadata": {
        "colab": {
          "base_uri": "https://localhost:8080/"
        },
        "id": "RpIjL8s6diyd",
        "outputId": "e6aa4aad-9d3a-4a6d-9f46-2efb89f3e85d"
      },
      "id": "RpIjL8s6diyd",
      "execution_count": 2,
      "outputs": [
        {
          "output_type": "stream",
          "name": "stdout",
          "text": [
            "Collecting gensim\n",
            "  Downloading gensim-4.3.3-cp311-cp311-manylinux_2_17_x86_64.manylinux2014_x86_64.whl.metadata (8.1 kB)\n",
            "Requirement already satisfied: numpy<2.0,>=1.18.5 in /usr/local/lib/python3.11/dist-packages (from gensim) (1.26.4)\n",
            "Collecting scipy<1.14.0,>=1.7.0 (from gensim)\n",
            "  Downloading scipy-1.13.1-cp311-cp311-manylinux_2_17_x86_64.manylinux2014_x86_64.whl.metadata (60 kB)\n",
            "\u001b[2K     \u001b[90m━━━━━━━━━━━━━━━━━━━━━━━━━━━━━━━━━━━━━━━━\u001b[0m \u001b[32m60.6/60.6 kB\u001b[0m \u001b[31m3.6 MB/s\u001b[0m eta \u001b[36m0:00:00\u001b[0m\n",
            "\u001b[?25hRequirement already satisfied: smart-open>=1.8.1 in /usr/local/lib/python3.11/dist-packages (from gensim) (7.1.0)\n",
            "Requirement already satisfied: wrapt in /usr/local/lib/python3.11/dist-packages (from smart-open>=1.8.1->gensim) (1.17.2)\n",
            "Downloading gensim-4.3.3-cp311-cp311-manylinux_2_17_x86_64.manylinux2014_x86_64.whl (26.7 MB)\n",
            "\u001b[2K   \u001b[90m━━━━━━━━━━━━━━━━━━━━━━━━━━━━━━━━━━━━━━━━\u001b[0m \u001b[32m26.7/26.7 MB\u001b[0m \u001b[31m25.5 MB/s\u001b[0m eta \u001b[36m0:00:00\u001b[0m\n",
            "\u001b[?25hDownloading scipy-1.13.1-cp311-cp311-manylinux_2_17_x86_64.manylinux2014_x86_64.whl (38.6 MB)\n",
            "\u001b[2K   \u001b[90m━━━━━━━━━━━━━━━━━━━━━━━━━━━━━━━━━━━━━━━━\u001b[0m \u001b[32m38.6/38.6 MB\u001b[0m \u001b[31m13.7 MB/s\u001b[0m eta \u001b[36m0:00:00\u001b[0m\n",
            "\u001b[?25hInstalling collected packages: scipy, gensim\n",
            "  Attempting uninstall: scipy\n",
            "    Found existing installation: scipy 1.14.1\n",
            "    Uninstalling scipy-1.14.1:\n",
            "      Successfully uninstalled scipy-1.14.1\n",
            "Successfully installed gensim-4.3.3 scipy-1.13.1\n"
          ]
        }
      ]
    },
    {
      "cell_type": "code",
      "execution_count": 3,
      "id": "46a0683d",
      "metadata": {
        "execution": {
          "iopub.execute_input": "2024-09-19T09:24:50.885953Z",
          "iopub.status.busy": "2024-09-19T09:24:50.885655Z",
          "iopub.status.idle": "2024-09-19T09:24:53.042043Z",
          "shell.execute_reply": "2024-09-19T09:24:53.041021Z"
        },
        "papermill": {
          "duration": 2.18357,
          "end_time": "2024-09-19T09:24:53.044082",
          "exception": false,
          "start_time": "2024-09-19T09:24:50.860512",
          "status": "completed"
        },
        "tags": [],
        "colab": {
          "base_uri": "https://localhost:8080/"
        },
        "id": "46a0683d",
        "outputId": "ed4488fa-7056-4463-87cd-697ed65ff99c"
      },
      "outputs": [
        {
          "output_type": "stream",
          "name": "stderr",
          "text": [
            "[nltk_data] Downloading package wordnet to /root/nltk_data...\n"
          ]
        },
        {
          "output_type": "execute_result",
          "data": {
            "text/plain": [
              "True"
            ]
          },
          "metadata": {},
          "execution_count": 3
        }
      ],
      "source": [
        "from textblob import Word\n",
        "import nltk\n",
        "nltk.download('wordnet')"
      ]
    },
    {
      "cell_type": "code",
      "execution_count": 4,
      "id": "c048615d",
      "metadata": {
        "execution": {
          "iopub.execute_input": "2024-09-19T09:24:53.132038Z",
          "iopub.status.busy": "2024-09-19T09:24:53.131345Z",
          "iopub.status.idle": "2024-09-19T09:25:31.213486Z",
          "shell.execute_reply": "2024-09-19T09:25:31.212570Z"
        },
        "papermill": {
          "duration": 38.170483,
          "end_time": "2024-09-19T09:25:31.238586",
          "exception": false,
          "start_time": "2024-09-19T09:24:53.068103",
          "status": "completed"
        },
        "tags": [],
        "id": "c048615d"
      },
      "outputs": [],
      "source": [
        "# Libraray for Data Manipulation\n",
        "import numpy as np\n",
        "import pandas as pd\n",
        "\n",
        "# Libraray for Data Visualisation\n",
        "import seaborn as sns\n",
        "import matplotlib.pyplot as plt\n",
        "sns.set(style=\"white\",font_scale=1.5)\n",
        "sns.set(rc={\"axes.facecolor\":\"#FFFAF0\",\"figure.facecolor\":\"#FFFAF0\"})\n",
        "sns.set_context(\"poster\",font_scale = .7)\n",
        "\n",
        "# Library for preprocessing\n",
        "import contractions\n",
        "from sklearn.feature_extraction.text import CountVectorizer\n",
        "from sklearn.preprocessing import LabelBinarizer\n",
        "from nltk.corpus import stopwords\n",
        "from nltk.stem.porter import PorterStemmer\n",
        "from wordcloud import WordCloud,STOPWORDS\n",
        "from nltk.stem import WordNetLemmatizer\n",
        "from nltk.tokenize import word_tokenize,sent_tokenize\n",
        "import spacy\n",
        "import math\n",
        "from gensim.models import Word2Vec\n",
        "from sklearn.feature_extraction.text import TfidfVectorizer\n",
        "from joblib import Parallel, delayed\n",
        "import re,string,unicodedata\n",
        "from sklearn.model_selection import train_test_split\n",
        "from textblob import TextBlob\n",
        "from scipy.sparse import lil_matrix\n",
        "from tensorflow.keras.preprocessing.sequence import pad_sequences\n",
        "from nltk import pos_tag\n",
        "\n",
        "# Library for model building\n",
        "from tensorflow.keras.regularizers import l2\n",
        "import tensorflow\n",
        "import keras\n",
        "from keras import layers\n",
        "from tensorflow.keras.preprocessing.text import Tokenizer\n",
        "from keras.models import Sequential,Model\n",
        "#from attention import BahdanauAttention\n",
        "from keras.layers import SimpleRNN,LSTM,GRU, Embedding, Dense, SpatialDropout1D, Dropout, BatchNormalization, Bidirectional, Attention, Input\n",
        "from sklearn.metrics import accuracy_score\n",
        "from tensorflow.keras.initializers import GlorotUniform\n",
        "from tensorflow.keras.optimizers import Adam\n",
        "\n",
        "#Library to overcome Warnings\n",
        "import warnings\n",
        "warnings.filterwarnings('ignore')"
      ]
    },
    {
      "cell_type": "markdown",
      "id": "c5015831",
      "metadata": {
        "papermill": {
          "duration": 0.023429,
          "end_time": "2024-09-19T09:25:31.286115",
          "exception": false,
          "start_time": "2024-09-19T09:25:31.262686",
          "status": "completed"
        },
        "tags": [],
        "id": "c5015831"
      },
      "source": [
        "<a id='1.1'></a>\n",
        "# Load and Inspect Dataset\n",
        "\n",
        "<div style=\"padding: 4px;color:white;margin:10;font-size:200%;text-align:center;display:fill;border-radius:10px;overflow:hidden;background-image: url(https://i.postimg.cc/fTDmwnkQ/Miaka.png); background-size: 100% auto;\"></div>\n"
      ]
    },
    {
      "cell_type": "code",
      "execution_count": 6,
      "id": "5eb6d3d7",
      "metadata": {
        "execution": {
          "iopub.execute_input": "2024-09-19T09:25:31.336038Z",
          "iopub.status.busy": "2024-09-19T09:25:31.334893Z",
          "iopub.status.idle": "2024-09-19T09:25:32.503261Z",
          "shell.execute_reply": "2024-09-19T09:25:32.502404Z"
        },
        "papermill": {
          "duration": 1.196431,
          "end_time": "2024-09-19T09:25:32.506129",
          "exception": false,
          "start_time": "2024-09-19T09:25:31.309698",
          "status": "completed"
        },
        "tags": [],
        "id": "5eb6d3d7"
      },
      "outputs": [],
      "source": [
        "data = pd.read_csv('Dataset_English_Hindi.csv')"
      ]
    },
    {
      "cell_type": "code",
      "execution_count": null,
      "id": "1ecc760a",
      "metadata": {
        "execution": {
          "iopub.execute_input": "2024-09-19T09:25:32.562857Z",
          "iopub.status.busy": "2024-09-19T09:25:32.562453Z",
          "iopub.status.idle": "2024-09-19T09:25:32.593670Z",
          "shell.execute_reply": "2024-09-19T09:25:32.592604Z"
        },
        "papermill": {
          "duration": 0.058523,
          "end_time": "2024-09-19T09:25:32.595748",
          "exception": false,
          "start_time": "2024-09-19T09:25:32.537225",
          "status": "completed"
        },
        "tags": [],
        "id": "1ecc760a",
        "outputId": "a9a5d5b9-4ade-4c30-ded6-916e32d4ded7",
        "colab": {
          "base_uri": "https://localhost:8080/",
          "height": 206
        }
      },
      "outputs": [
        {
          "output_type": "execute_result",
          "data": {
            "text/plain": [
              "                                                  English  \\\n",
              "78805   His mothers name was Anandi Devi and his fathe...   \n",
              "112209  Although genetics as a scientific discipline i...   \n",
              "59920             to read people's thoughts and emotions.   \n",
              "115623  According to Hindu religion the Chhat Festival...   \n",
              "86951   that, in fact, it was a classic charity run by...   \n",
              "\n",
              "                                                    Hindi  \n",
              "78805   उनकी माता का नाम आनन्दी देवी था तथा पिता मुंशी...  \n",
              "112209  9 आनुवंशिकता और कलऋ-ऊण्श्छ्ष्-टिजेन आनुवंशिकता...  \n",
              "59920        लोगों के विचारों और भावनाओं को पढ़ने के लिए।  \n",
              "115623  हिन्दू धर्म में सूर्योपासनाके लिए प्रसिद्ध पर्...  \n",
              "86951   बल्कि, वो एक पारंम्परिक धर्माथ संस्था की तरह ए...  "
            ],
            "text/html": [
              "\n",
              "  <div id=\"df-841a940c-f67d-4d45-ae70-3736eef9ffca\" class=\"colab-df-container\">\n",
              "    <div>\n",
              "<style scoped>\n",
              "    .dataframe tbody tr th:only-of-type {\n",
              "        vertical-align: middle;\n",
              "    }\n",
              "\n",
              "    .dataframe tbody tr th {\n",
              "        vertical-align: top;\n",
              "    }\n",
              "\n",
              "    .dataframe thead th {\n",
              "        text-align: right;\n",
              "    }\n",
              "</style>\n",
              "<table border=\"1\" class=\"dataframe\">\n",
              "  <thead>\n",
              "    <tr style=\"text-align: right;\">\n",
              "      <th></th>\n",
              "      <th>English</th>\n",
              "      <th>Hindi</th>\n",
              "    </tr>\n",
              "  </thead>\n",
              "  <tbody>\n",
              "    <tr>\n",
              "      <th>78805</th>\n",
              "      <td>His mothers name was Anandi Devi and his fathe...</td>\n",
              "      <td>उनकी माता का नाम आनन्दी देवी था तथा पिता मुंशी...</td>\n",
              "    </tr>\n",
              "    <tr>\n",
              "      <th>112209</th>\n",
              "      <td>Although genetics as a scientific discipline i...</td>\n",
              "      <td>9 आनुवंशिकता और कलऋ-ऊण्श्छ्ष्-टिजेन आनुवंशिकता...</td>\n",
              "    </tr>\n",
              "    <tr>\n",
              "      <th>59920</th>\n",
              "      <td>to read people's thoughts and emotions.</td>\n",
              "      <td>लोगों के विचारों और भावनाओं को पढ़ने के लिए।</td>\n",
              "    </tr>\n",
              "    <tr>\n",
              "      <th>115623</th>\n",
              "      <td>According to Hindu religion the Chhat Festival...</td>\n",
              "      <td>हिन्दू धर्म में सूर्योपासनाके लिए प्रसिद्ध पर्...</td>\n",
              "    </tr>\n",
              "    <tr>\n",
              "      <th>86951</th>\n",
              "      <td>that, in fact, it was a classic charity run by...</td>\n",
              "      <td>बल्कि, वो एक पारंम्परिक धर्माथ संस्था की तरह ए...</td>\n",
              "    </tr>\n",
              "  </tbody>\n",
              "</table>\n",
              "</div>\n",
              "    <div class=\"colab-df-buttons\">\n",
              "\n",
              "  <div class=\"colab-df-container\">\n",
              "    <button class=\"colab-df-convert\" onclick=\"convertToInteractive('df-841a940c-f67d-4d45-ae70-3736eef9ffca')\"\n",
              "            title=\"Convert this dataframe to an interactive table.\"\n",
              "            style=\"display:none;\">\n",
              "\n",
              "  <svg xmlns=\"http://www.w3.org/2000/svg\" height=\"24px\" viewBox=\"0 -960 960 960\">\n",
              "    <path d=\"M120-120v-720h720v720H120Zm60-500h600v-160H180v160Zm220 220h160v-160H400v160Zm0 220h160v-160H400v160ZM180-400h160v-160H180v160Zm440 0h160v-160H620v160ZM180-180h160v-160H180v160Zm440 0h160v-160H620v160Z\"/>\n",
              "  </svg>\n",
              "    </button>\n",
              "\n",
              "  <style>\n",
              "    .colab-df-container {\n",
              "      display:flex;\n",
              "      gap: 12px;\n",
              "    }\n",
              "\n",
              "    .colab-df-convert {\n",
              "      background-color: #E8F0FE;\n",
              "      border: none;\n",
              "      border-radius: 50%;\n",
              "      cursor: pointer;\n",
              "      display: none;\n",
              "      fill: #1967D2;\n",
              "      height: 32px;\n",
              "      padding: 0 0 0 0;\n",
              "      width: 32px;\n",
              "    }\n",
              "\n",
              "    .colab-df-convert:hover {\n",
              "      background-color: #E2EBFA;\n",
              "      box-shadow: 0px 1px 2px rgba(60, 64, 67, 0.3), 0px 1px 3px 1px rgba(60, 64, 67, 0.15);\n",
              "      fill: #174EA6;\n",
              "    }\n",
              "\n",
              "    .colab-df-buttons div {\n",
              "      margin-bottom: 4px;\n",
              "    }\n",
              "\n",
              "    [theme=dark] .colab-df-convert {\n",
              "      background-color: #3B4455;\n",
              "      fill: #D2E3FC;\n",
              "    }\n",
              "\n",
              "    [theme=dark] .colab-df-convert:hover {\n",
              "      background-color: #434B5C;\n",
              "      box-shadow: 0px 1px 3px 1px rgba(0, 0, 0, 0.15);\n",
              "      filter: drop-shadow(0px 1px 2px rgba(0, 0, 0, 0.3));\n",
              "      fill: #FFFFFF;\n",
              "    }\n",
              "  </style>\n",
              "\n",
              "    <script>\n",
              "      const buttonEl =\n",
              "        document.querySelector('#df-841a940c-f67d-4d45-ae70-3736eef9ffca button.colab-df-convert');\n",
              "      buttonEl.style.display =\n",
              "        google.colab.kernel.accessAllowed ? 'block' : 'none';\n",
              "\n",
              "      async function convertToInteractive(key) {\n",
              "        const element = document.querySelector('#df-841a940c-f67d-4d45-ae70-3736eef9ffca');\n",
              "        const dataTable =\n",
              "          await google.colab.kernel.invokeFunction('convertToInteractive',\n",
              "                                                    [key], {});\n",
              "        if (!dataTable) return;\n",
              "\n",
              "        const docLinkHtml = 'Like what you see? Visit the ' +\n",
              "          '<a target=\"_blank\" href=https://colab.research.google.com/notebooks/data_table.ipynb>data table notebook</a>'\n",
              "          + ' to learn more about interactive tables.';\n",
              "        element.innerHTML = '';\n",
              "        dataTable['output_type'] = 'display_data';\n",
              "        await google.colab.output.renderOutput(dataTable, element);\n",
              "        const docLink = document.createElement('div');\n",
              "        docLink.innerHTML = docLinkHtml;\n",
              "        element.appendChild(docLink);\n",
              "      }\n",
              "    </script>\n",
              "  </div>\n",
              "\n",
              "\n",
              "<div id=\"df-48f550d6-6da1-4a6d-b930-13f6bed37714\">\n",
              "  <button class=\"colab-df-quickchart\" onclick=\"quickchart('df-48f550d6-6da1-4a6d-b930-13f6bed37714')\"\n",
              "            title=\"Suggest charts\"\n",
              "            style=\"display:none;\">\n",
              "\n",
              "<svg xmlns=\"http://www.w3.org/2000/svg\" height=\"24px\"viewBox=\"0 0 24 24\"\n",
              "     width=\"24px\">\n",
              "    <g>\n",
              "        <path d=\"M19 3H5c-1.1 0-2 .9-2 2v14c0 1.1.9 2 2 2h14c1.1 0 2-.9 2-2V5c0-1.1-.9-2-2-2zM9 17H7v-7h2v7zm4 0h-2V7h2v10zm4 0h-2v-4h2v4z\"/>\n",
              "    </g>\n",
              "</svg>\n",
              "  </button>\n",
              "\n",
              "<style>\n",
              "  .colab-df-quickchart {\n",
              "      --bg-color: #E8F0FE;\n",
              "      --fill-color: #1967D2;\n",
              "      --hover-bg-color: #E2EBFA;\n",
              "      --hover-fill-color: #174EA6;\n",
              "      --disabled-fill-color: #AAA;\n",
              "      --disabled-bg-color: #DDD;\n",
              "  }\n",
              "\n",
              "  [theme=dark] .colab-df-quickchart {\n",
              "      --bg-color: #3B4455;\n",
              "      --fill-color: #D2E3FC;\n",
              "      --hover-bg-color: #434B5C;\n",
              "      --hover-fill-color: #FFFFFF;\n",
              "      --disabled-bg-color: #3B4455;\n",
              "      --disabled-fill-color: #666;\n",
              "  }\n",
              "\n",
              "  .colab-df-quickchart {\n",
              "    background-color: var(--bg-color);\n",
              "    border: none;\n",
              "    border-radius: 50%;\n",
              "    cursor: pointer;\n",
              "    display: none;\n",
              "    fill: var(--fill-color);\n",
              "    height: 32px;\n",
              "    padding: 0;\n",
              "    width: 32px;\n",
              "  }\n",
              "\n",
              "  .colab-df-quickchart:hover {\n",
              "    background-color: var(--hover-bg-color);\n",
              "    box-shadow: 0 1px 2px rgba(60, 64, 67, 0.3), 0 1px 3px 1px rgba(60, 64, 67, 0.15);\n",
              "    fill: var(--button-hover-fill-color);\n",
              "  }\n",
              "\n",
              "  .colab-df-quickchart-complete:disabled,\n",
              "  .colab-df-quickchart-complete:disabled:hover {\n",
              "    background-color: var(--disabled-bg-color);\n",
              "    fill: var(--disabled-fill-color);\n",
              "    box-shadow: none;\n",
              "  }\n",
              "\n",
              "  .colab-df-spinner {\n",
              "    border: 2px solid var(--fill-color);\n",
              "    border-color: transparent;\n",
              "    border-bottom-color: var(--fill-color);\n",
              "    animation:\n",
              "      spin 1s steps(1) infinite;\n",
              "  }\n",
              "\n",
              "  @keyframes spin {\n",
              "    0% {\n",
              "      border-color: transparent;\n",
              "      border-bottom-color: var(--fill-color);\n",
              "      border-left-color: var(--fill-color);\n",
              "    }\n",
              "    20% {\n",
              "      border-color: transparent;\n",
              "      border-left-color: var(--fill-color);\n",
              "      border-top-color: var(--fill-color);\n",
              "    }\n",
              "    30% {\n",
              "      border-color: transparent;\n",
              "      border-left-color: var(--fill-color);\n",
              "      border-top-color: var(--fill-color);\n",
              "      border-right-color: var(--fill-color);\n",
              "    }\n",
              "    40% {\n",
              "      border-color: transparent;\n",
              "      border-right-color: var(--fill-color);\n",
              "      border-top-color: var(--fill-color);\n",
              "    }\n",
              "    60% {\n",
              "      border-color: transparent;\n",
              "      border-right-color: var(--fill-color);\n",
              "    }\n",
              "    80% {\n",
              "      border-color: transparent;\n",
              "      border-right-color: var(--fill-color);\n",
              "      border-bottom-color: var(--fill-color);\n",
              "    }\n",
              "    90% {\n",
              "      border-color: transparent;\n",
              "      border-bottom-color: var(--fill-color);\n",
              "    }\n",
              "  }\n",
              "</style>\n",
              "\n",
              "  <script>\n",
              "    async function quickchart(key) {\n",
              "      const quickchartButtonEl =\n",
              "        document.querySelector('#' + key + ' button');\n",
              "      quickchartButtonEl.disabled = true;  // To prevent multiple clicks.\n",
              "      quickchartButtonEl.classList.add('colab-df-spinner');\n",
              "      try {\n",
              "        const charts = await google.colab.kernel.invokeFunction(\n",
              "            'suggestCharts', [key], {});\n",
              "      } catch (error) {\n",
              "        console.error('Error during call to suggestCharts:', error);\n",
              "      }\n",
              "      quickchartButtonEl.classList.remove('colab-df-spinner');\n",
              "      quickchartButtonEl.classList.add('colab-df-quickchart-complete');\n",
              "    }\n",
              "    (() => {\n",
              "      let quickchartButtonEl =\n",
              "        document.querySelector('#df-48f550d6-6da1-4a6d-b930-13f6bed37714 button');\n",
              "      quickchartButtonEl.style.display =\n",
              "        google.colab.kernel.accessAllowed ? 'block' : 'none';\n",
              "    })();\n",
              "  </script>\n",
              "</div>\n",
              "\n",
              "    </div>\n",
              "  </div>\n"
            ],
            "application/vnd.google.colaboratory.intrinsic+json": {
              "type": "dataframe",
              "summary": "{\n  \"name\": \"data\",\n  \"rows\": 5,\n  \"fields\": [\n    {\n      \"column\": \"English\",\n      \"properties\": {\n        \"dtype\": \"string\",\n        \"num_unique_values\": 5,\n        \"samples\": [\n          \"Although genetics as a scientific discipline is a recent innovation , practical genetics as an empirical activity for producing food plants and domestic animals , collectively called cultigens , is as ancient as the old Stone Age .\",\n          \"that, in fact, it was a classic charity run by a well-intentioned person,\",\n          \"to read people's thoughts and emotions.\"\n        ],\n        \"semantic_type\": \"\",\n        \"description\": \"\"\n      }\n    },\n    {\n      \"column\": \"Hindi\",\n      \"properties\": {\n        \"dtype\": \"string\",\n        \"num_unique_values\": 5,\n        \"samples\": [\n          \"9 \\u0906\\u0928\\u0941\\u0935\\u0902\\u0936\\u093f\\u0915\\u0924\\u093e \\u0914\\u0930 \\u0915\\u0932\\u090b-\\u090a\\u0923\\u094d\\u0936\\u094d\\u091b\\u094d\\u0937\\u094d-\\u091f\\u093f\\u091c\\u0947\\u0928 \\u0906\\u0928\\u0941\\u0935\\u0902\\u0936\\u093f\\u0915\\u0924\\u093e \\u0935\\u093f&\\u0906\\u0928 \\u0915\\u0940 \\u090f\\u0915 \\u0928\\u0942\\u0924\\u0928 \\u0936\\u093e\\u0916\\u093e \\u0939\\u0948 , \\u092a\\u0930\\u0902\\u0924\\u0941 \\u092b\\u0938\\u0932\\u094b\\u0902 \\u0924\\u0925\\u093e \\u092a\\u093e\\u0932\\u0924\\u0942 \\u092a\\u0936\\u0941\\u0913\\u0902 \\u0915\\u0947 \\u0909\\u0924\\u090b-\\u090a\\u0923\\u094d\\u0936\\u094d\\u091b\\u094d\\u0937\\u094d-\\u092a\\u093e\\u0926\\u0928 \\u092e\\u0947\\u0902 \\u090b\\u0928 \\u0905\\u0928\\u0941\\u092d\\u0935\\u092e\\u0942\\u0932\\u0915 \\u092a\\u0926\\u094d\\u0927\\u0924\\u093f\\u092f\\u094b\\u0902 \\u0915\\u093e \\u0909\\u092a\\u092f\\u094b\\u0917 \\u0915\\u093f\\u092f\\u093e \\u091c\\u093e\\u0924\\u093e \\u0930\\u0939\\u093e \\u0939\\u0948 \\u0935\\u0939 \\u0935\\u090b-\\u090a\\u0923\\u094d\\u0936\\u094d\\u091b\\u094d\\u0937\\u094d-\\u092f\\u093e\\u0935\\u0939\\u093e\\u0930\\u093f\\u0915 \\u0906\\u0928\\u0941\\u0935\\u0902\\u0936\\u093f\\u0915\\u0940 \\u092a\\u093e\\u0937\\u093e\\u0923 \\u092f\\u0941\\u0917 \\u090b\\u0924\\u0928\\u0940 \\u092a\\u0941\\u0930\\u093e\\u0928\\u0940 \\u0939\\u0948 .\",\n          \"\\u092c\\u0932\\u094d\\u0915\\u093f, \\u0935\\u094b \\u090f\\u0915 \\u092a\\u093e\\u0930\\u0902\\u092e\\u094d\\u092a\\u0930\\u093f\\u0915 \\u0927\\u0930\\u094d\\u092e\\u093e\\u0925 \\u0938\\u0902\\u0938\\u094d\\u0925\\u093e \\u0915\\u0940 \\u0924\\u0930\\u0939 \\u090f\\u0915 \\u0905\\u091a\\u094d\\u091b\\u0940 \\u0928\\u093f\\u092f\\u0924 \\u0935\\u093e\\u0932\\u0947 \\u0935\\u094d\\u092f\\u0915\\u094d\\u0924\\u093f \\u0926\\u094d\\u0935\\u093e\\u0930 \\u091a\\u0932\\u093e\\u092f\\u0940 \\u091c\\u093e\\u0924\\u0940 \\u0925\\u0940\",\n          \"\\u0932\\u094b\\u0917\\u094b\\u0902 \\u0915\\u0947 \\u0935\\u093f\\u091a\\u093e\\u0930\\u094b\\u0902 \\u0914\\u0930 \\u092d\\u093e\\u0935\\u0928\\u093e\\u0913\\u0902 \\u0915\\u094b \\u092a\\u0922\\u093c\\u0928\\u0947 \\u0915\\u0947 \\u0932\\u093f\\u090f\\u0964\"\n        ],\n        \"semantic_type\": \"\",\n        \"description\": \"\"\n      }\n    }\n  ]\n}"
            }
          },
          "metadata": {},
          "execution_count": 7
        }
      ],
      "source": [
        "data.sample(5)"
      ]
    },
    {
      "cell_type": "markdown",
      "id": "af8a9cc7",
      "metadata": {
        "papermill": {
          "duration": 0.023508,
          "end_time": "2024-09-19T09:25:32.643366",
          "exception": false,
          "start_time": "2024-09-19T09:25:32.619858",
          "status": "completed"
        },
        "tags": [],
        "id": "af8a9cc7"
      },
      "source": [
        "<a id='3'></a>\n",
        "# 3 | Data Exploration\n",
        "\n",
        "<div style=\"padding: 4px;color:white;margin:10;font-size:200%;text-align:center;display:fill;border-radius:10px;overflow:hidden;background-image: url(https://i.postimg.cc/fTDmwnkQ/Miaka.png); background-size: 100% auto;\"></div>\n"
      ]
    },
    {
      "cell_type": "markdown",
      "id": "a31e81df",
      "metadata": {
        "execution": {
          "iopub.execute_input": "2024-07-07T14:15:32.369273Z",
          "iopub.status.busy": "2024-07-07T14:15:32.368708Z",
          "iopub.status.idle": "2024-07-07T14:15:32.379257Z",
          "shell.execute_reply": "2024-07-07T14:15:32.377314Z",
          "shell.execute_reply.started": "2024-07-07T14:15:32.369235Z"
        },
        "papermill": {
          "duration": 0.02344,
          "end_time": "2024-09-19T09:25:32.690845",
          "exception": false,
          "start_time": "2024-09-19T09:25:32.667405",
          "status": "completed"
        },
        "tags": [],
        "id": "a31e81df"
      },
      "source": [
        "<a id='3.1'></a>\n",
        "#### 3.1. Computing Dimension of Dataset"
      ]
    },
    {
      "cell_type": "code",
      "execution_count": 7,
      "id": "f0755406",
      "metadata": {
        "execution": {
          "iopub.execute_input": "2024-09-19T09:25:32.742350Z",
          "iopub.status.busy": "2024-09-19T09:25:32.741392Z",
          "iopub.status.idle": "2024-09-19T09:25:32.747317Z",
          "shell.execute_reply": "2024-09-19T09:25:32.746280Z"
        },
        "papermill": {
          "duration": 0.033858,
          "end_time": "2024-09-19T09:25:32.749371",
          "exception": false,
          "start_time": "2024-09-19T09:25:32.715513",
          "status": "completed"
        },
        "tags": [],
        "id": "f0755406",
        "outputId": "0f3537bd-7dd5-4287-ac02-39c28d8ea25c",
        "colab": {
          "base_uri": "https://localhost:8080/"
        }
      },
      "outputs": [
        {
          "output_type": "stream",
          "name": "stdout",
          "text": [
            "dataset shape:  (14993, 2)\n"
          ]
        }
      ],
      "source": [
        "print(\"dataset shape: \",data.shape)"
      ]
    },
    {
      "cell_type": "markdown",
      "id": "f423ac3b",
      "metadata": {
        "papermill": {
          "duration": 0.023744,
          "end_time": "2024-09-19T09:25:32.797387",
          "exception": false,
          "start_time": "2024-09-19T09:25:32.773643",
          "status": "completed"
        },
        "tags": [],
        "id": "f423ac3b"
      },
      "source": [
        "<div style=\"border-radius:10px; border:#808080 dashed; padding: 15px; background-color: ##F0E68C ; font-size:100%; text-align:left\">\n",
        "\n",
        "<h3 align=\"left\"><font color=brown> Inference:</font></h3>\n",
        "\n",
        "* There is total **1561841 records** and **2 columns** availabe in the data."
      ]
    },
    {
      "cell_type": "markdown",
      "id": "80169b54",
      "metadata": {
        "execution": {
          "iopub.execute_input": "2024-07-07T14:16:38.504356Z",
          "iopub.status.busy": "2024-07-07T14:16:38.503878Z",
          "iopub.status.idle": "2024-07-07T14:16:38.512008Z",
          "shell.execute_reply": "2024-07-07T14:16:38.510486Z",
          "shell.execute_reply.started": "2024-07-07T14:16:38.504322Z"
        },
        "papermill": {
          "duration": 0.023901,
          "end_time": "2024-09-19T09:25:32.845016",
          "exception": false,
          "start_time": "2024-09-19T09:25:32.821115",
          "status": "completed"
        },
        "tags": [],
        "id": "80169b54"
      },
      "source": [
        "<a id='3.2'></a>\n",
        "#### 3.2. Statistical Summary of Dataset"
      ]
    },
    {
      "cell_type": "code",
      "execution_count": 8,
      "id": "0859c169",
      "metadata": {
        "execution": {
          "iopub.execute_input": "2024-09-19T09:25:32.895460Z",
          "iopub.status.busy": "2024-09-19T09:25:32.894670Z",
          "iopub.status.idle": "2024-09-19T09:25:32.954598Z",
          "shell.execute_reply": "2024-09-19T09:25:32.953514Z"
        },
        "papermill": {
          "duration": 0.088054,
          "end_time": "2024-09-19T09:25:32.957178",
          "exception": false,
          "start_time": "2024-09-19T09:25:32.869124",
          "status": "completed"
        },
        "tags": [],
        "id": "0859c169",
        "outputId": "83d817bf-f6ce-413e-9e70-fa7444f2fefc",
        "colab": {
          "base_uri": "https://localhost:8080/"
        }
      },
      "outputs": [
        {
          "output_type": "stream",
          "name": "stdout",
          "text": [
            "<class 'pandas.core.frame.DataFrame'>\n",
            "RangeIndex: 14993 entries, 0 to 14992\n",
            "Data columns (total 2 columns):\n",
            " #   Column   Non-Null Count  Dtype \n",
            "---  ------   --------------  ----- \n",
            " 0   English  14993 non-null  object\n",
            " 1   Hindi    14965 non-null  object\n",
            "dtypes: object(2)\n",
            "memory usage: 234.4+ KB\n"
          ]
        }
      ],
      "source": [
        "data.info()"
      ]
    },
    {
      "cell_type": "markdown",
      "id": "ff6edc53",
      "metadata": {
        "execution": {
          "iopub.execute_input": "2024-07-07T14:17:27.249131Z",
          "iopub.status.busy": "2024-07-07T14:17:27.248099Z",
          "iopub.status.idle": "2024-07-07T14:17:27.255988Z",
          "shell.execute_reply": "2024-07-07T14:17:27.254528Z",
          "shell.execute_reply.started": "2024-07-07T14:17:27.249087Z"
        },
        "papermill": {
          "duration": 0.023847,
          "end_time": "2024-09-19T09:25:33.007938",
          "exception": false,
          "start_time": "2024-09-19T09:25:32.984091",
          "status": "completed"
        },
        "tags": [],
        "id": "ff6edc53"
      },
      "source": [
        "<a id='3.3'></a>\n",
        "#### 3.3. Checking if There's Any Duplicate Records."
      ]
    },
    {
      "cell_type": "code",
      "execution_count": 9,
      "id": "928d461d",
      "metadata": {
        "execution": {
          "iopub.execute_input": "2024-09-19T09:25:33.057916Z",
          "iopub.status.busy": "2024-09-19T09:25:33.056937Z",
          "iopub.status.idle": "2024-09-19T09:25:33.161016Z",
          "shell.execute_reply": "2024-09-19T09:25:33.159953Z"
        },
        "papermill": {
          "duration": 0.13172,
          "end_time": "2024-09-19T09:25:33.163580",
          "exception": false,
          "start_time": "2024-09-19T09:25:33.031860",
          "status": "completed"
        },
        "tags": [],
        "id": "928d461d",
        "outputId": "f2131532-d5ec-415b-f44a-d0a0780602cf",
        "colab": {
          "base_uri": "https://localhost:8080/"
        }
      },
      "outputs": [
        {
          "output_type": "stream",
          "name": "stdout",
          "text": [
            "Duplicates in Dataset:  127\n"
          ]
        }
      ],
      "source": [
        "print(\"Duplicates in Dataset: \",data.duplicated().sum())"
      ]
    },
    {
      "cell_type": "markdown",
      "id": "173873db",
      "metadata": {
        "papermill": {
          "duration": 0.024268,
          "end_time": "2024-09-19T09:25:33.217630",
          "exception": false,
          "start_time": "2024-09-19T09:25:33.193362",
          "status": "completed"
        },
        "tags": [],
        "id": "173873db"
      },
      "source": [
        "<a id='3.4'></a>\n",
        "#### 3.4. Computing Total No. of Missing Values and the Percentage of Missing Values"
      ]
    },
    {
      "cell_type": "code",
      "execution_count": 10,
      "id": "e5d41c3e",
      "metadata": {
        "execution": {
          "iopub.execute_input": "2024-09-19T09:25:33.269586Z",
          "iopub.status.busy": "2024-09-19T09:25:33.268961Z",
          "iopub.status.idle": "2024-09-19T09:25:33.310942Z",
          "shell.execute_reply": "2024-09-19T09:25:33.309986Z"
        },
        "papermill": {
          "duration": 0.070673,
          "end_time": "2024-09-19T09:25:33.312955",
          "exception": false,
          "start_time": "2024-09-19T09:25:33.242282",
          "status": "completed"
        },
        "tags": [],
        "id": "e5d41c3e",
        "outputId": "3bb31618-230a-4763-9a9a-afac3c8bb66d",
        "colab": {
          "base_uri": "https://localhost:8080/",
          "height": 125
        }
      },
      "outputs": [
        {
          "output_type": "execute_result",
          "data": {
            "text/plain": [
              "         Total No. of Missing Values  % of Missing Values\n",
              "English                            0                 0.00\n",
              "Hindi                             28                 0.19"
            ],
            "text/html": [
              "\n",
              "  <div id=\"df-e2810ee4-9a38-43aa-8c1b-1a1e5159c8f4\" class=\"colab-df-container\">\n",
              "    <div>\n",
              "<style scoped>\n",
              "    .dataframe tbody tr th:only-of-type {\n",
              "        vertical-align: middle;\n",
              "    }\n",
              "\n",
              "    .dataframe tbody tr th {\n",
              "        vertical-align: top;\n",
              "    }\n",
              "\n",
              "    .dataframe thead th {\n",
              "        text-align: right;\n",
              "    }\n",
              "</style>\n",
              "<table border=\"1\" class=\"dataframe\">\n",
              "  <thead>\n",
              "    <tr style=\"text-align: right;\">\n",
              "      <th></th>\n",
              "      <th>Total No. of Missing Values</th>\n",
              "      <th>% of Missing Values</th>\n",
              "    </tr>\n",
              "  </thead>\n",
              "  <tbody>\n",
              "    <tr>\n",
              "      <th>English</th>\n",
              "      <td>0</td>\n",
              "      <td>0.00</td>\n",
              "    </tr>\n",
              "    <tr>\n",
              "      <th>Hindi</th>\n",
              "      <td>28</td>\n",
              "      <td>0.19</td>\n",
              "    </tr>\n",
              "  </tbody>\n",
              "</table>\n",
              "</div>\n",
              "    <div class=\"colab-df-buttons\">\n",
              "\n",
              "  <div class=\"colab-df-container\">\n",
              "    <button class=\"colab-df-convert\" onclick=\"convertToInteractive('df-e2810ee4-9a38-43aa-8c1b-1a1e5159c8f4')\"\n",
              "            title=\"Convert this dataframe to an interactive table.\"\n",
              "            style=\"display:none;\">\n",
              "\n",
              "  <svg xmlns=\"http://www.w3.org/2000/svg\" height=\"24px\" viewBox=\"0 -960 960 960\">\n",
              "    <path d=\"M120-120v-720h720v720H120Zm60-500h600v-160H180v160Zm220 220h160v-160H400v160Zm0 220h160v-160H400v160ZM180-400h160v-160H180v160Zm440 0h160v-160H620v160ZM180-180h160v-160H180v160Zm440 0h160v-160H620v160Z\"/>\n",
              "  </svg>\n",
              "    </button>\n",
              "\n",
              "  <style>\n",
              "    .colab-df-container {\n",
              "      display:flex;\n",
              "      gap: 12px;\n",
              "    }\n",
              "\n",
              "    .colab-df-convert {\n",
              "      background-color: #E8F0FE;\n",
              "      border: none;\n",
              "      border-radius: 50%;\n",
              "      cursor: pointer;\n",
              "      display: none;\n",
              "      fill: #1967D2;\n",
              "      height: 32px;\n",
              "      padding: 0 0 0 0;\n",
              "      width: 32px;\n",
              "    }\n",
              "\n",
              "    .colab-df-convert:hover {\n",
              "      background-color: #E2EBFA;\n",
              "      box-shadow: 0px 1px 2px rgba(60, 64, 67, 0.3), 0px 1px 3px 1px rgba(60, 64, 67, 0.15);\n",
              "      fill: #174EA6;\n",
              "    }\n",
              "\n",
              "    .colab-df-buttons div {\n",
              "      margin-bottom: 4px;\n",
              "    }\n",
              "\n",
              "    [theme=dark] .colab-df-convert {\n",
              "      background-color: #3B4455;\n",
              "      fill: #D2E3FC;\n",
              "    }\n",
              "\n",
              "    [theme=dark] .colab-df-convert:hover {\n",
              "      background-color: #434B5C;\n",
              "      box-shadow: 0px 1px 3px 1px rgba(0, 0, 0, 0.15);\n",
              "      filter: drop-shadow(0px 1px 2px rgba(0, 0, 0, 0.3));\n",
              "      fill: #FFFFFF;\n",
              "    }\n",
              "  </style>\n",
              "\n",
              "    <script>\n",
              "      const buttonEl =\n",
              "        document.querySelector('#df-e2810ee4-9a38-43aa-8c1b-1a1e5159c8f4 button.colab-df-convert');\n",
              "      buttonEl.style.display =\n",
              "        google.colab.kernel.accessAllowed ? 'block' : 'none';\n",
              "\n",
              "      async function convertToInteractive(key) {\n",
              "        const element = document.querySelector('#df-e2810ee4-9a38-43aa-8c1b-1a1e5159c8f4');\n",
              "        const dataTable =\n",
              "          await google.colab.kernel.invokeFunction('convertToInteractive',\n",
              "                                                    [key], {});\n",
              "        if (!dataTable) return;\n",
              "\n",
              "        const docLinkHtml = 'Like what you see? Visit the ' +\n",
              "          '<a target=\"_blank\" href=https://colab.research.google.com/notebooks/data_table.ipynb>data table notebook</a>'\n",
              "          + ' to learn more about interactive tables.';\n",
              "        element.innerHTML = '';\n",
              "        dataTable['output_type'] = 'display_data';\n",
              "        await google.colab.output.renderOutput(dataTable, element);\n",
              "        const docLink = document.createElement('div');\n",
              "        docLink.innerHTML = docLinkHtml;\n",
              "        element.appendChild(docLink);\n",
              "      }\n",
              "    </script>\n",
              "  </div>\n",
              "\n",
              "\n",
              "<div id=\"df-2921d7c8-0af2-4ee2-a1fd-5324322c547f\">\n",
              "  <button class=\"colab-df-quickchart\" onclick=\"quickchart('df-2921d7c8-0af2-4ee2-a1fd-5324322c547f')\"\n",
              "            title=\"Suggest charts\"\n",
              "            style=\"display:none;\">\n",
              "\n",
              "<svg xmlns=\"http://www.w3.org/2000/svg\" height=\"24px\"viewBox=\"0 0 24 24\"\n",
              "     width=\"24px\">\n",
              "    <g>\n",
              "        <path d=\"M19 3H5c-1.1 0-2 .9-2 2v14c0 1.1.9 2 2 2h14c1.1 0 2-.9 2-2V5c0-1.1-.9-2-2-2zM9 17H7v-7h2v7zm4 0h-2V7h2v10zm4 0h-2v-4h2v4z\"/>\n",
              "    </g>\n",
              "</svg>\n",
              "  </button>\n",
              "\n",
              "<style>\n",
              "  .colab-df-quickchart {\n",
              "      --bg-color: #E8F0FE;\n",
              "      --fill-color: #1967D2;\n",
              "      --hover-bg-color: #E2EBFA;\n",
              "      --hover-fill-color: #174EA6;\n",
              "      --disabled-fill-color: #AAA;\n",
              "      --disabled-bg-color: #DDD;\n",
              "  }\n",
              "\n",
              "  [theme=dark] .colab-df-quickchart {\n",
              "      --bg-color: #3B4455;\n",
              "      --fill-color: #D2E3FC;\n",
              "      --hover-bg-color: #434B5C;\n",
              "      --hover-fill-color: #FFFFFF;\n",
              "      --disabled-bg-color: #3B4455;\n",
              "      --disabled-fill-color: #666;\n",
              "  }\n",
              "\n",
              "  .colab-df-quickchart {\n",
              "    background-color: var(--bg-color);\n",
              "    border: none;\n",
              "    border-radius: 50%;\n",
              "    cursor: pointer;\n",
              "    display: none;\n",
              "    fill: var(--fill-color);\n",
              "    height: 32px;\n",
              "    padding: 0;\n",
              "    width: 32px;\n",
              "  }\n",
              "\n",
              "  .colab-df-quickchart:hover {\n",
              "    background-color: var(--hover-bg-color);\n",
              "    box-shadow: 0 1px 2px rgba(60, 64, 67, 0.3), 0 1px 3px 1px rgba(60, 64, 67, 0.15);\n",
              "    fill: var(--button-hover-fill-color);\n",
              "  }\n",
              "\n",
              "  .colab-df-quickchart-complete:disabled,\n",
              "  .colab-df-quickchart-complete:disabled:hover {\n",
              "    background-color: var(--disabled-bg-color);\n",
              "    fill: var(--disabled-fill-color);\n",
              "    box-shadow: none;\n",
              "  }\n",
              "\n",
              "  .colab-df-spinner {\n",
              "    border: 2px solid var(--fill-color);\n",
              "    border-color: transparent;\n",
              "    border-bottom-color: var(--fill-color);\n",
              "    animation:\n",
              "      spin 1s steps(1) infinite;\n",
              "  }\n",
              "\n",
              "  @keyframes spin {\n",
              "    0% {\n",
              "      border-color: transparent;\n",
              "      border-bottom-color: var(--fill-color);\n",
              "      border-left-color: var(--fill-color);\n",
              "    }\n",
              "    20% {\n",
              "      border-color: transparent;\n",
              "      border-left-color: var(--fill-color);\n",
              "      border-top-color: var(--fill-color);\n",
              "    }\n",
              "    30% {\n",
              "      border-color: transparent;\n",
              "      border-left-color: var(--fill-color);\n",
              "      border-top-color: var(--fill-color);\n",
              "      border-right-color: var(--fill-color);\n",
              "    }\n",
              "    40% {\n",
              "      border-color: transparent;\n",
              "      border-right-color: var(--fill-color);\n",
              "      border-top-color: var(--fill-color);\n",
              "    }\n",
              "    60% {\n",
              "      border-color: transparent;\n",
              "      border-right-color: var(--fill-color);\n",
              "    }\n",
              "    80% {\n",
              "      border-color: transparent;\n",
              "      border-right-color: var(--fill-color);\n",
              "      border-bottom-color: var(--fill-color);\n",
              "    }\n",
              "    90% {\n",
              "      border-color: transparent;\n",
              "      border-bottom-color: var(--fill-color);\n",
              "    }\n",
              "  }\n",
              "</style>\n",
              "\n",
              "  <script>\n",
              "    async function quickchart(key) {\n",
              "      const quickchartButtonEl =\n",
              "        document.querySelector('#' + key + ' button');\n",
              "      quickchartButtonEl.disabled = true;  // To prevent multiple clicks.\n",
              "      quickchartButtonEl.classList.add('colab-df-spinner');\n",
              "      try {\n",
              "        const charts = await google.colab.kernel.invokeFunction(\n",
              "            'suggestCharts', [key], {});\n",
              "      } catch (error) {\n",
              "        console.error('Error during call to suggestCharts:', error);\n",
              "      }\n",
              "      quickchartButtonEl.classList.remove('colab-df-spinner');\n",
              "      quickchartButtonEl.classList.add('colab-df-quickchart-complete');\n",
              "    }\n",
              "    (() => {\n",
              "      let quickchartButtonEl =\n",
              "        document.querySelector('#df-2921d7c8-0af2-4ee2-a1fd-5324322c547f button');\n",
              "      quickchartButtonEl.style.display =\n",
              "        google.colab.kernel.accessAllowed ? 'block' : 'none';\n",
              "    })();\n",
              "  </script>\n",
              "</div>\n",
              "\n",
              "  <div id=\"id_387cc47c-f077-4bd6-b3d8-31200410ec98\">\n",
              "    <style>\n",
              "      .colab-df-generate {\n",
              "        background-color: #E8F0FE;\n",
              "        border: none;\n",
              "        border-radius: 50%;\n",
              "        cursor: pointer;\n",
              "        display: none;\n",
              "        fill: #1967D2;\n",
              "        height: 32px;\n",
              "        padding: 0 0 0 0;\n",
              "        width: 32px;\n",
              "      }\n",
              "\n",
              "      .colab-df-generate:hover {\n",
              "        background-color: #E2EBFA;\n",
              "        box-shadow: 0px 1px 2px rgba(60, 64, 67, 0.3), 0px 1px 3px 1px rgba(60, 64, 67, 0.15);\n",
              "        fill: #174EA6;\n",
              "      }\n",
              "\n",
              "      [theme=dark] .colab-df-generate {\n",
              "        background-color: #3B4455;\n",
              "        fill: #D2E3FC;\n",
              "      }\n",
              "\n",
              "      [theme=dark] .colab-df-generate:hover {\n",
              "        background-color: #434B5C;\n",
              "        box-shadow: 0px 1px 3px 1px rgba(0, 0, 0, 0.15);\n",
              "        filter: drop-shadow(0px 1px 2px rgba(0, 0, 0, 0.3));\n",
              "        fill: #FFFFFF;\n",
              "      }\n",
              "    </style>\n",
              "    <button class=\"colab-df-generate\" onclick=\"generateWithVariable('missing_data')\"\n",
              "            title=\"Generate code using this dataframe.\"\n",
              "            style=\"display:none;\">\n",
              "\n",
              "  <svg xmlns=\"http://www.w3.org/2000/svg\" height=\"24px\"viewBox=\"0 0 24 24\"\n",
              "       width=\"24px\">\n",
              "    <path d=\"M7,19H8.4L18.45,9,17,7.55,7,17.6ZM5,21V16.75L18.45,3.32a2,2,0,0,1,2.83,0l1.4,1.43a1.91,1.91,0,0,1,.58,1.4,1.91,1.91,0,0,1-.58,1.4L9.25,21ZM18.45,9,17,7.55Zm-12,3A5.31,5.31,0,0,0,4.9,8.1,5.31,5.31,0,0,0,1,6.5,5.31,5.31,0,0,0,4.9,4.9,5.31,5.31,0,0,0,6.5,1,5.31,5.31,0,0,0,8.1,4.9,5.31,5.31,0,0,0,12,6.5,5.46,5.46,0,0,0,6.5,12Z\"/>\n",
              "  </svg>\n",
              "    </button>\n",
              "    <script>\n",
              "      (() => {\n",
              "      const buttonEl =\n",
              "        document.querySelector('#id_387cc47c-f077-4bd6-b3d8-31200410ec98 button.colab-df-generate');\n",
              "      buttonEl.style.display =\n",
              "        google.colab.kernel.accessAllowed ? 'block' : 'none';\n",
              "\n",
              "      buttonEl.onclick = () => {\n",
              "        google.colab.notebook.generateWithVariable('missing_data');\n",
              "      }\n",
              "      })();\n",
              "    </script>\n",
              "  </div>\n",
              "\n",
              "    </div>\n",
              "  </div>\n"
            ],
            "application/vnd.google.colaboratory.intrinsic+json": {
              "type": "dataframe",
              "variable_name": "missing_data",
              "summary": "{\n  \"name\": \"missing_data\",\n  \"rows\": 2,\n  \"fields\": [\n    {\n      \"column\": \"Total No. of Missing Values\",\n      \"properties\": {\n        \"dtype\": \"number\",\n        \"std\": 19,\n        \"min\": 0,\n        \"max\": 28,\n        \"num_unique_values\": 2,\n        \"samples\": [\n          28,\n          0\n        ],\n        \"semantic_type\": \"\",\n        \"description\": \"\"\n      }\n    },\n    {\n      \"column\": \"% of Missing Values\",\n      \"properties\": {\n        \"dtype\": \"number\",\n        \"std\": 0.13435028842544403,\n        \"min\": 0.0,\n        \"max\": 0.19,\n        \"num_unique_values\": 2,\n        \"samples\": [\n          0.19,\n          0.0\n        ],\n        \"semantic_type\": \"\",\n        \"description\": \"\"\n      }\n    }\n  ]\n}"
            }
          },
          "metadata": {},
          "execution_count": 10
        }
      ],
      "source": [
        "missing_data = data.isnull().sum().to_frame().rename(columns={0:\"Total No. of Missing Values\"})\n",
        "missing_data[\"% of Missing Values\"] = round((missing_data[\"Total No. of Missing Values\"]/len(data))*100,2)\n",
        "missing_data"
      ]
    },
    {
      "cell_type": "markdown",
      "id": "f197533f",
      "metadata": {
        "papermill": {
          "duration": 0.024271,
          "end_time": "2024-09-19T09:25:33.362140",
          "exception": false,
          "start_time": "2024-09-19T09:25:33.337869",
          "status": "completed"
        },
        "tags": [],
        "id": "f197533f"
      },
      "source": [
        "<div style=\"border-radius:10px; border:#808080 dashed; padding: 15px; background-color: ##F0E68C ; font-size:100%; text-align:left\">\n",
        "\n",
        "<h3 align=\"left\"><font color=brown> Inference:</font></h3>\n",
        "\n",
        "* Some of the Attribute are having Missing Values.  "
      ]
    },
    {
      "cell_type": "markdown",
      "id": "08c2f345",
      "metadata": {
        "papermill": {
          "duration": 0.024001,
          "end_time": "2024-09-19T09:25:33.411536",
          "exception": false,
          "start_time": "2024-09-19T09:25:33.387535",
          "status": "completed"
        },
        "tags": [],
        "id": "08c2f345"
      },
      "source": [
        "<a id='3.5'></a>\n",
        "#### 3.5. Performing Descriptive Analysis"
      ]
    },
    {
      "cell_type": "code",
      "execution_count": 11,
      "id": "6f27fa96",
      "metadata": {
        "execution": {
          "iopub.execute_input": "2024-09-19T09:25:33.461804Z",
          "iopub.status.busy": "2024-09-19T09:25:33.461054Z",
          "iopub.status.idle": "2024-09-19T09:25:33.663962Z",
          "shell.execute_reply": "2024-09-19T09:25:33.663050Z"
        },
        "papermill": {
          "duration": 0.231666,
          "end_time": "2024-09-19T09:25:33.667580",
          "exception": false,
          "start_time": "2024-09-19T09:25:33.435914",
          "status": "completed"
        },
        "tags": [],
        "id": "6f27fa96",
        "outputId": "7e9fa884-0bd0-43b7-cdec-8a2ea924ed96",
        "colab": {
          "base_uri": "https://localhost:8080/",
          "height": 112
        }
      },
      "outputs": [
        {
          "output_type": "execute_result",
          "data": {
            "text/plain": [
              "         count unique         top freq\n",
              "English  14993  14611  (Laughter)   66\n",
              "Hindi    14965  14212      (हँसी)   26"
            ],
            "text/html": [
              "\n",
              "  <div id=\"df-1c272240-df6d-40e7-a5c4-5652c5c581e7\" class=\"colab-df-container\">\n",
              "    <div>\n",
              "<style scoped>\n",
              "    .dataframe tbody tr th:only-of-type {\n",
              "        vertical-align: middle;\n",
              "    }\n",
              "\n",
              "    .dataframe tbody tr th {\n",
              "        vertical-align: top;\n",
              "    }\n",
              "\n",
              "    .dataframe thead th {\n",
              "        text-align: right;\n",
              "    }\n",
              "</style>\n",
              "<table border=\"1\" class=\"dataframe\">\n",
              "  <thead>\n",
              "    <tr style=\"text-align: right;\">\n",
              "      <th></th>\n",
              "      <th>count</th>\n",
              "      <th>unique</th>\n",
              "      <th>top</th>\n",
              "      <th>freq</th>\n",
              "    </tr>\n",
              "  </thead>\n",
              "  <tbody>\n",
              "    <tr>\n",
              "      <th>English</th>\n",
              "      <td>14993</td>\n",
              "      <td>14611</td>\n",
              "      <td>(Laughter)</td>\n",
              "      <td>66</td>\n",
              "    </tr>\n",
              "    <tr>\n",
              "      <th>Hindi</th>\n",
              "      <td>14965</td>\n",
              "      <td>14212</td>\n",
              "      <td>(हँसी)</td>\n",
              "      <td>26</td>\n",
              "    </tr>\n",
              "  </tbody>\n",
              "</table>\n",
              "</div>\n",
              "    <div class=\"colab-df-buttons\">\n",
              "\n",
              "  <div class=\"colab-df-container\">\n",
              "    <button class=\"colab-df-convert\" onclick=\"convertToInteractive('df-1c272240-df6d-40e7-a5c4-5652c5c581e7')\"\n",
              "            title=\"Convert this dataframe to an interactive table.\"\n",
              "            style=\"display:none;\">\n",
              "\n",
              "  <svg xmlns=\"http://www.w3.org/2000/svg\" height=\"24px\" viewBox=\"0 -960 960 960\">\n",
              "    <path d=\"M120-120v-720h720v720H120Zm60-500h600v-160H180v160Zm220 220h160v-160H400v160Zm0 220h160v-160H400v160ZM180-400h160v-160H180v160Zm440 0h160v-160H620v160ZM180-180h160v-160H180v160Zm440 0h160v-160H620v160Z\"/>\n",
              "  </svg>\n",
              "    </button>\n",
              "\n",
              "  <style>\n",
              "    .colab-df-container {\n",
              "      display:flex;\n",
              "      gap: 12px;\n",
              "    }\n",
              "\n",
              "    .colab-df-convert {\n",
              "      background-color: #E8F0FE;\n",
              "      border: none;\n",
              "      border-radius: 50%;\n",
              "      cursor: pointer;\n",
              "      display: none;\n",
              "      fill: #1967D2;\n",
              "      height: 32px;\n",
              "      padding: 0 0 0 0;\n",
              "      width: 32px;\n",
              "    }\n",
              "\n",
              "    .colab-df-convert:hover {\n",
              "      background-color: #E2EBFA;\n",
              "      box-shadow: 0px 1px 2px rgba(60, 64, 67, 0.3), 0px 1px 3px 1px rgba(60, 64, 67, 0.15);\n",
              "      fill: #174EA6;\n",
              "    }\n",
              "\n",
              "    .colab-df-buttons div {\n",
              "      margin-bottom: 4px;\n",
              "    }\n",
              "\n",
              "    [theme=dark] .colab-df-convert {\n",
              "      background-color: #3B4455;\n",
              "      fill: #D2E3FC;\n",
              "    }\n",
              "\n",
              "    [theme=dark] .colab-df-convert:hover {\n",
              "      background-color: #434B5C;\n",
              "      box-shadow: 0px 1px 3px 1px rgba(0, 0, 0, 0.15);\n",
              "      filter: drop-shadow(0px 1px 2px rgba(0, 0, 0, 0.3));\n",
              "      fill: #FFFFFF;\n",
              "    }\n",
              "  </style>\n",
              "\n",
              "    <script>\n",
              "      const buttonEl =\n",
              "        document.querySelector('#df-1c272240-df6d-40e7-a5c4-5652c5c581e7 button.colab-df-convert');\n",
              "      buttonEl.style.display =\n",
              "        google.colab.kernel.accessAllowed ? 'block' : 'none';\n",
              "\n",
              "      async function convertToInteractive(key) {\n",
              "        const element = document.querySelector('#df-1c272240-df6d-40e7-a5c4-5652c5c581e7');\n",
              "        const dataTable =\n",
              "          await google.colab.kernel.invokeFunction('convertToInteractive',\n",
              "                                                    [key], {});\n",
              "        if (!dataTable) return;\n",
              "\n",
              "        const docLinkHtml = 'Like what you see? Visit the ' +\n",
              "          '<a target=\"_blank\" href=https://colab.research.google.com/notebooks/data_table.ipynb>data table notebook</a>'\n",
              "          + ' to learn more about interactive tables.';\n",
              "        element.innerHTML = '';\n",
              "        dataTable['output_type'] = 'display_data';\n",
              "        await google.colab.output.renderOutput(dataTable, element);\n",
              "        const docLink = document.createElement('div');\n",
              "        docLink.innerHTML = docLinkHtml;\n",
              "        element.appendChild(docLink);\n",
              "      }\n",
              "    </script>\n",
              "  </div>\n",
              "\n",
              "\n",
              "<div id=\"df-bd0c3d09-33fe-4773-9a1e-918a167a1ca1\">\n",
              "  <button class=\"colab-df-quickchart\" onclick=\"quickchart('df-bd0c3d09-33fe-4773-9a1e-918a167a1ca1')\"\n",
              "            title=\"Suggest charts\"\n",
              "            style=\"display:none;\">\n",
              "\n",
              "<svg xmlns=\"http://www.w3.org/2000/svg\" height=\"24px\"viewBox=\"0 0 24 24\"\n",
              "     width=\"24px\">\n",
              "    <g>\n",
              "        <path d=\"M19 3H5c-1.1 0-2 .9-2 2v14c0 1.1.9 2 2 2h14c1.1 0 2-.9 2-2V5c0-1.1-.9-2-2-2zM9 17H7v-7h2v7zm4 0h-2V7h2v10zm4 0h-2v-4h2v4z\"/>\n",
              "    </g>\n",
              "</svg>\n",
              "  </button>\n",
              "\n",
              "<style>\n",
              "  .colab-df-quickchart {\n",
              "      --bg-color: #E8F0FE;\n",
              "      --fill-color: #1967D2;\n",
              "      --hover-bg-color: #E2EBFA;\n",
              "      --hover-fill-color: #174EA6;\n",
              "      --disabled-fill-color: #AAA;\n",
              "      --disabled-bg-color: #DDD;\n",
              "  }\n",
              "\n",
              "  [theme=dark] .colab-df-quickchart {\n",
              "      --bg-color: #3B4455;\n",
              "      --fill-color: #D2E3FC;\n",
              "      --hover-bg-color: #434B5C;\n",
              "      --hover-fill-color: #FFFFFF;\n",
              "      --disabled-bg-color: #3B4455;\n",
              "      --disabled-fill-color: #666;\n",
              "  }\n",
              "\n",
              "  .colab-df-quickchart {\n",
              "    background-color: var(--bg-color);\n",
              "    border: none;\n",
              "    border-radius: 50%;\n",
              "    cursor: pointer;\n",
              "    display: none;\n",
              "    fill: var(--fill-color);\n",
              "    height: 32px;\n",
              "    padding: 0;\n",
              "    width: 32px;\n",
              "  }\n",
              "\n",
              "  .colab-df-quickchart:hover {\n",
              "    background-color: var(--hover-bg-color);\n",
              "    box-shadow: 0 1px 2px rgba(60, 64, 67, 0.3), 0 1px 3px 1px rgba(60, 64, 67, 0.15);\n",
              "    fill: var(--button-hover-fill-color);\n",
              "  }\n",
              "\n",
              "  .colab-df-quickchart-complete:disabled,\n",
              "  .colab-df-quickchart-complete:disabled:hover {\n",
              "    background-color: var(--disabled-bg-color);\n",
              "    fill: var(--disabled-fill-color);\n",
              "    box-shadow: none;\n",
              "  }\n",
              "\n",
              "  .colab-df-spinner {\n",
              "    border: 2px solid var(--fill-color);\n",
              "    border-color: transparent;\n",
              "    border-bottom-color: var(--fill-color);\n",
              "    animation:\n",
              "      spin 1s steps(1) infinite;\n",
              "  }\n",
              "\n",
              "  @keyframes spin {\n",
              "    0% {\n",
              "      border-color: transparent;\n",
              "      border-bottom-color: var(--fill-color);\n",
              "      border-left-color: var(--fill-color);\n",
              "    }\n",
              "    20% {\n",
              "      border-color: transparent;\n",
              "      border-left-color: var(--fill-color);\n",
              "      border-top-color: var(--fill-color);\n",
              "    }\n",
              "    30% {\n",
              "      border-color: transparent;\n",
              "      border-left-color: var(--fill-color);\n",
              "      border-top-color: var(--fill-color);\n",
              "      border-right-color: var(--fill-color);\n",
              "    }\n",
              "    40% {\n",
              "      border-color: transparent;\n",
              "      border-right-color: var(--fill-color);\n",
              "      border-top-color: var(--fill-color);\n",
              "    }\n",
              "    60% {\n",
              "      border-color: transparent;\n",
              "      border-right-color: var(--fill-color);\n",
              "    }\n",
              "    80% {\n",
              "      border-color: transparent;\n",
              "      border-right-color: var(--fill-color);\n",
              "      border-bottom-color: var(--fill-color);\n",
              "    }\n",
              "    90% {\n",
              "      border-color: transparent;\n",
              "      border-bottom-color: var(--fill-color);\n",
              "    }\n",
              "  }\n",
              "</style>\n",
              "\n",
              "  <script>\n",
              "    async function quickchart(key) {\n",
              "      const quickchartButtonEl =\n",
              "        document.querySelector('#' + key + ' button');\n",
              "      quickchartButtonEl.disabled = true;  // To prevent multiple clicks.\n",
              "      quickchartButtonEl.classList.add('colab-df-spinner');\n",
              "      try {\n",
              "        const charts = await google.colab.kernel.invokeFunction(\n",
              "            'suggestCharts', [key], {});\n",
              "      } catch (error) {\n",
              "        console.error('Error during call to suggestCharts:', error);\n",
              "      }\n",
              "      quickchartButtonEl.classList.remove('colab-df-spinner');\n",
              "      quickchartButtonEl.classList.add('colab-df-quickchart-complete');\n",
              "    }\n",
              "    (() => {\n",
              "      let quickchartButtonEl =\n",
              "        document.querySelector('#df-bd0c3d09-33fe-4773-9a1e-918a167a1ca1 button');\n",
              "      quickchartButtonEl.style.display =\n",
              "        google.colab.kernel.accessAllowed ? 'block' : 'none';\n",
              "    })();\n",
              "  </script>\n",
              "</div>\n",
              "\n",
              "    </div>\n",
              "  </div>\n"
            ],
            "application/vnd.google.colaboratory.intrinsic+json": {
              "type": "dataframe",
              "summary": "{\n  \"name\": \"round(data\",\n  \"rows\": 2,\n  \"fields\": [\n    {\n      \"column\": \"count\",\n      \"properties\": {\n        \"dtype\": \"date\",\n        \"min\": \"14965\",\n        \"max\": \"14993\",\n        \"num_unique_values\": 2,\n        \"samples\": [\n          \"14965\",\n          \"14993\"\n        ],\n        \"semantic_type\": \"\",\n        \"description\": \"\"\n      }\n    },\n    {\n      \"column\": \"unique\",\n      \"properties\": {\n        \"dtype\": \"date\",\n        \"min\": 14212,\n        \"max\": 14611,\n        \"num_unique_values\": 2,\n        \"samples\": [\n          14212,\n          14611\n        ],\n        \"semantic_type\": \"\",\n        \"description\": \"\"\n      }\n    },\n    {\n      \"column\": \"top\",\n      \"properties\": {\n        \"dtype\": \"string\",\n        \"num_unique_values\": 2,\n        \"samples\": [\n          \"(\\u0939\\u0901\\u0938\\u0940)\",\n          \"(Laughter)\"\n        ],\n        \"semantic_type\": \"\",\n        \"description\": \"\"\n      }\n    },\n    {\n      \"column\": \"freq\",\n      \"properties\": {\n        \"dtype\": \"date\",\n        \"min\": \"26\",\n        \"max\": \"66\",\n        \"num_unique_values\": 2,\n        \"samples\": [\n          \"26\",\n          \"66\"\n        ],\n        \"semantic_type\": \"\",\n        \"description\": \"\"\n      }\n    }\n  ]\n}"
            }
          },
          "metadata": {},
          "execution_count": 11
        }
      ],
      "source": [
        "round(data.describe().T,2)"
      ]
    },
    {
      "cell_type": "markdown",
      "id": "4815c454",
      "metadata": {
        "papermill": {
          "duration": 0.025757,
          "end_time": "2024-09-19T09:25:33.726215",
          "exception": false,
          "start_time": "2024-09-19T09:25:33.700458",
          "status": "completed"
        },
        "tags": [],
        "id": "4815c454"
      },
      "source": [
        "<a id='4'></a>\n",
        "# 4 | Preprocessing\n",
        "\n",
        "<div style=\"padding: 4px;color:white;margin:10;font-size:200%;text-align:center;display:fill;border-radius:10px;overflow:hidden;background-image: url(https://i.postimg.cc/fTDmwnkQ/Miaka.png); background-size: 100% auto;\"></div>\n"
      ]
    },
    {
      "cell_type": "markdown",
      "id": "ac082437",
      "metadata": {
        "papermill": {
          "duration": 0.025765,
          "end_time": "2024-09-19T09:25:33.777760",
          "exception": false,
          "start_time": "2024-09-19T09:25:33.751995",
          "status": "completed"
        },
        "tags": [],
        "id": "ac082437"
      },
      "source": [
        "<a id='4.1'></a>\n",
        "### **1. Dropping Duplicates and Null Values**"
      ]
    },
    {
      "cell_type": "code",
      "execution_count": 12,
      "id": "d96acb88",
      "metadata": {
        "execution": {
          "iopub.execute_input": "2024-09-19T09:25:33.830013Z",
          "iopub.status.busy": "2024-09-19T09:25:33.829669Z",
          "iopub.status.idle": "2024-09-19T09:25:33.911705Z",
          "shell.execute_reply": "2024-09-19T09:25:33.910939Z"
        },
        "papermill": {
          "duration": 0.11025,
          "end_time": "2024-09-19T09:25:33.913871",
          "exception": false,
          "start_time": "2024-09-19T09:25:33.803621",
          "status": "completed"
        },
        "tags": [],
        "id": "d96acb88"
      },
      "outputs": [],
      "source": [
        "data.drop_duplicates(inplace = True)"
      ]
    },
    {
      "cell_type": "code",
      "execution_count": 13,
      "id": "28c87cdf",
      "metadata": {
        "execution": {
          "iopub.execute_input": "2024-09-19T09:25:33.965493Z",
          "iopub.status.busy": "2024-09-19T09:25:33.964803Z",
          "iopub.status.idle": "2024-09-19T09:25:34.005755Z",
          "shell.execute_reply": "2024-09-19T09:25:34.005027Z"
        },
        "papermill": {
          "duration": 0.068869,
          "end_time": "2024-09-19T09:25:34.007741",
          "exception": false,
          "start_time": "2024-09-19T09:25:33.938872",
          "status": "completed"
        },
        "tags": [],
        "id": "28c87cdf"
      },
      "outputs": [],
      "source": [
        "data.dropna(inplace = True)"
      ]
    },
    {
      "cell_type": "markdown",
      "id": "a3eceed7",
      "metadata": {
        "papermill": {
          "duration": 0.024099,
          "end_time": "2024-09-19T09:25:34.056427",
          "exception": false,
          "start_time": "2024-09-19T09:25:34.032328",
          "status": "completed"
        },
        "tags": [],
        "id": "a3eceed7"
      },
      "source": [
        "<a id='4.2'></a>\n",
        "### **2. Lowercasing**"
      ]
    },
    {
      "cell_type": "code",
      "execution_count": 14,
      "id": "256bb0a7",
      "metadata": {
        "execution": {
          "iopub.execute_input": "2024-09-19T09:25:34.106737Z",
          "iopub.status.busy": "2024-09-19T09:25:34.106017Z",
          "iopub.status.idle": "2024-09-19T09:25:34.164009Z",
          "shell.execute_reply": "2024-09-19T09:25:34.163253Z"
        },
        "papermill": {
          "duration": 0.085448,
          "end_time": "2024-09-19T09:25:34.166139",
          "exception": false,
          "start_time": "2024-09-19T09:25:34.080691",
          "status": "completed"
        },
        "tags": [],
        "id": "256bb0a7"
      },
      "outputs": [],
      "source": [
        "data['English'] = data['English'].str.lower()"
      ]
    },
    {
      "cell_type": "markdown",
      "id": "86667c00",
      "metadata": {
        "execution": {
          "iopub.execute_input": "2024-07-07T14:29:08.534756Z",
          "iopub.status.busy": "2024-07-07T14:29:08.534207Z",
          "iopub.status.idle": "2024-07-07T14:29:08.542960Z",
          "shell.execute_reply": "2024-07-07T14:29:08.540966Z",
          "shell.execute_reply.started": "2024-07-07T14:29:08.534718Z"
        },
        "papermill": {
          "duration": 0.026924,
          "end_time": "2024-09-19T09:25:34.218357",
          "exception": false,
          "start_time": "2024-09-19T09:25:34.191433",
          "status": "completed"
        },
        "tags": [],
        "id": "86667c00"
      },
      "source": [
        "<a id='4.3'></a>\n",
        "### **3. Removing Html tags**"
      ]
    },
    {
      "cell_type": "code",
      "execution_count": 15,
      "id": "4b521a64",
      "metadata": {
        "execution": {
          "iopub.execute_input": "2024-09-19T09:25:34.273652Z",
          "iopub.status.busy": "2024-09-19T09:25:34.273279Z",
          "iopub.status.idle": "2024-09-19T09:25:34.278223Z",
          "shell.execute_reply": "2024-09-19T09:25:34.277213Z"
        },
        "papermill": {
          "duration": 0.035014,
          "end_time": "2024-09-19T09:25:34.280296",
          "exception": false,
          "start_time": "2024-09-19T09:25:34.245282",
          "status": "completed"
        },
        "tags": [],
        "id": "4b521a64"
      },
      "outputs": [],
      "source": [
        "import re\n",
        "def remove_html_tags(text):\n",
        "    pattern = r'[^a-zA-Z0-9\\s]'\n",
        "    text = re.sub(pattern,'',text)\n",
        "    return text"
      ]
    },
    {
      "cell_type": "code",
      "execution_count": 16,
      "id": "c7f32054",
      "metadata": {
        "execution": {
          "iopub.execute_input": "2024-09-19T09:25:34.335794Z",
          "iopub.status.busy": "2024-09-19T09:25:34.335516Z",
          "iopub.status.idle": "2024-09-19T09:25:34.915120Z",
          "shell.execute_reply": "2024-09-19T09:25:34.914262Z"
        },
        "papermill": {
          "duration": 0.610658,
          "end_time": "2024-09-19T09:25:34.917580",
          "exception": false,
          "start_time": "2024-09-19T09:25:34.306922",
          "status": "completed"
        },
        "tags": [],
        "id": "c7f32054"
      },
      "outputs": [],
      "source": [
        "data['English'] = data['English'].apply(remove_html_tags)"
      ]
    },
    {
      "cell_type": "markdown",
      "id": "b6b5974d",
      "metadata": {
        "execution": {
          "iopub.execute_input": "2024-07-07T14:37:08.593797Z",
          "iopub.status.busy": "2024-07-07T14:37:08.592770Z",
          "iopub.status.idle": "2024-07-07T14:37:08.602270Z",
          "shell.execute_reply": "2024-07-07T14:37:08.600439Z",
          "shell.execute_reply.started": "2024-07-07T14:37:08.593754Z"
        },
        "papermill": {
          "duration": 0.024306,
          "end_time": "2024-09-19T09:25:34.967361",
          "exception": false,
          "start_time": "2024-09-19T09:25:34.943055",
          "status": "completed"
        },
        "tags": [],
        "id": "b6b5974d"
      },
      "source": [
        "<a id='4.4'></a>\n",
        "### **4.  Removing URLs**"
      ]
    },
    {
      "cell_type": "code",
      "execution_count": 17,
      "id": "dc61134f",
      "metadata": {
        "execution": {
          "iopub.execute_input": "2024-09-19T09:25:35.017543Z",
          "iopub.status.busy": "2024-09-19T09:25:35.017194Z",
          "iopub.status.idle": "2024-09-19T09:25:35.857090Z",
          "shell.execute_reply": "2024-09-19T09:25:35.856276Z"
        },
        "papermill": {
          "duration": 0.867498,
          "end_time": "2024-09-19T09:25:35.859453",
          "exception": false,
          "start_time": "2024-09-19T09:25:34.991955",
          "status": "completed"
        },
        "tags": [],
        "id": "dc61134f"
      },
      "outputs": [],
      "source": [
        "def remove_url(text):\n",
        "    pattern = re.compile(r'https?://\\S+|www\\.\\S+')\n",
        "    return pattern.sub(r'',text)\n",
        "\n",
        "data['English'] = data['English'].apply(remove_url)\n",
        "data['Hindi'] = data['Hindi'].apply(remove_url)"
      ]
    },
    {
      "cell_type": "markdown",
      "id": "d03661a1",
      "metadata": {
        "papermill": {
          "duration": 0.025964,
          "end_time": "2024-09-19T09:25:35.912118",
          "exception": false,
          "start_time": "2024-09-19T09:25:35.886154",
          "status": "completed"
        },
        "tags": [],
        "id": "d03661a1"
      },
      "source": [
        "<a id='4.5'></a>\n",
        "### **5. Chat word treatment**"
      ]
    },
    {
      "cell_type": "code",
      "execution_count": 18,
      "id": "6ad679ff",
      "metadata": {
        "execution": {
          "iopub.execute_input": "2024-09-19T09:25:35.962338Z",
          "iopub.status.busy": "2024-09-19T09:25:35.962007Z",
          "iopub.status.idle": "2024-09-19T09:25:35.980031Z",
          "shell.execute_reply": "2024-09-19T09:25:35.979129Z"
        },
        "papermill": {
          "duration": 0.045725,
          "end_time": "2024-09-19T09:25:35.982036",
          "exception": false,
          "start_time": "2024-09-19T09:25:35.936311",
          "status": "completed"
        },
        "tags": [],
        "id": "6ad679ff"
      },
      "outputs": [],
      "source": [
        "chat_words = {\n",
        "    \"AFAIK\": \"As Far As I Know\",\n",
        "    \"AFK\": \"Away From Keyboard\",\n",
        "    \"ASAP\": \"As Soon As Possible\",\n",
        "    \"ATK\": \"At The Keyboard\",\n",
        "    \"ATM\": \"At The Moment\",\n",
        "    \"A3\": \"Anytime, Anywhere, Anyplace\",\n",
        "    \"BAK\": \"Back At Keyboard\",\n",
        "    \"BBL\": \"Be Back Later\",\n",
        "    \"BBS\": \"Be Back Soon\",\n",
        "    \"BFN\": \"Bye For Now\",\n",
        "    \"B4N\": \"Bye For Now\",\n",
        "    \"BRB\": \"Be Right Back\",\n",
        "    \"BRT\": \"Be Right There\",\n",
        "    \"BTW\": \"By The Way\",\n",
        "    \"B4\": \"Before\",\n",
        "    \"CU\": \"See You\",\n",
        "    \"CUL8R\": \"See You Later\",\n",
        "    \"CYA\": \"See You\",\n",
        "    \"FAQ\": \"Frequently Asked Questions\",\n",
        "    \"FC\": \"Fingers Crossed\",\n",
        "    \"FWIW\": \"For What It's Worth\",\n",
        "    \"FYI\": \"For Your Information\",\n",
        "    \"GAL\": \"Get A Life\",\n",
        "    \"GG\": \"Good Game\",\n",
        "    \"GN\": \"Good Night\",\n",
        "    \"GMTA\": \"Great Minds Think Alike\",\n",
        "    \"GR8\": \"Great!\",\n",
        "    \"G9\": \"Genius\",\n",
        "    \"IC\": \"I See\",\n",
        "    \"ICQ\": \"I Seek you (also a chat program)\",\n",
        "    \"ILU\": \"I Love You\",\n",
        "    \"IMHO\": \"In My Honest/Humble Opinion\",\n",
        "    \"IMO\": \"In My Opinion\",\n",
        "    \"IOW\": \"In Other Words\",\n",
        "    \"IRL\": \"In Real Life\",\n",
        "    \"KISS\": \"Keep It Simple, Stupid\",\n",
        "    \"LDR\": \"Long Distance Relationship\",\n",
        "    \"LMAO\": \"Laugh My A.. Off\",\n",
        "    \"LOL\": \"Laughing Out Loud\",\n",
        "    \"LTNS\": \"Long Time No See\",\n",
        "    \"L8R\": \"Later\",\n",
        "    \"MTE\": \"My Thoughts Exactly\",\n",
        "    \"M8\": \"Mate\",\n",
        "    \"NRN\": \"No Reply Necessary\",\n",
        "    \"OIC\": \"Oh I See\",\n",
        "    \"PITA\": \"Pain In The A..\",\n",
        "    \"PRT\": \"Party\",\n",
        "    \"PRW\": \"Parents Are Watching\",\n",
        "    \"QPSA\": \"Que Pasa?\",\n",
        "    \"ROFL\": \"Rolling On The Floor Laughing\",\n",
        "    \"ROFLOL\": \"Rolling On The Floor Laughing Out Loud\",\n",
        "    \"ROTFLMAO\": \"Rolling On The Floor Laughing My A.. Off\",\n",
        "    \"SK8\": \"Skate\",\n",
        "    \"STATS\": \"Your sex and age\",\n",
        "    \"ASL\": \"Age, Sex, Location\",\n",
        "    \"THX\": \"Thank You\",\n",
        "    \"TTFN\": \"Ta-Ta For Now!\",\n",
        "    \"TTYL\": \"Talk To You Later\",\n",
        "    \"U\": \"You\",\n",
        "    \"U2\": \"You Too\",\n",
        "    \"U4E\": \"Yours For Ever\",\n",
        "    \"WB\": \"Welcome Back\",\n",
        "    \"WTF\": \"What The F...\",\n",
        "    \"WTG\": \"Way To Go!\",\n",
        "    \"WUF\": \"Where Are You From?\",\n",
        "    \"W8\": \"Wait...\",\n",
        "    \"7K\": \"Sick:-D Laughter\",\n",
        "    \"TFW\": \"That feeling when\",\n",
        "    \"MFW\": \"My face when\",\n",
        "    \"MRW\": \"My reaction when\",\n",
        "    \"IFYP\": \"I feel your pain\",\n",
        "    \"LOL\": \"Laughing out loud\",\n",
        "    \"TNTL\": \"Trying not to laugh\",\n",
        "    \"JK\": \"Just kidding\",\n",
        "    \"IDC\": \"I don’t care\",\n",
        "    \"ILY\": \"I love you\",\n",
        "    \"IMU\": \"I miss you\",\n",
        "    \"ADIH\": \"Another day in hell\",\n",
        "    \"IDC\": \"I don’t care\",\n",
        "    \"ZZZ\": \"Sleeping, bored, tired\",\n",
        "    \"WYWH\": \"Wish you were here\",\n",
        "    \"TIME\": \"Tears in my eyes\",\n",
        "    \"BAE\": \"Before anyone else\",\n",
        "    \"FIMH\": \"Forever in my heart\",\n",
        "    \"BSAAW\": \"Big smile and a wink\",\n",
        "    \"BWL\": \"Bursting with laughter\",\n",
        "    \"LMAO\": \"Laughing my a** off\",\n",
        "    \"BFF\": \"Best friends forever\",\n",
        "    \"CSL\": \"Can’t stop laughing\",\n",
        "}"
      ]
    },
    {
      "cell_type": "code",
      "execution_count": 19,
      "id": "8ae56db2",
      "metadata": {
        "execution": {
          "iopub.execute_input": "2024-09-19T09:25:36.031956Z",
          "iopub.status.busy": "2024-09-19T09:25:36.031685Z",
          "iopub.status.idle": "2024-09-19T09:25:36.036474Z",
          "shell.execute_reply": "2024-09-19T09:25:36.035593Z"
        },
        "papermill": {
          "duration": 0.032237,
          "end_time": "2024-09-19T09:25:36.038365",
          "exception": false,
          "start_time": "2024-09-19T09:25:36.006128",
          "status": "completed"
        },
        "tags": [],
        "id": "8ae56db2"
      },
      "outputs": [],
      "source": [
        "def chat_conversion(text):\n",
        "    new_text=[]\n",
        "    for w in text.split():\n",
        "        if w.upper() in chat_words:\n",
        "            new_text.append(chat_words[w.upper()])\n",
        "        else:\n",
        "            new_text.append(w)\n",
        "    return \" \".join(new_text)"
      ]
    },
    {
      "cell_type": "code",
      "execution_count": 20,
      "id": "7ee90400",
      "metadata": {
        "execution": {
          "iopub.execute_input": "2024-09-19T09:25:36.087412Z",
          "iopub.status.busy": "2024-09-19T09:25:36.087146Z",
          "iopub.status.idle": "2024-09-19T09:25:36.947458Z",
          "shell.execute_reply": "2024-09-19T09:25:36.946414Z"
        },
        "papermill": {
          "duration": 0.887629,
          "end_time": "2024-09-19T09:25:36.949992",
          "exception": false,
          "start_time": "2024-09-19T09:25:36.062363",
          "status": "completed"
        },
        "tags": [],
        "id": "7ee90400"
      },
      "outputs": [],
      "source": [
        "data['English'] = data['English'].apply(chat_conversion)"
      ]
    },
    {
      "cell_type": "markdown",
      "id": "b42cd610",
      "metadata": {
        "papermill": {
          "duration": 0.024419,
          "end_time": "2024-09-19T09:25:37.000150",
          "exception": false,
          "start_time": "2024-09-19T09:25:36.975731",
          "status": "completed"
        },
        "tags": [],
        "id": "b42cd610"
      },
      "source": [
        "<a id='4.6'></a>\n",
        "### **6. Removing Emojis**"
      ]
    },
    {
      "cell_type": "code",
      "execution_count": 21,
      "id": "9c1edb44",
      "metadata": {
        "execution": {
          "iopub.execute_input": "2024-09-19T09:25:37.049912Z",
          "iopub.status.busy": "2024-09-19T09:25:37.049623Z",
          "iopub.status.idle": "2024-09-19T09:25:37.054798Z",
          "shell.execute_reply": "2024-09-19T09:25:37.053951Z"
        },
        "papermill": {
          "duration": 0.032322,
          "end_time": "2024-09-19T09:25:37.056779",
          "exception": false,
          "start_time": "2024-09-19T09:25:37.024457",
          "status": "completed"
        },
        "tags": [],
        "id": "9c1edb44"
      },
      "outputs": [],
      "source": [
        "def remove_emoji(text):\n",
        "    emoji_pattern = re.compile(\"[\"\n",
        "                           u\"\\U0001F600-\\U0001F64F\"  # emoticons\n",
        "                           u\"\\U0001F300-\\U0001F5FF\"  # symbols & pictographs\n",
        "                           u\"\\U0001F680-\\U0001F6FF\"  # transport & map symbols\n",
        "                           u\"\\U0001F1E0-\\U0001F1FF\"  # flags (iOS)\n",
        "                           u\"\\U00002702-\\U000027B0\"\n",
        "                           u\"\\U000024C2-\\U0001F251\"\n",
        "                           \"]+\", flags=re.UNICODE)\n",
        "    return emoji_pattern.sub(r'', text)"
      ]
    },
    {
      "cell_type": "code",
      "execution_count": 22,
      "id": "c589aa24",
      "metadata": {
        "execution": {
          "iopub.execute_input": "2024-09-19T09:25:37.107370Z",
          "iopub.status.busy": "2024-09-19T09:25:37.107082Z",
          "iopub.status.idle": "2024-09-19T09:25:39.034522Z",
          "shell.execute_reply": "2024-09-19T09:25:39.033542Z"
        },
        "papermill": {
          "duration": 1.955676,
          "end_time": "2024-09-19T09:25:39.036965",
          "exception": false,
          "start_time": "2024-09-19T09:25:37.081289",
          "status": "completed"
        },
        "tags": [],
        "id": "c589aa24"
      },
      "outputs": [],
      "source": [
        "data['English'] = data['English'].apply(remove_emoji)\n",
        "data['Hindi'] = data['Hindi'].apply(remove_emoji)"
      ]
    },
    {
      "cell_type": "markdown",
      "id": "513c6558",
      "metadata": {
        "papermill": {
          "duration": 0.025762,
          "end_time": "2024-09-19T09:25:39.091365",
          "exception": false,
          "start_time": "2024-09-19T09:25:39.065603",
          "status": "completed"
        },
        "tags": [],
        "id": "513c6558"
      },
      "source": [
        "<a id='4.7'></a>\n",
        "### **7. Removing contraction**"
      ]
    },
    {
      "cell_type": "code",
      "execution_count": 23,
      "id": "9fcc1082",
      "metadata": {
        "execution": {
          "iopub.execute_input": "2024-09-19T09:25:39.143723Z",
          "iopub.status.busy": "2024-09-19T09:25:39.142948Z",
          "iopub.status.idle": "2024-09-19T09:25:40.660367Z",
          "shell.execute_reply": "2024-09-19T09:25:40.659530Z"
        },
        "papermill": {
          "duration": 1.545571,
          "end_time": "2024-09-19T09:25:40.662725",
          "exception": false,
          "start_time": "2024-09-19T09:25:39.117154",
          "status": "completed"
        },
        "tags": [],
        "id": "9fcc1082"
      },
      "outputs": [],
      "source": [
        "def expand_contractions(text):\n",
        "    expanded_text = contractions.fix(text)\n",
        "    return expanded_text\n",
        "\n",
        "data['English'] = data['English'].apply(expand_contractions)"
      ]
    },
    {
      "cell_type": "markdown",
      "id": "7900e218",
      "metadata": {
        "papermill": {
          "duration": 0.024818,
          "end_time": "2024-09-19T09:25:40.712452",
          "exception": false,
          "start_time": "2024-09-19T09:25:40.687634",
          "status": "completed"
        },
        "tags": [],
        "id": "7900e218"
      },
      "source": [
        "<a id='4.8'></a>\n",
        "### **8. Remove Non-Hindi and Alphanumeric characters**"
      ]
    },
    {
      "cell_type": "code",
      "execution_count": 24,
      "id": "4e991ae7",
      "metadata": {
        "execution": {
          "iopub.execute_input": "2024-09-19T09:25:40.762753Z",
          "iopub.status.busy": "2024-09-19T09:25:40.762442Z",
          "iopub.status.idle": "2024-09-19T09:25:41.850755Z",
          "shell.execute_reply": "2024-09-19T09:25:41.849957Z"
        },
        "papermill": {
          "duration": 1.116501,
          "end_time": "2024-09-19T09:25:41.853259",
          "exception": false,
          "start_time": "2024-09-19T09:25:40.736758",
          "status": "completed"
        },
        "tags": [],
        "id": "4e991ae7"
      },
      "outputs": [],
      "source": [
        "def preprocess_text(text, language='english'):\n",
        "    if not isinstance(text, str):\n",
        "        return text\n",
        "\n",
        "    if language == 'english':\n",
        "        pattern = re.compile(r'[^a-zA-Z0-9\\s]')\n",
        "        return pattern.sub(r'', text)\n",
        "    elif language == 'hindi':\n",
        "        pattern = re.compile(r'[^\\u0900-\\u097F\\s]')\n",
        "        return pattern.sub(r'', text)\n",
        "    else:\n",
        "        raise ValueError(\"Unsupported Language, Supported languages are 'english' and 'hindi'\")\n",
        "\n",
        "data['English'] = data['English'].apply(lambda x: preprocess_text(x, language='english'))\n",
        "data['Hindi'] = data['Hindi'].apply(lambda x: preprocess_text(x, language='hindi'))"
      ]
    },
    {
      "cell_type": "code",
      "execution_count": 25,
      "id": "9ff82d71",
      "metadata": {
        "execution": {
          "iopub.execute_input": "2024-09-19T09:25:41.904497Z",
          "iopub.status.busy": "2024-09-19T09:25:41.904170Z",
          "iopub.status.idle": "2024-09-19T09:25:41.918932Z",
          "shell.execute_reply": "2024-09-19T09:25:41.917947Z"
        },
        "papermill": {
          "duration": 0.042294,
          "end_time": "2024-09-19T09:25:41.920799",
          "exception": false,
          "start_time": "2024-09-19T09:25:41.878505",
          "status": "completed"
        },
        "tags": [],
        "id": "9ff82d71",
        "outputId": "51ba79ab-add0-48ad-eb2d-1d685fc95211",
        "colab": {
          "base_uri": "https://localhost:8080/",
          "height": 206
        }
      },
      "outputs": [
        {
          "output_type": "execute_result",
          "data": {
            "text/plain": [
              "                                                 English  \\\n",
              "6664   i am of the opinion that simple talk about ind...   \n",
              "4415           you know there is a lot of that out there   \n",
              "9923    a really interesting behavior emerges decoration   \n",
              "12633                 it soon becomes playful and active   \n",
              "10080  it is stated that ramalinga remarked so the go...   \n",
              "\n",
              "                                                   Hindi  \n",
              "6664   मेरी वह राय है कि स्वतंत्रता के बारे में चर्चा...  \n",
              "4415      आपको पता है कि वहाँ इस तरह की बहुत बातें हैं ।  \n",
              "9923              एक बडा ही रोचक व्यवहार दिखता है सजावट।  \n",
              "12633  वह शीघ्र खेलने लगता है और बहुत सक्रिय हो जाता है   \n",
              "10080  कहा जाता है कि रामलिंग ने टिप्पणी करते हुए कहा...  "
            ],
            "text/html": [
              "\n",
              "  <div id=\"df-97e62f4d-c0b7-44d8-b42b-fa60e6709f0c\" class=\"colab-df-container\">\n",
              "    <div>\n",
              "<style scoped>\n",
              "    .dataframe tbody tr th:only-of-type {\n",
              "        vertical-align: middle;\n",
              "    }\n",
              "\n",
              "    .dataframe tbody tr th {\n",
              "        vertical-align: top;\n",
              "    }\n",
              "\n",
              "    .dataframe thead th {\n",
              "        text-align: right;\n",
              "    }\n",
              "</style>\n",
              "<table border=\"1\" class=\"dataframe\">\n",
              "  <thead>\n",
              "    <tr style=\"text-align: right;\">\n",
              "      <th></th>\n",
              "      <th>English</th>\n",
              "      <th>Hindi</th>\n",
              "    </tr>\n",
              "  </thead>\n",
              "  <tbody>\n",
              "    <tr>\n",
              "      <th>6664</th>\n",
              "      <td>i am of the opinion that simple talk about ind...</td>\n",
              "      <td>मेरी वह राय है कि स्वतंत्रता के बारे में चर्चा...</td>\n",
              "    </tr>\n",
              "    <tr>\n",
              "      <th>4415</th>\n",
              "      <td>you know there is a lot of that out there</td>\n",
              "      <td>आपको पता है कि वहाँ इस तरह की बहुत बातें हैं ।</td>\n",
              "    </tr>\n",
              "    <tr>\n",
              "      <th>9923</th>\n",
              "      <td>a really interesting behavior emerges decoration</td>\n",
              "      <td>एक बडा ही रोचक व्यवहार दिखता है सजावट।</td>\n",
              "    </tr>\n",
              "    <tr>\n",
              "      <th>12633</th>\n",
              "      <td>it soon becomes playful and active</td>\n",
              "      <td>वह शीघ्र खेलने लगता है और बहुत सक्रिय हो जाता है</td>\n",
              "    </tr>\n",
              "    <tr>\n",
              "      <th>10080</th>\n",
              "      <td>it is stated that ramalinga remarked so the go...</td>\n",
              "      <td>कहा जाता है कि रामलिंग ने टिप्पणी करते हुए कहा...</td>\n",
              "    </tr>\n",
              "  </tbody>\n",
              "</table>\n",
              "</div>\n",
              "    <div class=\"colab-df-buttons\">\n",
              "\n",
              "  <div class=\"colab-df-container\">\n",
              "    <button class=\"colab-df-convert\" onclick=\"convertToInteractive('df-97e62f4d-c0b7-44d8-b42b-fa60e6709f0c')\"\n",
              "            title=\"Convert this dataframe to an interactive table.\"\n",
              "            style=\"display:none;\">\n",
              "\n",
              "  <svg xmlns=\"http://www.w3.org/2000/svg\" height=\"24px\" viewBox=\"0 -960 960 960\">\n",
              "    <path d=\"M120-120v-720h720v720H120Zm60-500h600v-160H180v160Zm220 220h160v-160H400v160Zm0 220h160v-160H400v160ZM180-400h160v-160H180v160Zm440 0h160v-160H620v160ZM180-180h160v-160H180v160Zm440 0h160v-160H620v160Z\"/>\n",
              "  </svg>\n",
              "    </button>\n",
              "\n",
              "  <style>\n",
              "    .colab-df-container {\n",
              "      display:flex;\n",
              "      gap: 12px;\n",
              "    }\n",
              "\n",
              "    .colab-df-convert {\n",
              "      background-color: #E8F0FE;\n",
              "      border: none;\n",
              "      border-radius: 50%;\n",
              "      cursor: pointer;\n",
              "      display: none;\n",
              "      fill: #1967D2;\n",
              "      height: 32px;\n",
              "      padding: 0 0 0 0;\n",
              "      width: 32px;\n",
              "    }\n",
              "\n",
              "    .colab-df-convert:hover {\n",
              "      background-color: #E2EBFA;\n",
              "      box-shadow: 0px 1px 2px rgba(60, 64, 67, 0.3), 0px 1px 3px 1px rgba(60, 64, 67, 0.15);\n",
              "      fill: #174EA6;\n",
              "    }\n",
              "\n",
              "    .colab-df-buttons div {\n",
              "      margin-bottom: 4px;\n",
              "    }\n",
              "\n",
              "    [theme=dark] .colab-df-convert {\n",
              "      background-color: #3B4455;\n",
              "      fill: #D2E3FC;\n",
              "    }\n",
              "\n",
              "    [theme=dark] .colab-df-convert:hover {\n",
              "      background-color: #434B5C;\n",
              "      box-shadow: 0px 1px 3px 1px rgba(0, 0, 0, 0.15);\n",
              "      filter: drop-shadow(0px 1px 2px rgba(0, 0, 0, 0.3));\n",
              "      fill: #FFFFFF;\n",
              "    }\n",
              "  </style>\n",
              "\n",
              "    <script>\n",
              "      const buttonEl =\n",
              "        document.querySelector('#df-97e62f4d-c0b7-44d8-b42b-fa60e6709f0c button.colab-df-convert');\n",
              "      buttonEl.style.display =\n",
              "        google.colab.kernel.accessAllowed ? 'block' : 'none';\n",
              "\n",
              "      async function convertToInteractive(key) {\n",
              "        const element = document.querySelector('#df-97e62f4d-c0b7-44d8-b42b-fa60e6709f0c');\n",
              "        const dataTable =\n",
              "          await google.colab.kernel.invokeFunction('convertToInteractive',\n",
              "                                                    [key], {});\n",
              "        if (!dataTable) return;\n",
              "\n",
              "        const docLinkHtml = 'Like what you see? Visit the ' +\n",
              "          '<a target=\"_blank\" href=https://colab.research.google.com/notebooks/data_table.ipynb>data table notebook</a>'\n",
              "          + ' to learn more about interactive tables.';\n",
              "        element.innerHTML = '';\n",
              "        dataTable['output_type'] = 'display_data';\n",
              "        await google.colab.output.renderOutput(dataTable, element);\n",
              "        const docLink = document.createElement('div');\n",
              "        docLink.innerHTML = docLinkHtml;\n",
              "        element.appendChild(docLink);\n",
              "      }\n",
              "    </script>\n",
              "  </div>\n",
              "\n",
              "\n",
              "<div id=\"df-5e7d5aac-21da-4840-9f85-b2ae0ca0090a\">\n",
              "  <button class=\"colab-df-quickchart\" onclick=\"quickchart('df-5e7d5aac-21da-4840-9f85-b2ae0ca0090a')\"\n",
              "            title=\"Suggest charts\"\n",
              "            style=\"display:none;\">\n",
              "\n",
              "<svg xmlns=\"http://www.w3.org/2000/svg\" height=\"24px\"viewBox=\"0 0 24 24\"\n",
              "     width=\"24px\">\n",
              "    <g>\n",
              "        <path d=\"M19 3H5c-1.1 0-2 .9-2 2v14c0 1.1.9 2 2 2h14c1.1 0 2-.9 2-2V5c0-1.1-.9-2-2-2zM9 17H7v-7h2v7zm4 0h-2V7h2v10zm4 0h-2v-4h2v4z\"/>\n",
              "    </g>\n",
              "</svg>\n",
              "  </button>\n",
              "\n",
              "<style>\n",
              "  .colab-df-quickchart {\n",
              "      --bg-color: #E8F0FE;\n",
              "      --fill-color: #1967D2;\n",
              "      --hover-bg-color: #E2EBFA;\n",
              "      --hover-fill-color: #174EA6;\n",
              "      --disabled-fill-color: #AAA;\n",
              "      --disabled-bg-color: #DDD;\n",
              "  }\n",
              "\n",
              "  [theme=dark] .colab-df-quickchart {\n",
              "      --bg-color: #3B4455;\n",
              "      --fill-color: #D2E3FC;\n",
              "      --hover-bg-color: #434B5C;\n",
              "      --hover-fill-color: #FFFFFF;\n",
              "      --disabled-bg-color: #3B4455;\n",
              "      --disabled-fill-color: #666;\n",
              "  }\n",
              "\n",
              "  .colab-df-quickchart {\n",
              "    background-color: var(--bg-color);\n",
              "    border: none;\n",
              "    border-radius: 50%;\n",
              "    cursor: pointer;\n",
              "    display: none;\n",
              "    fill: var(--fill-color);\n",
              "    height: 32px;\n",
              "    padding: 0;\n",
              "    width: 32px;\n",
              "  }\n",
              "\n",
              "  .colab-df-quickchart:hover {\n",
              "    background-color: var(--hover-bg-color);\n",
              "    box-shadow: 0 1px 2px rgba(60, 64, 67, 0.3), 0 1px 3px 1px rgba(60, 64, 67, 0.15);\n",
              "    fill: var(--button-hover-fill-color);\n",
              "  }\n",
              "\n",
              "  .colab-df-quickchart-complete:disabled,\n",
              "  .colab-df-quickchart-complete:disabled:hover {\n",
              "    background-color: var(--disabled-bg-color);\n",
              "    fill: var(--disabled-fill-color);\n",
              "    box-shadow: none;\n",
              "  }\n",
              "\n",
              "  .colab-df-spinner {\n",
              "    border: 2px solid var(--fill-color);\n",
              "    border-color: transparent;\n",
              "    border-bottom-color: var(--fill-color);\n",
              "    animation:\n",
              "      spin 1s steps(1) infinite;\n",
              "  }\n",
              "\n",
              "  @keyframes spin {\n",
              "    0% {\n",
              "      border-color: transparent;\n",
              "      border-bottom-color: var(--fill-color);\n",
              "      border-left-color: var(--fill-color);\n",
              "    }\n",
              "    20% {\n",
              "      border-color: transparent;\n",
              "      border-left-color: var(--fill-color);\n",
              "      border-top-color: var(--fill-color);\n",
              "    }\n",
              "    30% {\n",
              "      border-color: transparent;\n",
              "      border-left-color: var(--fill-color);\n",
              "      border-top-color: var(--fill-color);\n",
              "      border-right-color: var(--fill-color);\n",
              "    }\n",
              "    40% {\n",
              "      border-color: transparent;\n",
              "      border-right-color: var(--fill-color);\n",
              "      border-top-color: var(--fill-color);\n",
              "    }\n",
              "    60% {\n",
              "      border-color: transparent;\n",
              "      border-right-color: var(--fill-color);\n",
              "    }\n",
              "    80% {\n",
              "      border-color: transparent;\n",
              "      border-right-color: var(--fill-color);\n",
              "      border-bottom-color: var(--fill-color);\n",
              "    }\n",
              "    90% {\n",
              "      border-color: transparent;\n",
              "      border-bottom-color: var(--fill-color);\n",
              "    }\n",
              "  }\n",
              "</style>\n",
              "\n",
              "  <script>\n",
              "    async function quickchart(key) {\n",
              "      const quickchartButtonEl =\n",
              "        document.querySelector('#' + key + ' button');\n",
              "      quickchartButtonEl.disabled = true;  // To prevent multiple clicks.\n",
              "      quickchartButtonEl.classList.add('colab-df-spinner');\n",
              "      try {\n",
              "        const charts = await google.colab.kernel.invokeFunction(\n",
              "            'suggestCharts', [key], {});\n",
              "      } catch (error) {\n",
              "        console.error('Error during call to suggestCharts:', error);\n",
              "      }\n",
              "      quickchartButtonEl.classList.remove('colab-df-spinner');\n",
              "      quickchartButtonEl.classList.add('colab-df-quickchart-complete');\n",
              "    }\n",
              "    (() => {\n",
              "      let quickchartButtonEl =\n",
              "        document.querySelector('#df-5e7d5aac-21da-4840-9f85-b2ae0ca0090a button');\n",
              "      quickchartButtonEl.style.display =\n",
              "        google.colab.kernel.accessAllowed ? 'block' : 'none';\n",
              "    })();\n",
              "  </script>\n",
              "</div>\n",
              "\n",
              "    </div>\n",
              "  </div>\n"
            ],
            "application/vnd.google.colaboratory.intrinsic+json": {
              "type": "dataframe",
              "summary": "{\n  \"name\": \"data\",\n  \"rows\": 5,\n  \"fields\": [\n    {\n      \"column\": \"English\",\n      \"properties\": {\n        \"dtype\": \"string\",\n        \"num_unique_values\": 5,\n        \"samples\": [\n          \"you know there is a lot of that out there\",\n          \"it is stated that ramalinga remarked so the golden body has become clay\",\n          \"a really interesting behavior emerges decoration\"\n        ],\n        \"semantic_type\": \"\",\n        \"description\": \"\"\n      }\n    },\n    {\n      \"column\": \"Hindi\",\n      \"properties\": {\n        \"dtype\": \"string\",\n        \"num_unique_values\": 5,\n        \"samples\": [\n          \"\\u0906\\u092a\\u0915\\u094b \\u092a\\u0924\\u093e \\u0939\\u0948 \\u0915\\u093f \\u0935\\u0939\\u093e\\u0901 \\u0907\\u0938 \\u0924\\u0930\\u0939 \\u0915\\u0940 \\u092c\\u0939\\u0941\\u0924 \\u092c\\u093e\\u0924\\u0947\\u0902 \\u0939\\u0948\\u0902 \\u0964\",\n          \"\\u0915\\u0939\\u093e \\u091c\\u093e\\u0924\\u093e \\u0939\\u0948 \\u0915\\u093f \\u0930\\u093e\\u092e\\u0932\\u093f\\u0902\\u0917 \\u0928\\u0947 \\u091f\\u093f\\u092a\\u094d\\u092a\\u0923\\u0940 \\u0915\\u0930\\u0924\\u0947 \\u0939\\u0941\\u090f \\u0915\\u0939\\u093e  \\u0924\\u094b \\u0938\\u094b\\u0928\\u0947 \\u0915\\u093e \\u0936\\u0930\\u0940\\u0930 \\u092e\\u093e\\u091f\\u0940 \\u0915\\u093e \\u0939\\u094b \\u0917\\u092f\\u093e \",\n          \"\\u090f\\u0915 \\u092c\\u0921\\u093e \\u0939\\u0940 \\u0930\\u094b\\u091a\\u0915 \\u0935\\u094d\\u092f\\u0935\\u0939\\u093e\\u0930 \\u0926\\u093f\\u0916\\u0924\\u093e \\u0939\\u0948 \\u0938\\u091c\\u093e\\u0935\\u091f\\u0964\"\n        ],\n        \"semantic_type\": \"\",\n        \"description\": \"\"\n      }\n    }\n  ]\n}"
            }
          },
          "metadata": {},
          "execution_count": 25
        }
      ],
      "source": [
        "data.sample(5)"
      ]
    },
    {
      "cell_type": "markdown",
      "id": "0346a8b1",
      "metadata": {
        "papermill": {
          "duration": 0.024641,
          "end_time": "2024-09-19T09:25:41.970190",
          "exception": false,
          "start_time": "2024-09-19T09:25:41.945549",
          "status": "completed"
        },
        "tags": [],
        "id": "0346a8b1"
      },
      "source": [
        "<a id='4.9'></a>\n",
        "### **9. WordCloud**"
      ]
    },
    {
      "cell_type": "code",
      "execution_count": 26,
      "id": "94ce3b18",
      "metadata": {
        "execution": {
          "iopub.execute_input": "2024-09-19T09:25:42.021703Z",
          "iopub.status.busy": "2024-09-19T09:25:42.021410Z",
          "iopub.status.idle": "2024-09-19T09:25:42.027377Z",
          "shell.execute_reply": "2024-09-19T09:25:42.026543Z"
        },
        "papermill": {
          "duration": 0.033556,
          "end_time": "2024-09-19T09:25:42.029265",
          "exception": false,
          "start_time": "2024-09-19T09:25:41.995709",
          "status": "completed"
        },
        "tags": [],
        "id": "94ce3b18"
      },
      "outputs": [],
      "source": [
        "# Function to preprocess text and generate word cloud\n",
        "def generate_wordcloud(text_list, language):\n",
        "    # Join the list of words into a single string\n",
        "    text_str = ' '.join(map(str, text_list))\n",
        "\n",
        "    # Generate word cloud without specifying font path\n",
        "    wordcloud = WordCloud(width=800, height=400, background_color='white', colormap='viridis').generate(text_str)\n",
        "\n",
        "    # Display word cloud\n",
        "    plt.figure(figsize=(10, 5))\n",
        "    plt.imshow(wordcloud, interpolation='bilinear')\n",
        "    plt.title(f\"Word Cloud for {language} Text\")\n",
        "    plt.axis('off')\n",
        "    plt.show()"
      ]
    },
    {
      "cell_type": "code",
      "execution_count": 27,
      "id": "b39fb50a",
      "metadata": {
        "execution": {
          "iopub.execute_input": "2024-09-19T09:25:42.078969Z",
          "iopub.status.busy": "2024-09-19T09:25:42.078691Z",
          "iopub.status.idle": "2024-09-19T09:25:51.712958Z",
          "shell.execute_reply": "2024-09-19T09:25:51.712013Z"
        },
        "papermill": {
          "duration": 9.664264,
          "end_time": "2024-09-19T09:25:51.717966",
          "exception": false,
          "start_time": "2024-09-19T09:25:42.053702",
          "status": "completed"
        },
        "tags": [],
        "id": "b39fb50a",
        "outputId": "ae36c682-b1ba-484b-ab9f-9ede770f215a",
        "colab": {
          "base_uri": "https://localhost:8080/",
          "height": 448
        }
      },
      "outputs": [
        {
          "output_type": "display_data",
          "data": {
            "text/plain": [
              "<Figure size 1000x500 with 1 Axes>"
            ],
            "image/png": "[encoded data removed]"
          },
          "metadata": {}
        }
      ],
      "source": [
        "# Generate word clouds for English and Hindi columns\n",
        "generate_wordcloud(data['English'], 'english')"
      ]
    },
    {
      "cell_type": "code",
      "execution_count": 28,
      "id": "021fc74f",
      "metadata": {
        "execution": {
          "iopub.execute_input": "2024-09-19T09:25:51.779587Z",
          "iopub.status.busy": "2024-09-19T09:25:51.779283Z",
          "iopub.status.idle": "2024-09-19T09:25:51.784814Z",
          "shell.execute_reply": "2024-09-19T09:25:51.783959Z"
        },
        "papermill": {
          "duration": 0.038511,
          "end_time": "2024-09-19T09:25:51.786705",
          "exception": false,
          "start_time": "2024-09-19T09:25:51.748194",
          "status": "completed"
        },
        "tags": [],
        "id": "021fc74f",
        "outputId": "a881b78b-6e41-4914-bc65-920bd412d8a3",
        "colab": {
          "base_uri": "https://localhost:8080/"
        }
      },
      "outputs": [
        {
          "output_type": "execute_result",
          "data": {
            "text/plain": [
              "(14838, 2)"
            ]
          },
          "metadata": {},
          "execution_count": 28
        }
      ],
      "source": [
        "data.shape"
      ]
    },
    {
      "cell_type": "code",
      "execution_count": 29,
      "id": "2b4f82c4",
      "metadata": {
        "execution": {
          "iopub.execute_input": "2024-09-19T09:25:51.848043Z",
          "iopub.status.busy": "2024-09-19T09:25:51.847141Z",
          "iopub.status.idle": "2024-09-19T09:25:51.941572Z",
          "shell.execute_reply": "2024-09-19T09:25:51.940597Z"
        },
        "papermill": {
          "duration": 0.127603,
          "end_time": "2024-09-19T09:25:51.943737",
          "exception": false,
          "start_time": "2024-09-19T09:25:51.816134",
          "status": "completed"
        },
        "tags": [],
        "id": "2b4f82c4"
      },
      "outputs": [],
      "source": [
        "data = data[data['English'].str.len() <= 50]"
      ]
    },
    {
      "cell_type": "code",
      "execution_count": 30,
      "id": "1a731766",
      "metadata": {
        "execution": {
          "iopub.execute_input": "2024-09-19T09:25:52.005728Z",
          "iopub.status.busy": "2024-09-19T09:25:52.005146Z",
          "iopub.status.idle": "2024-09-19T09:25:52.010866Z",
          "shell.execute_reply": "2024-09-19T09:25:52.010023Z"
        },
        "papermill": {
          "duration": 0.038667,
          "end_time": "2024-09-19T09:25:52.012831",
          "exception": false,
          "start_time": "2024-09-19T09:25:51.974164",
          "status": "completed"
        },
        "tags": [],
        "id": "1a731766",
        "outputId": "03ac54d3-51c2-4e86-e5af-057837832621",
        "colab": {
          "base_uri": "https://localhost:8080/"
        }
      },
      "outputs": [
        {
          "output_type": "execute_result",
          "data": {
            "text/plain": [
              "(7349, 2)"
            ]
          },
          "metadata": {},
          "execution_count": 30
        }
      ],
      "source": [
        "data.shape"
      ]
    },
    {
      "cell_type": "code",
      "execution_count": 31,
      "id": "e138c880",
      "metadata": {
        "execution": {
          "iopub.execute_input": "2024-09-19T09:25:52.073373Z",
          "iopub.status.busy": "2024-09-19T09:25:52.073087Z",
          "iopub.status.idle": "2024-09-19T09:25:52.107183Z",
          "shell.execute_reply": "2024-09-19T09:25:52.106328Z"
        },
        "papermill": {
          "duration": 0.066705,
          "end_time": "2024-09-19T09:25:52.109219",
          "exception": false,
          "start_time": "2024-09-19T09:25:52.042514",
          "status": "completed"
        },
        "tags": [],
        "id": "e138c880"
      },
      "outputs": [],
      "source": [
        "# Add <start> and <end> tokens to Hindi sentences\n",
        "data['Hindi'] = ['<start> ' + sentence + ' <end>' for sentence in data['Hindi']]"
      ]
    },
    {
      "cell_type": "markdown",
      "id": "5ba5a8c5",
      "metadata": {
        "papermill": {
          "duration": 0.029267,
          "end_time": "2024-09-19T09:25:52.168644",
          "exception": false,
          "start_time": "2024-09-19T09:25:52.139377",
          "status": "completed"
        },
        "tags": [],
        "id": "5ba5a8c5"
      },
      "source": [
        "<a id='4.10'></a>\n",
        "### **10. Tokenize on the Data**"
      ]
    },
    {
      "cell_type": "code",
      "execution_count": 32,
      "id": "51e344a6",
      "metadata": {
        "execution": {
          "iopub.execute_input": "2024-09-19T09:25:52.229629Z",
          "iopub.status.busy": "2024-09-19T09:25:52.228850Z",
          "iopub.status.idle": "2024-09-19T09:25:52.961531Z",
          "shell.execute_reply": "2024-09-19T09:25:52.960554Z"
        },
        "papermill": {
          "duration": 0.7659,
          "end_time": "2024-09-19T09:25:52.963917",
          "exception": false,
          "start_time": "2024-09-19T09:25:52.198017",
          "status": "completed"
        },
        "tags": [],
        "id": "51e344a6"
      },
      "outputs": [],
      "source": [
        "tok = Tokenizer()\n",
        "tok.fit_on_texts(data['English'])"
      ]
    },
    {
      "cell_type": "code",
      "execution_count": 33,
      "id": "2bd8364b",
      "metadata": {
        "execution": {
          "iopub.execute_input": "2024-09-19T09:25:53.026237Z",
          "iopub.status.busy": "2024-09-19T09:25:53.025493Z",
          "iopub.status.idle": "2024-09-19T09:25:54.052871Z",
          "shell.execute_reply": "2024-09-19T09:25:54.051877Z"
        },
        "papermill": {
          "duration": 1.060437,
          "end_time": "2024-09-19T09:25:54.055201",
          "exception": false,
          "start_time": "2024-09-19T09:25:52.994764",
          "status": "completed"
        },
        "tags": [],
        "id": "2bd8364b"
      },
      "outputs": [],
      "source": [
        "tok_hindi = Tokenizer()\n",
        "tok_hindi.fit_on_texts(data['Hindi'])"
      ]
    },
    {
      "cell_type": "code",
      "execution_count": 34,
      "id": "a2f9718b",
      "metadata": {
        "execution": {
          "iopub.execute_input": "2024-09-19T09:25:54.117885Z",
          "iopub.status.busy": "2024-09-19T09:25:54.117121Z",
          "iopub.status.idle": "2024-09-19T09:25:54.123185Z",
          "shell.execute_reply": "2024-09-19T09:25:54.122369Z"
        },
        "papermill": {
          "duration": 0.038961,
          "end_time": "2024-09-19T09:25:54.125097",
          "exception": false,
          "start_time": "2024-09-19T09:25:54.086136",
          "status": "completed"
        },
        "tags": [],
        "id": "a2f9718b",
        "outputId": "0c40250a-bdc5-48f8-f748-75409fbc2840",
        "colab": {
          "base_uri": "https://localhost:8080/"
        }
      },
      "outputs": [
        {
          "output_type": "execute_result",
          "data": {
            "text/plain": [
              "(6787, 8230)"
            ]
          },
          "metadata": {},
          "execution_count": 34
        }
      ],
      "source": [
        "len(tok.word_index),len(tok_hindi.word_index)"
      ]
    },
    {
      "cell_type": "code",
      "execution_count": 35,
      "id": "89d82cd5",
      "metadata": {
        "execution": {
          "iopub.execute_input": "2024-09-19T09:25:54.254464Z",
          "iopub.status.busy": "2024-09-19T09:25:54.253995Z",
          "iopub.status.idle": "2024-09-19T09:25:54.259282Z",
          "shell.execute_reply": "2024-09-19T09:25:54.258466Z"
        },
        "papermill": {
          "duration": 0.03827,
          "end_time": "2024-09-19T09:25:54.261152",
          "exception": false,
          "start_time": "2024-09-19T09:25:54.222882",
          "status": "completed"
        },
        "tags": [],
        "id": "89d82cd5",
        "outputId": "9d5e9cc0-468d-46a3-cd50-aa960d1bad71",
        "colab": {
          "base_uri": "https://localhost:8080/"
        }
      },
      "outputs": [
        {
          "output_type": "execute_result",
          "data": {
            "text/plain": [
              "7349"
            ]
          },
          "metadata": {},
          "execution_count": 35
        }
      ],
      "source": [
        "tok.document_count"
      ]
    },
    {
      "cell_type": "markdown",
      "id": "e8fccd7a",
      "metadata": {
        "papermill": {
          "duration": 0.032118,
          "end_time": "2024-09-19T09:25:54.325236",
          "exception": false,
          "start_time": "2024-09-19T09:25:54.293118",
          "status": "completed"
        },
        "tags": [],
        "id": "e8fccd7a"
      },
      "source": [
        "#### **Converting data in numerical forms**"
      ]
    },
    {
      "cell_type": "code",
      "execution_count": 36,
      "id": "492a124a",
      "metadata": {
        "execution": {
          "iopub.execute_input": "2024-09-19T09:25:54.389735Z",
          "iopub.status.busy": "2024-09-19T09:25:54.389028Z",
          "iopub.status.idle": "2024-09-19T09:25:56.173883Z",
          "shell.execute_reply": "2024-09-19T09:25:56.172878Z"
        },
        "papermill": {
          "duration": 1.818812,
          "end_time": "2024-09-19T09:25:56.176170",
          "exception": false,
          "start_time": "2024-09-19T09:25:54.357358",
          "status": "completed"
        },
        "tags": [],
        "id": "492a124a"
      },
      "outputs": [],
      "source": [
        "data['English'] = tok.texts_to_sequences(data['English'])\n",
        "data['Hindi'] = tok_hindi.texts_to_sequences(data['Hindi'])"
      ]
    },
    {
      "cell_type": "code",
      "execution_count": 37,
      "id": "61c88875",
      "metadata": {
        "execution": {
          "iopub.execute_input": "2024-09-19T09:25:56.241145Z",
          "iopub.status.busy": "2024-09-19T09:25:56.240406Z",
          "iopub.status.idle": "2024-09-19T09:25:56.259333Z",
          "shell.execute_reply": "2024-09-19T09:25:56.258331Z"
        },
        "papermill": {
          "duration": 0.054001,
          "end_time": "2024-09-19T09:25:56.261611",
          "exception": false,
          "start_time": "2024-09-19T09:25:56.207610",
          "status": "completed"
        },
        "tags": [],
        "id": "61c88875",
        "outputId": "f658c355-623e-4471-f561-6983ba03db49",
        "colab": {
          "base_uri": "https://localhost:8080/",
          "height": 424
        }
      },
      "outputs": [
        {
          "output_type": "execute_result",
          "data": {
            "text/plain": [
              "                                      English  \\\n",
              "0                                       [112]   \n",
              "1                                      [1096]   \n",
              "2                                      [1096]   \n",
              "3                                      [1096]   \n",
              "4                                      [1821]   \n",
              "...                                       ...   \n",
              "14975  [12, 6784, 34, 6785, 25, 1, 1697, 371]   \n",
              "14978                         [885, 61, 6786]   \n",
              "14980                     [61, 5, 1704, 6787]   \n",
              "14985             [4, 17, 308, 42, 646, 1243]   \n",
              "14989              [28, 24, 1424, 13, 41, 11]   \n",
              "\n",
              "                                                Hindi  \n",
              "0                                        [1, 3424, 2]  \n",
              "1                                        [1, 3425, 2]  \n",
              "2                                        [1, 3426, 2]  \n",
              "3                                        [1, 3427, 2]  \n",
              "4                                        [1, 3428, 2]  \n",
              "...                                               ...  \n",
              "14975  [1, 123, 8226, 8227, 8228, 820, 4, 801, 53, 2]  \n",
              "14978                           [1, 446, 66, 8229, 2]  \n",
              "14980               [1, 274, 16, 1409, 8230, 4, 3, 2]  \n",
              "14985       [1, 14, 3326, 2606, 9, 61, 25, 47, 33, 2]  \n",
              "14989          [1, 278, 135, 111, 117, 382, 94, 6, 2]  \n",
              "\n",
              "[7349 rows x 2 columns]"
            ],
            "text/html": [
              "\n",
              "  <div id=\"df-f3d8f3ac-5004-4627-8f81-cc323c4f0588\" class=\"colab-df-container\">\n",
              "    <div>\n",
              "<style scoped>\n",
              "    .dataframe tbody tr th:only-of-type {\n",
              "        vertical-align: middle;\n",
              "    }\n",
              "\n",
              "    .dataframe tbody tr th {\n",
              "        vertical-align: top;\n",
              "    }\n",
              "\n",
              "    .dataframe thead th {\n",
              "        text-align: right;\n",
              "    }\n",
              "</style>\n",
              "<table border=\"1\" class=\"dataframe\">\n",
              "  <thead>\n",
              "    <tr style=\"text-align: right;\">\n",
              "      <th></th>\n",
              "      <th>English</th>\n",
              "      <th>Hindi</th>\n",
              "    </tr>\n",
              "  </thead>\n",
              "  <tbody>\n",
              "    <tr>\n",
              "      <th>0</th>\n",
              "      <td>[112]</td>\n",
              "      <td>[1, 3424, 2]</td>\n",
              "    </tr>\n",
              "    <tr>\n",
              "      <th>1</th>\n",
              "      <td>[1096]</td>\n",
              "      <td>[1, 3425, 2]</td>\n",
              "    </tr>\n",
              "    <tr>\n",
              "      <th>2</th>\n",
              "      <td>[1096]</td>\n",
              "      <td>[1, 3426, 2]</td>\n",
              "    </tr>\n",
              "    <tr>\n",
              "      <th>3</th>\n",
              "      <td>[1096]</td>\n",
              "      <td>[1, 3427, 2]</td>\n",
              "    </tr>\n",
              "    <tr>\n",
              "      <th>4</th>\n",
              "      <td>[1821]</td>\n",
              "      <td>[1, 3428, 2]</td>\n",
              "    </tr>\n",
              "    <tr>\n",
              "      <th>...</th>\n",
              "      <td>...</td>\n",
              "      <td>...</td>\n",
              "    </tr>\n",
              "    <tr>\n",
              "      <th>14975</th>\n",
              "      <td>[12, 6784, 34, 6785, 25, 1, 1697, 371]</td>\n",
              "      <td>[1, 123, 8226, 8227, 8228, 820, 4, 801, 53, 2]</td>\n",
              "    </tr>\n",
              "    <tr>\n",
              "      <th>14978</th>\n",
              "      <td>[885, 61, 6786]</td>\n",
              "      <td>[1, 446, 66, 8229, 2]</td>\n",
              "    </tr>\n",
              "    <tr>\n",
              "      <th>14980</th>\n",
              "      <td>[61, 5, 1704, 6787]</td>\n",
              "      <td>[1, 274, 16, 1409, 8230, 4, 3, 2]</td>\n",
              "    </tr>\n",
              "    <tr>\n",
              "      <th>14985</th>\n",
              "      <td>[4, 17, 308, 42, 646, 1243]</td>\n",
              "      <td>[1, 14, 3326, 2606, 9, 61, 25, 47, 33, 2]</td>\n",
              "    </tr>\n",
              "    <tr>\n",
              "      <th>14989</th>\n",
              "      <td>[28, 24, 1424, 13, 41, 11]</td>\n",
              "      <td>[1, 278, 135, 111, 117, 382, 94, 6, 2]</td>\n",
              "    </tr>\n",
              "  </tbody>\n",
              "</table>\n",
              "<p>7349 rows × 2 columns</p>\n",
              "</div>\n",
              "    <div class=\"colab-df-buttons\">\n",
              "\n",
              "  <div class=\"colab-df-container\">\n",
              "    <button class=\"colab-df-convert\" onclick=\"convertToInteractive('df-f3d8f3ac-5004-4627-8f81-cc323c4f0588')\"\n",
              "            title=\"Convert this dataframe to an interactive table.\"\n",
              "            style=\"display:none;\">\n",
              "\n",
              "  <svg xmlns=\"http://www.w3.org/2000/svg\" height=\"24px\" viewBox=\"0 -960 960 960\">\n",
              "    <path d=\"M120-120v-720h720v720H120Zm60-500h600v-160H180v160Zm220 220h160v-160H400v160Zm0 220h160v-160H400v160ZM180-400h160v-160H180v160Zm440 0h160v-160H620v160ZM180-180h160v-160H180v160Zm440 0h160v-160H620v160Z\"/>\n",
              "  </svg>\n",
              "    </button>\n",
              "\n",
              "  <style>\n",
              "    .colab-df-container {\n",
              "      display:flex;\n",
              "      gap: 12px;\n",
              "    }\n",
              "\n",
              "    .colab-df-convert {\n",
              "      background-color: #E8F0FE;\n",
              "      border: none;\n",
              "      border-radius: 50%;\n",
              "      cursor: pointer;\n",
              "      display: none;\n",
              "      fill: #1967D2;\n",
              "      height: 32px;\n",
              "      padding: 0 0 0 0;\n",
              "      width: 32px;\n",
              "    }\n",
              "\n",
              "    .colab-df-convert:hover {\n",
              "      background-color: #E2EBFA;\n",
              "      box-shadow: 0px 1px 2px rgba(60, 64, 67, 0.3), 0px 1px 3px 1px rgba(60, 64, 67, 0.15);\n",
              "      fill: #174EA6;\n",
              "    }\n",
              "\n",
              "    .colab-df-buttons div {\n",
              "      margin-bottom: 4px;\n",
              "    }\n",
              "\n",
              "    [theme=dark] .colab-df-convert {\n",
              "      background-color: #3B4455;\n",
              "      fill: #D2E3FC;\n",
              "    }\n",
              "\n",
              "    [theme=dark] .colab-df-convert:hover {\n",
              "      background-color: #434B5C;\n",
              "      box-shadow: 0px 1px 3px 1px rgba(0, 0, 0, 0.15);\n",
              "      filter: drop-shadow(0px 1px 2px rgba(0, 0, 0, 0.3));\n",
              "      fill: #FFFFFF;\n",
              "    }\n",
              "  </style>\n",
              "\n",
              "    <script>\n",
              "      const buttonEl =\n",
              "        document.querySelector('#df-f3d8f3ac-5004-4627-8f81-cc323c4f0588 button.colab-df-convert');\n",
              "      buttonEl.style.display =\n",
              "        google.colab.kernel.accessAllowed ? 'block' : 'none';\n",
              "\n",
              "      async function convertToInteractive(key) {\n",
              "        const element = document.querySelector('#df-f3d8f3ac-5004-4627-8f81-cc323c4f0588');\n",
              "        const dataTable =\n",
              "          await google.colab.kernel.invokeFunction('convertToInteractive',\n",
              "                                                    [key], {});\n",
              "        if (!dataTable) return;\n",
              "\n",
              "        const docLinkHtml = 'Like what you see? Visit the ' +\n",
              "          '<a target=\"_blank\" href=https://colab.research.google.com/notebooks/data_table.ipynb>data table notebook</a>'\n",
              "          + ' to learn more about interactive tables.';\n",
              "        element.innerHTML = '';\n",
              "        dataTable['output_type'] = 'display_data';\n",
              "        await google.colab.output.renderOutput(dataTable, element);\n",
              "        const docLink = document.createElement('div');\n",
              "        docLink.innerHTML = docLinkHtml;\n",
              "        element.appendChild(docLink);\n",
              "      }\n",
              "    </script>\n",
              "  </div>\n",
              "\n",
              "\n",
              "<div id=\"df-65218f4d-e9e9-4fe5-8653-3a67ed5d39e7\">\n",
              "  <button class=\"colab-df-quickchart\" onclick=\"quickchart('df-65218f4d-e9e9-4fe5-8653-3a67ed5d39e7')\"\n",
              "            title=\"Suggest charts\"\n",
              "            style=\"display:none;\">\n",
              "\n",
              "<svg xmlns=\"http://www.w3.org/2000/svg\" height=\"24px\"viewBox=\"0 0 24 24\"\n",
              "     width=\"24px\">\n",
              "    <g>\n",
              "        <path d=\"M19 3H5c-1.1 0-2 .9-2 2v14c0 1.1.9 2 2 2h14c1.1 0 2-.9 2-2V5c0-1.1-.9-2-2-2zM9 17H7v-7h2v7zm4 0h-2V7h2v10zm4 0h-2v-4h2v4z\"/>\n",
              "    </g>\n",
              "</svg>\n",
              "  </button>\n",
              "\n",
              "<style>\n",
              "  .colab-df-quickchart {\n",
              "      --bg-color: #E8F0FE;\n",
              "      --fill-color: #1967D2;\n",
              "      --hover-bg-color: #E2EBFA;\n",
              "      --hover-fill-color: #174EA6;\n",
              "      --disabled-fill-color: #AAA;\n",
              "      --disabled-bg-color: #DDD;\n",
              "  }\n",
              "\n",
              "  [theme=dark] .colab-df-quickchart {\n",
              "      --bg-color: #3B4455;\n",
              "      --fill-color: #D2E3FC;\n",
              "      --hover-bg-color: #434B5C;\n",
              "      --hover-fill-color: #FFFFFF;\n",
              "      --disabled-bg-color: #3B4455;\n",
              "      --disabled-fill-color: #666;\n",
              "  }\n",
              "\n",
              "  .colab-df-quickchart {\n",
              "    background-color: var(--bg-color);\n",
              "    border: none;\n",
              "    border-radius: 50%;\n",
              "    cursor: pointer;\n",
              "    display: none;\n",
              "    fill: var(--fill-color);\n",
              "    height: 32px;\n",
              "    padding: 0;\n",
              "    width: 32px;\n",
              "  }\n",
              "\n",
              "  .colab-df-quickchart:hover {\n",
              "    background-color: var(--hover-bg-color);\n",
              "    box-shadow: 0 1px 2px rgba(60, 64, 67, 0.3), 0 1px 3px 1px rgba(60, 64, 67, 0.15);\n",
              "    fill: var(--button-hover-fill-color);\n",
              "  }\n",
              "\n",
              "  .colab-df-quickchart-complete:disabled,\n",
              "  .colab-df-quickchart-complete:disabled:hover {\n",
              "    background-color: var(--disabled-bg-color);\n",
              "    fill: var(--disabled-fill-color);\n",
              "    box-shadow: none;\n",
              "  }\n",
              "\n",
              "  .colab-df-spinner {\n",
              "    border: 2px solid var(--fill-color);\n",
              "    border-color: transparent;\n",
              "    border-bottom-color: var(--fill-color);\n",
              "    animation:\n",
              "      spin 1s steps(1) infinite;\n",
              "  }\n",
              "\n",
              "  @keyframes spin {\n",
              "    0% {\n",
              "      border-color: transparent;\n",
              "      border-bottom-color: var(--fill-color);\n",
              "      border-left-color: var(--fill-color);\n",
              "    }\n",
              "    20% {\n",
              "      border-color: transparent;\n",
              "      border-left-color: var(--fill-color);\n",
              "      border-top-color: var(--fill-color);\n",
              "    }\n",
              "    30% {\n",
              "      border-color: transparent;\n",
              "      border-left-color: var(--fill-color);\n",
              "      border-top-color: var(--fill-color);\n",
              "      border-right-color: var(--fill-color);\n",
              "    }\n",
              "    40% {\n",
              "      border-color: transparent;\n",
              "      border-right-color: var(--fill-color);\n",
              "      border-top-color: var(--fill-color);\n",
              "    }\n",
              "    60% {\n",
              "      border-color: transparent;\n",
              "      border-right-color: var(--fill-color);\n",
              "    }\n",
              "    80% {\n",
              "      border-color: transparent;\n",
              "      border-right-color: var(--fill-color);\n",
              "      border-bottom-color: var(--fill-color);\n",
              "    }\n",
              "    90% {\n",
              "      border-color: transparent;\n",
              "      border-bottom-color: var(--fill-color);\n",
              "    }\n",
              "  }\n",
              "</style>\n",
              "\n",
              "  <script>\n",
              "    async function quickchart(key) {\n",
              "      const quickchartButtonEl =\n",
              "        document.querySelector('#' + key + ' button');\n",
              "      quickchartButtonEl.disabled = true;  // To prevent multiple clicks.\n",
              "      quickchartButtonEl.classList.add('colab-df-spinner');\n",
              "      try {\n",
              "        const charts = await google.colab.kernel.invokeFunction(\n",
              "            'suggestCharts', [key], {});\n",
              "      } catch (error) {\n",
              "        console.error('Error during call to suggestCharts:', error);\n",
              "      }\n",
              "      quickchartButtonEl.classList.remove('colab-df-spinner');\n",
              "      quickchartButtonEl.classList.add('colab-df-quickchart-complete');\n",
              "    }\n",
              "    (() => {\n",
              "      let quickchartButtonEl =\n",
              "        document.querySelector('#df-65218f4d-e9e9-4fe5-8653-3a67ed5d39e7 button');\n",
              "      quickchartButtonEl.style.display =\n",
              "        google.colab.kernel.accessAllowed ? 'block' : 'none';\n",
              "    })();\n",
              "  </script>\n",
              "</div>\n",
              "\n",
              "  <div id=\"id_9b47997c-42df-4e5f-853f-eddcaf1897b7\">\n",
              "    <style>\n",
              "      .colab-df-generate {\n",
              "        background-color: #E8F0FE;\n",
              "        border: none;\n",
              "        border-radius: 50%;\n",
              "        cursor: pointer;\n",
              "        display: none;\n",
              "        fill: #1967D2;\n",
              "        height: 32px;\n",
              "        padding: 0 0 0 0;\n",
              "        width: 32px;\n",
              "      }\n",
              "\n",
              "      .colab-df-generate:hover {\n",
              "        background-color: #E2EBFA;\n",
              "        box-shadow: 0px 1px 2px rgba(60, 64, 67, 0.3), 0px 1px 3px 1px rgba(60, 64, 67, 0.15);\n",
              "        fill: #174EA6;\n",
              "      }\n",
              "\n",
              "      [theme=dark] .colab-df-generate {\n",
              "        background-color: #3B4455;\n",
              "        fill: #D2E3FC;\n",
              "      }\n",
              "\n",
              "      [theme=dark] .colab-df-generate:hover {\n",
              "        background-color: #434B5C;\n",
              "        box-shadow: 0px 1px 3px 1px rgba(0, 0, 0, 0.15);\n",
              "        filter: drop-shadow(0px 1px 2px rgba(0, 0, 0, 0.3));\n",
              "        fill: #FFFFFF;\n",
              "      }\n",
              "    </style>\n",
              "    <button class=\"colab-df-generate\" onclick=\"generateWithVariable('data')\"\n",
              "            title=\"Generate code using this dataframe.\"\n",
              "            style=\"display:none;\">\n",
              "\n",
              "  <svg xmlns=\"http://www.w3.org/2000/svg\" height=\"24px\"viewBox=\"0 0 24 24\"\n",
              "       width=\"24px\">\n",
              "    <path d=\"M7,19H8.4L18.45,9,17,7.55,7,17.6ZM5,21V16.75L18.45,3.32a2,2,0,0,1,2.83,0l1.4,1.43a1.91,1.91,0,0,1,.58,1.4,1.91,1.91,0,0,1-.58,1.4L9.25,21ZM18.45,9,17,7.55Zm-12,3A5.31,5.31,0,0,0,4.9,8.1,5.31,5.31,0,0,0,1,6.5,5.31,5.31,0,0,0,4.9,4.9,5.31,5.31,0,0,0,6.5,1,5.31,5.31,0,0,0,8.1,4.9,5.31,5.31,0,0,0,12,6.5,5.46,5.46,0,0,0,6.5,12Z\"/>\n",
              "  </svg>\n",
              "    </button>\n",
              "    <script>\n",
              "      (() => {\n",
              "      const buttonEl =\n",
              "        document.querySelector('#id_9b47997c-42df-4e5f-853f-eddcaf1897b7 button.colab-df-generate');\n",
              "      buttonEl.style.display =\n",
              "        google.colab.kernel.accessAllowed ? 'block' : 'none';\n",
              "\n",
              "      buttonEl.onclick = () => {\n",
              "        google.colab.notebook.generateWithVariable('data');\n",
              "      }\n",
              "      })();\n",
              "    </script>\n",
              "  </div>\n",
              "\n",
              "    </div>\n",
              "  </div>\n"
            ],
            "application/vnd.google.colaboratory.intrinsic+json": {
              "type": "dataframe",
              "variable_name": "data",
              "summary": "{\n  \"name\": \"data\",\n  \"rows\": 7349,\n  \"fields\": [\n    {\n      \"column\": \"English\",\n      \"properties\": {\n        \"dtype\": \"object\",\n        \"semantic_type\": \"\",\n        \"description\": \"\"\n      }\n    },\n    {\n      \"column\": \"Hindi\",\n      \"properties\": {\n        \"dtype\": \"object\",\n        \"semantic_type\": \"\",\n        \"description\": \"\"\n      }\n    }\n  ]\n}"
            }
          },
          "metadata": {},
          "execution_count": 37
        }
      ],
      "source": [
        "data"
      ]
    },
    {
      "cell_type": "code",
      "execution_count": 38,
      "id": "4bce4c6f",
      "metadata": {
        "execution": {
          "iopub.execute_input": "2024-09-19T09:25:56.331925Z",
          "iopub.status.busy": "2024-09-19T09:25:56.331013Z",
          "iopub.status.idle": "2024-09-19T09:25:56.362186Z",
          "shell.execute_reply": "2024-09-19T09:25:56.361221Z"
        },
        "papermill": {
          "duration": 0.067945,
          "end_time": "2024-09-19T09:25:56.364344",
          "exception": false,
          "start_time": "2024-09-19T09:25:56.296399",
          "status": "completed"
        },
        "tags": [],
        "id": "4bce4c6f",
        "outputId": "9829d4c1-af54-4d96-bb45-5a07ad5ab15a",
        "colab": {
          "base_uri": "https://localhost:8080/"
        }
      },
      "outputs": [
        {
          "output_type": "execute_result",
          "data": {
            "text/plain": [
              "43"
            ]
          },
          "metadata": {},
          "execution_count": 38
        }
      ],
      "source": [
        "def calculate_max_sequence_length(eng,hindi):\n",
        "    max_length_combined = max(max(len(seq) for seq in eng), max(len(seq) for seq in hindi))\n",
        "\n",
        "    return max_length_combined\n",
        "\n",
        "max_length_combined = calculate_max_sequence_length(data['English'],data['Hindi'])\n",
        "max_length_combined"
      ]
    },
    {
      "cell_type": "code",
      "execution_count": 39,
      "id": "b93e54fe",
      "metadata": {
        "execution": {
          "iopub.execute_input": "2024-09-19T09:25:56.428707Z",
          "iopub.status.busy": "2024-09-19T09:25:56.428400Z",
          "iopub.status.idle": "2024-09-19T09:25:56.434267Z",
          "shell.execute_reply": "2024-09-19T09:25:56.433331Z"
        },
        "papermill": {
          "duration": 0.040429,
          "end_time": "2024-09-19T09:25:56.436295",
          "exception": false,
          "start_time": "2024-09-19T09:25:56.395866",
          "status": "completed"
        },
        "tags": [],
        "id": "b93e54fe",
        "outputId": "333e1d73-02b7-4b31-8d37-1aa580459f33",
        "colab": {
          "base_uri": "https://localhost:8080/"
        }
      },
      "outputs": [
        {
          "output_type": "stream",
          "name": "stdout",
          "text": [
            "112 "
          ]
        }
      ],
      "source": [
        "for num in data['English'][0]:\n",
        "    print(num, end=' ')"
      ]
    },
    {
      "cell_type": "code",
      "execution_count": 40,
      "id": "28dffa20",
      "metadata": {
        "execution": {
          "iopub.execute_input": "2024-09-19T09:25:56.500282Z",
          "iopub.status.busy": "2024-09-19T09:25:56.499952Z",
          "iopub.status.idle": "2024-09-19T09:25:56.505046Z",
          "shell.execute_reply": "2024-09-19T09:25:56.504154Z"
        },
        "papermill": {
          "duration": 0.03918,
          "end_time": "2024-09-19T09:25:56.507256",
          "exception": false,
          "start_time": "2024-09-19T09:25:56.468076",
          "status": "completed"
        },
        "tags": [],
        "id": "28dffa20",
        "outputId": "7701dcb0-674d-4d10-e120-6f859b52d3f7",
        "colab": {
          "base_uri": "https://localhost:8080/"
        }
      },
      "outputs": [
        {
          "output_type": "stream",
          "name": "stdout",
          "text": [
            "help "
          ]
        }
      ],
      "source": [
        "# Print corresponding words horizontally\n",
        "for num in data['English'][0]:\n",
        "    word = tok.index_word.get(num, 'UNK')\n",
        "    print(word, end=' ')"
      ]
    },
    {
      "cell_type": "code",
      "execution_count": 41,
      "id": "a17e0021",
      "metadata": {
        "execution": {
          "iopub.execute_input": "2024-09-19T09:25:56.573294Z",
          "iopub.status.busy": "2024-09-19T09:25:56.572664Z",
          "iopub.status.idle": "2024-09-19T09:25:56.578314Z",
          "shell.execute_reply": "2024-09-19T09:25:56.577427Z"
        },
        "papermill": {
          "duration": 0.041381,
          "end_time": "2024-09-19T09:25:56.580693",
          "exception": false,
          "start_time": "2024-09-19T09:25:56.539312",
          "status": "completed"
        },
        "tags": [],
        "id": "a17e0021",
        "outputId": "04ef47dc-bd49-436c-d10e-db94c97d7989",
        "colab": {
          "base_uri": "https://localhost:8080/"
        }
      },
      "outputs": [
        {
          "output_type": "stream",
          "name": "stdout",
          "text": [
            "start बचाओ end "
          ]
        }
      ],
      "source": [
        "for num in data['Hindi'][0]:\n",
        "    word = tok_hindi.index_word.get(num)\n",
        "    print(word,end = \" \")"
      ]
    },
    {
      "cell_type": "markdown",
      "id": "1ff94c65",
      "metadata": {
        "papermill": {
          "duration": 0.031907,
          "end_time": "2024-09-19T09:25:56.644659",
          "exception": false,
          "start_time": "2024-09-19T09:25:56.612752",
          "status": "completed"
        },
        "tags": [],
        "id": "1ff94c65"
      },
      "source": [
        "<a id='4.11'></a>\n",
        "### **11. separating the data in dependent and independent**"
      ]
    },
    {
      "cell_type": "code",
      "execution_count": 42,
      "id": "9e5d8978",
      "metadata": {
        "execution": {
          "iopub.execute_input": "2024-09-19T09:25:56.710880Z",
          "iopub.status.busy": "2024-09-19T09:25:56.710507Z",
          "iopub.status.idle": "2024-09-19T09:25:56.715069Z",
          "shell.execute_reply": "2024-09-19T09:25:56.714158Z"
        },
        "papermill": {
          "duration": 0.040597,
          "end_time": "2024-09-19T09:25:56.717219",
          "exception": false,
          "start_time": "2024-09-19T09:25:56.676622",
          "status": "completed"
        },
        "tags": [],
        "id": "9e5d8978"
      },
      "outputs": [],
      "source": [
        "hindi = data['Hindi']\n",
        "english = data['English']"
      ]
    },
    {
      "cell_type": "markdown",
      "id": "93678930",
      "metadata": {
        "papermill": {
          "duration": 0.032287,
          "end_time": "2024-09-19T09:25:56.782862",
          "exception": false,
          "start_time": "2024-09-19T09:25:56.750575",
          "status": "completed"
        },
        "tags": [],
        "id": "93678930"
      },
      "source": [
        "<a id='4.12'></a>\n",
        "### **12. Padding**"
      ]
    },
    {
      "cell_type": "code",
      "execution_count": 43,
      "id": "76b5473a",
      "metadata": {
        "execution": {
          "iopub.execute_input": "2024-09-19T09:25:56.852814Z",
          "iopub.status.busy": "2024-09-19T09:25:56.851913Z",
          "iopub.status.idle": "2024-09-19T09:25:57.327852Z",
          "shell.execute_reply": "2024-09-19T09:25:57.326998Z"
        },
        "papermill": {
          "duration": 0.514189,
          "end_time": "2024-09-19T09:25:57.330414",
          "exception": false,
          "start_time": "2024-09-19T09:25:56.816225",
          "status": "completed"
        },
        "tags": [],
        "id": "76b5473a"
      },
      "outputs": [],
      "source": [
        "x = pad_sequences(english,maxlen = max_length_combined,padding = 'post')\n",
        "y = pad_sequences(hindi,maxlen = max_length_combined,padding = 'post')"
      ]
    },
    {
      "cell_type": "code",
      "execution_count": 44,
      "id": "2d98fbeb",
      "metadata": {
        "execution": {
          "iopub.execute_input": "2024-09-19T09:25:57.400100Z",
          "iopub.status.busy": "2024-09-19T09:25:57.399390Z",
          "iopub.status.idle": "2024-09-19T09:25:57.405682Z",
          "shell.execute_reply": "2024-09-19T09:25:57.404730Z"
        },
        "papermill": {
          "duration": 0.042054,
          "end_time": "2024-09-19T09:25:57.408137",
          "exception": false,
          "start_time": "2024-09-19T09:25:57.366083",
          "status": "completed"
        },
        "tags": [],
        "id": "2d98fbeb",
        "outputId": "a786a078-4f55-4891-b539-882a4432b40a",
        "colab": {
          "base_uri": "https://localhost:8080/"
        }
      },
      "outputs": [
        {
          "output_type": "execute_result",
          "data": {
            "text/plain": [
              "array([[ 112,    0,    0, ...,    0,    0,    0],\n",
              "       [1096,    0,    0, ...,    0,    0,    0],\n",
              "       [1096,    0,    0, ...,    0,    0,    0],\n",
              "       ...,\n",
              "       [  61,    5, 1704, ...,    0,    0,    0],\n",
              "       [   4,   17,  308, ...,    0,    0,    0],\n",
              "       [  28,   24, 1424, ...,    0,    0,    0]], dtype=int32)"
            ]
          },
          "metadata": {},
          "execution_count": 44
        }
      ],
      "source": [
        "x"
      ]
    },
    {
      "cell_type": "code",
      "execution_count": 45,
      "id": "c5953936",
      "metadata": {
        "execution": {
          "iopub.execute_input": "2024-09-19T09:25:57.478799Z",
          "iopub.status.busy": "2024-09-19T09:25:57.478500Z",
          "iopub.status.idle": "2024-09-19T09:25:57.485199Z",
          "shell.execute_reply": "2024-09-19T09:25:57.484328Z"
        },
        "papermill": {
          "duration": 0.043991,
          "end_time": "2024-09-19T09:25:57.487547",
          "exception": false,
          "start_time": "2024-09-19T09:25:57.443556",
          "status": "completed"
        },
        "tags": [],
        "id": "c5953936",
        "outputId": "33181491-82d3-4670-c83c-aa9bccf9e1f7",
        "colab": {
          "base_uri": "https://localhost:8080/"
        }
      },
      "outputs": [
        {
          "output_type": "execute_result",
          "data": {
            "text/plain": [
              "array([[   1, 3424,    2, ...,    0,    0,    0],\n",
              "       [   1, 3425,    2, ...,    0,    0,    0],\n",
              "       [   1, 3426,    2, ...,    0,    0,    0],\n",
              "       ...,\n",
              "       [   1,  274,   16, ...,    0,    0,    0],\n",
              "       [   1,   14, 3326, ...,    0,    0,    0],\n",
              "       [   1,  278,  135, ...,    0,    0,    0]], dtype=int32)"
            ]
          },
          "metadata": {},
          "execution_count": 45
        }
      ],
      "source": [
        "y"
      ]
    },
    {
      "cell_type": "markdown",
      "id": "afe78e39",
      "metadata": {
        "execution": {
          "iopub.execute_input": "2024-07-08T06:49:45.810260Z",
          "iopub.status.busy": "2024-07-08T06:49:45.809649Z",
          "iopub.status.idle": "2024-07-08T06:49:45.820790Z",
          "shell.execute_reply": "2024-07-08T06:49:45.818713Z",
          "shell.execute_reply.started": "2024-07-08T06:49:45.810223Z"
        },
        "papermill": {
          "duration": 0.033717,
          "end_time": "2024-09-19T09:25:57.555145",
          "exception": false,
          "start_time": "2024-09-19T09:25:57.521428",
          "status": "completed"
        },
        "tags": [],
        "id": "afe78e39"
      },
      "source": [
        "<a id='4.13'></a>\n",
        "### **13. splitting in train test and val**"
      ]
    },
    {
      "cell_type": "code",
      "execution_count": 46,
      "id": "9c72a418",
      "metadata": {
        "execution": {
          "iopub.execute_input": "2024-09-19T09:25:57.622788Z",
          "iopub.status.busy": "2024-09-19T09:25:57.622235Z",
          "iopub.status.idle": "2024-09-19T09:25:57.667598Z",
          "shell.execute_reply": "2024-09-19T09:25:57.666512Z"
        },
        "papermill": {
          "duration": 0.081137,
          "end_time": "2024-09-19T09:25:57.669915",
          "exception": false,
          "start_time": "2024-09-19T09:25:57.588778",
          "status": "completed"
        },
        "tags": [],
        "id": "9c72a418"
      },
      "outputs": [],
      "source": [
        "x_train,x_test,y_train,y_test = train_test_split(x,y,test_size=0.2,random_state=42)"
      ]
    },
    {
      "cell_type": "code",
      "execution_count": 47,
      "id": "a0855161",
      "metadata": {
        "execution": {
          "iopub.execute_input": "2024-09-19T09:25:57.735738Z",
          "iopub.status.busy": "2024-09-19T09:25:57.735061Z",
          "iopub.status.idle": "2024-09-19T09:25:57.740595Z",
          "shell.execute_reply": "2024-09-19T09:25:57.739717Z"
        },
        "papermill": {
          "duration": 0.040734,
          "end_time": "2024-09-19T09:25:57.742616",
          "exception": false,
          "start_time": "2024-09-19T09:25:57.701882",
          "status": "completed"
        },
        "tags": [],
        "id": "a0855161",
        "outputId": "3d47e140-038b-44fd-d1df-8dadc0dd0eef",
        "colab": {
          "base_uri": "https://localhost:8080/"
        }
      },
      "outputs": [
        {
          "output_type": "stream",
          "name": "stdout",
          "text": [
            "Shape of x_train: (5879, 43)\n",
            "Shape of x_test: (1470, 43)\n",
            "Shape of y_train: (5879, 43)\n",
            "Shape of y_test: (1470, 43)\n"
          ]
        }
      ],
      "source": [
        "# Check the shape of the resulting arrays\n",
        "print(\"Shape of x_train:\", x_train.shape)\n",
        "print(\"Shape of x_test:\", x_test.shape)\n",
        "print(\"Shape of y_train:\", y_train.shape)\n",
        "print(\"Shape of y_test:\", y_test.shape)"
      ]
    },
    {
      "cell_type": "markdown",
      "id": "9cfe22d5",
      "metadata": {
        "papermill": {
          "duration": 0.032356,
          "end_time": "2024-09-19T09:25:57.807258",
          "exception": false,
          "start_time": "2024-09-19T09:25:57.774902",
          "status": "completed"
        },
        "tags": [],
        "id": "9cfe22d5"
      },
      "source": [
        "# 5 | Modelling\n",
        "\n",
        "<div style=\"padding: 4px;color:white;margin:10;font-size:200%;text-align:center;display:fill;border-radius:10px;overflow:hidden;background-image: url(https://i.postimg.cc/fTDmwnkQ/Miaka.png); background-size: 100% auto;\"></div>\n"
      ]
    },
    {
      "cell_type": "markdown",
      "id": "e88c6cf2",
      "metadata": {
        "execution": {
          "iopub.execute_input": "2024-07-12T06:02:20.302442Z",
          "iopub.status.busy": "2024-07-12T06:02:20.301957Z",
          "iopub.status.idle": "2024-07-12T06:02:20.309605Z",
          "shell.execute_reply": "2024-07-12T06:02:20.308069Z",
          "shell.execute_reply.started": "2024-07-12T06:02:20.302394Z"
        },
        "papermill": {
          "duration": 0.031982,
          "end_time": "2024-09-19T09:25:57.872464",
          "exception": false,
          "start_time": "2024-09-19T09:25:57.840482",
          "status": "completed"
        },
        "tags": [],
        "id": "e88c6cf2"
      },
      "source": [
        "<a id='5.1'></a>\n",
        "### **5.1. ENCODER-DECODER MODEL**"
      ]
    },
    {
      "cell_type": "code",
      "execution_count": 48,
      "id": "6ffc73d2",
      "metadata": {
        "execution": {
          "iopub.execute_input": "2024-09-19T09:25:57.937212Z",
          "iopub.status.busy": "2024-09-19T09:25:57.936349Z",
          "iopub.status.idle": "2024-09-19T09:25:59.271843Z",
          "shell.execute_reply": "2024-09-19T09:25:59.270987Z"
        },
        "papermill": {
          "duration": 1.370036,
          "end_time": "2024-09-19T09:25:59.274015",
          "exception": false,
          "start_time": "2024-09-19T09:25:57.903979",
          "status": "completed"
        },
        "tags": [],
        "id": "6ffc73d2",
        "outputId": "d8e9bf1e-35f8-4a58-cd00-77f6ee9094d6",
        "colab": {
          "base_uri": "https://localhost:8080/",
          "height": 450
        }
      },
      "outputs": [
        {
          "output_type": "display_data",
          "data": {
            "text/plain": [
              "\u001b[1mModel: \"functional\"\u001b[0m\n"
            ],
            "text/html": [
              "<pre style=\"white-space:pre;overflow-x:auto;line-height:normal;font-family:Menlo,'DejaVu Sans Mono',consolas,'Courier New',monospace\"><span style=\"font-weight: bold\">Model: \"functional\"</span>\n",
              "</pre>\n"
            ]
          },
          "metadata": {}
        },
        {
          "output_type": "display_data",
          "data": {
            "text/plain": [
              "┏━━━━━━━━━━━━━━━━━━━━━━━━━━━┳━━━━━━━━━━━━━━━━━━━━━━━━┳━━━━━━━━━━━━━━━━┳━━━━━━━━━━━━━━━━━━━━━━━━┓\n",
              "┃\u001b[1m \u001b[0m\u001b[1mLayer (type)             \u001b[0m\u001b[1m \u001b[0m┃\u001b[1m \u001b[0m\u001b[1mOutput Shape          \u001b[0m\u001b[1m \u001b[0m┃\u001b[1m \u001b[0m\u001b[1m       Param #\u001b[0m\u001b[1m \u001b[0m┃\u001b[1m \u001b[0m\u001b[1mConnected to          \u001b[0m\u001b[1m \u001b[0m┃\n",
              "┡━━━━━━━━━━━━━━━━━━━━━━━━━━━╇━━━━━━━━━━━━━━━━━━━━━━━━╇━━━━━━━━━━━━━━━━╇━━━━━━━━━━━━━━━━━━━━━━━━┩\n",
              "│ input_layer (\u001b[38;5;33mInputLayer\u001b[0m)  │ (\u001b[38;5;45mNone\u001b[0m, \u001b[38;5;34m43\u001b[0m)             │              \u001b[38;5;34m0\u001b[0m │ -                      │\n",
              "├───────────────────────────┼────────────────────────┼────────────────┼────────────────────────┤\n",
              "│ input_layer_1             │ (\u001b[38;5;45mNone\u001b[0m, \u001b[38;5;34m43\u001b[0m)             │              \u001b[38;5;34m0\u001b[0m │ -                      │\n",
              "│ (\u001b[38;5;33mInputLayer\u001b[0m)              │                        │                │                        │\n",
              "├───────────────────────────┼────────────────────────┼────────────────┼────────────────────────┤\n",
              "│ embedding (\u001b[38;5;33mEmbedding\u001b[0m)     │ (\u001b[38;5;45mNone\u001b[0m, \u001b[38;5;34m43\u001b[0m, \u001b[38;5;34m260\u001b[0m)        │      \u001b[38;5;34m1,764,880\u001b[0m │ input_layer[\u001b[38;5;34m0\u001b[0m][\u001b[38;5;34m0\u001b[0m]      │\n",
              "├───────────────────────────┼────────────────────────┼────────────────┼────────────────────────┤\n",
              "│ embedding_1 (\u001b[38;5;33mEmbedding\u001b[0m)   │ (\u001b[38;5;45mNone\u001b[0m, \u001b[38;5;34m43\u001b[0m, \u001b[38;5;34m260\u001b[0m)        │      \u001b[38;5;34m2,140,060\u001b[0m │ input_layer_1[\u001b[38;5;34m0\u001b[0m][\u001b[38;5;34m0\u001b[0m]    │\n",
              "├───────────────────────────┼────────────────────────┼────────────────┼────────────────────────┤\n",
              "│ lstm (\u001b[38;5;33mLSTM\u001b[0m)               │ [(\u001b[38;5;45mNone\u001b[0m, \u001b[38;5;34m156\u001b[0m), (\u001b[38;5;45mNone\u001b[0m,   │        \u001b[38;5;34m260,208\u001b[0m │ embedding[\u001b[38;5;34m0\u001b[0m][\u001b[38;5;34m0\u001b[0m]        │\n",
              "│                           │ \u001b[38;5;34m156\u001b[0m), (\u001b[38;5;45mNone\u001b[0m, \u001b[38;5;34m156\u001b[0m)]     │                │                        │\n",
              "├───────────────────────────┼────────────────────────┼────────────────┼────────────────────────┤\n",
              "│ lstm_1 (\u001b[38;5;33mLSTM\u001b[0m)             │ [(\u001b[38;5;45mNone\u001b[0m, \u001b[38;5;34m43\u001b[0m, \u001b[38;5;34m156\u001b[0m),      │        \u001b[38;5;34m260,208\u001b[0m │ embedding_1[\u001b[38;5;34m0\u001b[0m][\u001b[38;5;34m0\u001b[0m],     │\n",
              "│                           │ (\u001b[38;5;45mNone\u001b[0m, \u001b[38;5;34m156\u001b[0m), (\u001b[38;5;45mNone\u001b[0m,    │                │ lstm[\u001b[38;5;34m0\u001b[0m][\u001b[38;5;34m1\u001b[0m], lstm[\u001b[38;5;34m0\u001b[0m][\u001b[38;5;34m2\u001b[0m] │\n",
              "│                           │ \u001b[38;5;34m156\u001b[0m)]                  │                │                        │\n",
              "├───────────────────────────┼────────────────────────┼────────────────┼────────────────────────┤\n",
              "│ dense (\u001b[38;5;33mDense\u001b[0m)             │ (\u001b[38;5;45mNone\u001b[0m, \u001b[38;5;34m43\u001b[0m, \u001b[38;5;34m8231\u001b[0m)       │      \u001b[38;5;34m1,292,267\u001b[0m │ lstm_1[\u001b[38;5;34m0\u001b[0m][\u001b[38;5;34m0\u001b[0m]           │\n",
              "└───────────────────────────┴────────────────────────┴────────────────┴────────────────────────┘\n"
            ],
            "text/html": [
              "<pre style=\"white-space:pre;overflow-x:auto;line-height:normal;font-family:Menlo,'DejaVu Sans Mono',consolas,'Courier New',monospace\">┏━━━━━━━━━━━━━━━━━━━━━━━━━━━┳━━━━━━━━━━━━━━━━━━━━━━━━┳━━━━━━━━━━━━━━━━┳━━━━━━━━━━━━━━━━━━━━━━━━┓\n",
              "┃<span style=\"font-weight: bold\"> Layer (type)              </span>┃<span style=\"font-weight: bold\"> Output Shape           </span>┃<span style=\"font-weight: bold\">        Param # </span>┃<span style=\"font-weight: bold\"> Connected to           </span>┃\n",
              "┡━━━━━━━━━━━━━━━━━━━━━━━━━━━╇━━━━━━━━━━━━━━━━━━━━━━━━╇━━━━━━━━━━━━━━━━╇━━━━━━━━━━━━━━━━━━━━━━━━┩\n",
              "│ input_layer (<span style=\"color: #0087ff; text-decoration-color: #0087ff\">InputLayer</span>)  │ (<span style=\"color: #00d7ff; text-decoration-color: #00d7ff\">None</span>, <span style=\"color: #00af00; text-decoration-color: #00af00\">43</span>)             │              <span style=\"color: #00af00; text-decoration-color: #00af00\">0</span> │ -                      │\n",
              "├───────────────────────────┼────────────────────────┼────────────────┼────────────────────────┤\n",
              "│ input_layer_1             │ (<span style=\"color: #00d7ff; text-decoration-color: #00d7ff\">None</span>, <span style=\"color: #00af00; text-decoration-color: #00af00\">43</span>)             │              <span style=\"color: #00af00; text-decoration-color: #00af00\">0</span> │ -                      │\n",
              "│ (<span style=\"color: #0087ff; text-decoration-color: #0087ff\">InputLayer</span>)              │                        │                │                        │\n",
              "├───────────────────────────┼────────────────────────┼────────────────┼────────────────────────┤\n",
              "│ embedding (<span style=\"color: #0087ff; text-decoration-color: #0087ff\">Embedding</span>)     │ (<span style=\"color: #00d7ff; text-decoration-color: #00d7ff\">None</span>, <span style=\"color: #00af00; text-decoration-color: #00af00\">43</span>, <span style=\"color: #00af00; text-decoration-color: #00af00\">260</span>)        │      <span style=\"color: #00af00; text-decoration-color: #00af00\">1,764,880</span> │ input_layer[<span style=\"color: #00af00; text-decoration-color: #00af00\">0</span>][<span style=\"color: #00af00; text-decoration-color: #00af00\">0</span>]      │\n",
              "├───────────────────────────┼────────────────────────┼────────────────┼────────────────────────┤\n",
              "│ embedding_1 (<span style=\"color: #0087ff; text-decoration-color: #0087ff\">Embedding</span>)   │ (<span style=\"color: #00d7ff; text-decoration-color: #00d7ff\">None</span>, <span style=\"color: #00af00; text-decoration-color: #00af00\">43</span>, <span style=\"color: #00af00; text-decoration-color: #00af00\">260</span>)        │      <span style=\"color: #00af00; text-decoration-color: #00af00\">2,140,060</span> │ input_layer_1[<span style=\"color: #00af00; text-decoration-color: #00af00\">0</span>][<span style=\"color: #00af00; text-decoration-color: #00af00\">0</span>]    │\n",
              "├───────────────────────────┼────────────────────────┼────────────────┼────────────────────────┤\n",
              "│ lstm (<span style=\"color: #0087ff; text-decoration-color: #0087ff\">LSTM</span>)               │ [(<span style=\"color: #00d7ff; text-decoration-color: #00d7ff\">None</span>, <span style=\"color: #00af00; text-decoration-color: #00af00\">156</span>), (<span style=\"color: #00d7ff; text-decoration-color: #00d7ff\">None</span>,   │        <span style=\"color: #00af00; text-decoration-color: #00af00\">260,208</span> │ embedding[<span style=\"color: #00af00; text-decoration-color: #00af00\">0</span>][<span style=\"color: #00af00; text-decoration-color: #00af00\">0</span>]        │\n",
              "│                           │ <span style=\"color: #00af00; text-decoration-color: #00af00\">156</span>), (<span style=\"color: #00d7ff; text-decoration-color: #00d7ff\">None</span>, <span style=\"color: #00af00; text-decoration-color: #00af00\">156</span>)]     │                │                        │\n",
              "├───────────────────────────┼────────────────────────┼────────────────┼────────────────────────┤\n",
              "│ lstm_1 (<span style=\"color: #0087ff; text-decoration-color: #0087ff\">LSTM</span>)             │ [(<span style=\"color: #00d7ff; text-decoration-color: #00d7ff\">None</span>, <span style=\"color: #00af00; text-decoration-color: #00af00\">43</span>, <span style=\"color: #00af00; text-decoration-color: #00af00\">156</span>),      │        <span style=\"color: #00af00; text-decoration-color: #00af00\">260,208</span> │ embedding_1[<span style=\"color: #00af00; text-decoration-color: #00af00\">0</span>][<span style=\"color: #00af00; text-decoration-color: #00af00\">0</span>],     │\n",
              "│                           │ (<span style=\"color: #00d7ff; text-decoration-color: #00d7ff\">None</span>, <span style=\"color: #00af00; text-decoration-color: #00af00\">156</span>), (<span style=\"color: #00d7ff; text-decoration-color: #00d7ff\">None</span>,    │                │ lstm[<span style=\"color: #00af00; text-decoration-color: #00af00\">0</span>][<span style=\"color: #00af00; text-decoration-color: #00af00\">1</span>], lstm[<span style=\"color: #00af00; text-decoration-color: #00af00\">0</span>][<span style=\"color: #00af00; text-decoration-color: #00af00\">2</span>] │\n",
              "│                           │ <span style=\"color: #00af00; text-decoration-color: #00af00\">156</span>)]                  │                │                        │\n",
              "├───────────────────────────┼────────────────────────┼────────────────┼────────────────────────┤\n",
              "│ dense (<span style=\"color: #0087ff; text-decoration-color: #0087ff\">Dense</span>)             │ (<span style=\"color: #00d7ff; text-decoration-color: #00d7ff\">None</span>, <span style=\"color: #00af00; text-decoration-color: #00af00\">43</span>, <span style=\"color: #00af00; text-decoration-color: #00af00\">8231</span>)       │      <span style=\"color: #00af00; text-decoration-color: #00af00\">1,292,267</span> │ lstm_1[<span style=\"color: #00af00; text-decoration-color: #00af00\">0</span>][<span style=\"color: #00af00; text-decoration-color: #00af00\">0</span>]           │\n",
              "└───────────────────────────┴────────────────────────┴────────────────┴────────────────────────┘\n",
              "</pre>\n"
            ]
          },
          "metadata": {}
        },
        {
          "output_type": "display_data",
          "data": {
            "text/plain": [
              "\u001b[1m Total params: \u001b[0m\u001b[38;5;34m5,717,623\u001b[0m (21.81 MB)\n"
            ],
            "text/html": [
              "<pre style=\"white-space:pre;overflow-x:auto;line-height:normal;font-family:Menlo,'DejaVu Sans Mono',consolas,'Courier New',monospace\"><span style=\"font-weight: bold\"> Total params: </span><span style=\"color: #00af00; text-decoration-color: #00af00\">5,717,623</span> (21.81 MB)\n",
              "</pre>\n"
            ]
          },
          "metadata": {}
        },
        {
          "output_type": "display_data",
          "data": {
            "text/plain": [
              "\u001b[1m Trainable params: \u001b[0m\u001b[38;5;34m5,717,623\u001b[0m (21.81 MB)\n"
            ],
            "text/html": [
              "<pre style=\"white-space:pre;overflow-x:auto;line-height:normal;font-family:Menlo,'DejaVu Sans Mono',consolas,'Courier New',monospace\"><span style=\"font-weight: bold\"> Trainable params: </span><span style=\"color: #00af00; text-decoration-color: #00af00\">5,717,623</span> (21.81 MB)\n",
              "</pre>\n"
            ]
          },
          "metadata": {}
        },
        {
          "output_type": "display_data",
          "data": {
            "text/plain": [
              "\u001b[1m Non-trainable params: \u001b[0m\u001b[38;5;34m0\u001b[0m (0.00 B)\n"
            ],
            "text/html": [
              "<pre style=\"white-space:pre;overflow-x:auto;line-height:normal;font-family:Menlo,'DejaVu Sans Mono',consolas,'Courier New',monospace\"><span style=\"font-weight: bold\"> Non-trainable params: </span><span style=\"color: #00af00; text-decoration-color: #00af00\">0</span> (0.00 B)\n",
              "</pre>\n"
            ]
          },
          "metadata": {}
        }
      ],
      "source": [
        "max_length_input = x_train.shape[1]\n",
        "max_length_output = y_train.shape[1]\n",
        "input_vocab_size = len(tok.word_index) + 1\n",
        "output_vocab_size = len(tok_hindi.word_index) + 1\n",
        "\n",
        "# Define Encoder model\n",
        "encoder_inputs = Input(shape=(max_length_input,))\n",
        "encoder_embedding = Embedding(input_dim=input_vocab_size, output_dim=260)(encoder_inputs)\n",
        "encoder_lstm = LSTM(156, return_state=True)\n",
        "encoder_outputs, state_h, state_c = encoder_lstm(encoder_embedding)\n",
        "encoder_states = [state_h, state_c]\n",
        "\n",
        "# Define Decoder model\n",
        "decoder_inputs = Input(shape=(max_length_output,))\n",
        "decoder_embedding = Embedding(input_dim=output_vocab_size, output_dim=260)(decoder_inputs)\n",
        "decoder_lstm = LSTM(156, return_sequences=True, return_state=True)\n",
        "decoder_outputs, _, _ = decoder_lstm(decoder_embedding, initial_state=encoder_states)\n",
        "decoder_dense = Dense(output_vocab_size, activation='softmax')\n",
        "decoder_outputs = decoder_dense(decoder_outputs)\n",
        "\n",
        "# Define the full Encoder-Decoder model\n",
        "model = Model([encoder_inputs, decoder_inputs], decoder_outputs)\n",
        "\n",
        "# Compile the model\n",
        "model.compile(optimizer='adam', loss='sparse_categorical_crossentropy', metrics=['accuracy'])\n",
        "\n",
        "# Print model summary\n",
        "model.summary()"
      ]
    },
    {
      "cell_type": "code",
      "execution_count": 49,
      "id": "95d9b265",
      "metadata": {
        "execution": {
          "iopub.execute_input": "2024-09-19T09:25:59.349384Z",
          "iopub.status.busy": "2024-09-19T09:25:59.348703Z",
          "iopub.status.idle": "2024-09-19T09:52:43.026179Z",
          "shell.execute_reply": "2024-09-19T09:52:43.025046Z"
        },
        "papermill": {
          "duration": 1604.25266,
          "end_time": "2024-09-19T09:52:43.562140",
          "exception": false,
          "start_time": "2024-09-19T09:25:59.309480",
          "status": "completed"
        },
        "tags": [],
        "id": "95d9b265",
        "outputId": "1a7c698e-0fc4-4ab4-8d1f-e1b01e721653",
        "colab": {
          "base_uri": "https://localhost:8080/"
        }
      },
      "outputs": [
        {
          "output_type": "stream",
          "name": "stdout",
          "text": [
            "Epoch 1/10\n",
            "\u001b[1m184/184\u001b[0m \u001b[32m━━━━━━━━━━━━━━━━━━━━\u001b[0m\u001b[37m\u001b[0m \u001b[1m11s\u001b[0m 39ms/step - accuracy: 0.7865 - loss: 3.4407 - val_accuracy: 0.8500 - val_loss: 1.0919\n",
            "Epoch 2/10\n",
            "\u001b[1m184/184\u001b[0m \u001b[32m━━━━━━━━━━━━━━━━━━━━\u001b[0m\u001b[37m\u001b[0m \u001b[1m6s\u001b[0m 32ms/step - accuracy: 0.8473 - loss: 1.0662 - val_accuracy: 0.8577 - val_loss: 0.9836\n",
            "Epoch 3/10\n",
            "\u001b[1m184/184\u001b[0m \u001b[32m━━━━━━━━━━━━━━━━━━━━\u001b[0m\u001b[37m\u001b[0m \u001b[1m11s\u001b[0m 36ms/step - accuracy: 0.8620 - loss: 0.9492 - val_accuracy: 0.8813 - val_loss: 0.8907\n",
            "Epoch 4/10\n",
            "\u001b[1m184/184\u001b[0m \u001b[32m━━━━━━━━━━━━━━━━━━━━\u001b[0m\u001b[37m\u001b[0m \u001b[1m10s\u001b[0m 33ms/step - accuracy: 0.8833 - loss: 0.8490 - val_accuracy: 0.8958 - val_loss: 0.8032\n",
            "Epoch 5/10\n",
            "\u001b[1m184/184\u001b[0m \u001b[32m━━━━━━━━━━━━━━━━━━━━\u001b[0m\u001b[37m\u001b[0m \u001b[1m11s\u001b[0m 37ms/step - accuracy: 0.8985 - loss: 0.7457 - val_accuracy: 0.9092 - val_loss: 0.7330\n",
            "Epoch 6/10\n",
            "\u001b[1m184/184\u001b[0m \u001b[32m━━━━━━━━━━━━━━━━━━━━\u001b[0m\u001b[37m\u001b[0m \u001b[1m7s\u001b[0m 36ms/step - accuracy: 0.9103 - loss: 0.6765 - val_accuracy: 0.9196 - val_loss: 0.6695\n",
            "Epoch 7/10\n",
            "\u001b[1m184/184\u001b[0m \u001b[32m━━━━━━━━━━━━━━━━━━━━\u001b[0m\u001b[37m\u001b[0m \u001b[1m10s\u001b[0m 33ms/step - accuracy: 0.9210 - loss: 0.6083 - val_accuracy: 0.9282 - val_loss: 0.6146\n",
            "Epoch 8/10\n",
            "\u001b[1m184/184\u001b[0m \u001b[32m━━━━━━━━━━━━━━━━━━━━\u001b[0m\u001b[37m\u001b[0m \u001b[1m7s\u001b[0m 36ms/step - accuracy: 0.9298 - loss: 0.5450 - val_accuracy: 0.9361 - val_loss: 0.5661\n",
            "Epoch 9/10\n",
            "\u001b[1m184/184\u001b[0m \u001b[32m━━━━━━━━━━━━━━━━━━━━\u001b[0m\u001b[37m\u001b[0m \u001b[1m10s\u001b[0m 34ms/step - accuracy: 0.9367 - loss: 0.4911 - val_accuracy: 0.9427 - val_loss: 0.5249\n",
            "Epoch 10/10\n",
            "\u001b[1m184/184\u001b[0m \u001b[32m━━━━━━━━━━━━━━━━━━━━\u001b[0m\u001b[37m\u001b[0m \u001b[1m11s\u001b[0m 36ms/step - accuracy: 0.9441 - loss: 0.4397 - val_accuracy: 0.9487 - val_loss: 0.4905\n"
          ]
        }
      ],
      "source": [
        "from tensorflow.keras.callbacks import EarlyStopping, ModelCheckpoint\n",
        "\n",
        "early_stopping = EarlyStopping(monitor='val_loss', patience=3, restore_best_weights=True)\n",
        "model_checkpoint = ModelCheckpoint('model_checkpoint.keras', save_best_only=True)  # Updated filepath\n",
        "\n",
        "# Train the model with callbacks\n",
        "history = model.fit(\n",
        "    x=[x_train, y_train],# Exclude last token from decoder input\n",
        "    y=y_train,   # Exclude first token from decoder target\n",
        "    batch_size=32,\n",
        "    epochs=10,\n",
        "    validation_data=([x_test, y_test], y_test),\n",
        "    callbacks=[early_stopping, model_checkpoint],\n",
        ")"
      ]
    },
    {
      "cell_type": "markdown",
      "id": "cb60a4ce",
      "metadata": {
        "papermill": {
          "duration": 0.590122,
          "end_time": "2024-09-19T09:52:44.773945",
          "exception": false,
          "start_time": "2024-09-19T09:52:44.183823",
          "status": "completed"
        },
        "tags": [],
        "id": "cb60a4ce"
      },
      "source": [
        "<a id='5.2'></a>\n",
        "### **5.2. ENCODER-DECODER MODEL EVALUATION**"
      ]
    },
    {
      "cell_type": "code",
      "execution_count": 50,
      "id": "d30f751c",
      "metadata": {
        "execution": {
          "iopub.execute_input": "2024-09-19T09:52:45.975679Z",
          "iopub.status.busy": "2024-09-19T09:52:45.975312Z",
          "iopub.status.idle": "2024-09-19T09:52:46.347460Z",
          "shell.execute_reply": "2024-09-19T09:52:46.346426Z"
        },
        "papermill": {
          "duration": 0.954613,
          "end_time": "2024-09-19T09:52:46.350041",
          "exception": false,
          "start_time": "2024-09-19T09:52:45.395428",
          "status": "completed"
        },
        "tags": [],
        "id": "d30f751c",
        "outputId": "dcf35c7e-62d7-4aac-effe-6854d1ca2b56",
        "colab": {
          "base_uri": "https://localhost:8080/",
          "height": 503
        }
      },
      "outputs": [
        {
          "output_type": "display_data",
          "data": {
            "text/plain": [
              "<Figure size 640x480 with 1 Axes>"
            ],
            "image/png": "[encoded data removed]"
          },
          "metadata": {}
        }
      ],
      "source": [
        "plt.plot(history.history['accuracy'],color = 'blue',label = 'accuracy')\n",
        "plt.plot(history.history['val_accuracy'],color = 'red',label = 'val_accuracy')\n",
        "plt.title(\"Training And Validation Accuracy Score\")\n",
        "plt.xlabel(\"accuracy\")\n",
        "plt.ylabel(\"epochs\")\n",
        "plt.grid()\n",
        "plt.legend()\n",
        "plt.show()"
      ]
    },
    {
      "cell_type": "code",
      "execution_count": 51,
      "id": "c4fd8180",
      "metadata": {
        "execution": {
          "iopub.execute_input": "2024-09-19T09:52:47.585063Z",
          "iopub.status.busy": "2024-09-19T09:52:47.584596Z",
          "iopub.status.idle": "2024-09-19T09:52:47.947686Z",
          "shell.execute_reply": "2024-09-19T09:52:47.946611Z"
        },
        "papermill": {
          "duration": 0.97643,
          "end_time": "2024-09-19T09:52:47.949885",
          "exception": false,
          "start_time": "2024-09-19T09:52:46.973455",
          "status": "completed"
        },
        "tags": [],
        "id": "c4fd8180",
        "outputId": "93cbd35a-4351-45e5-9232-5b467a098fcc",
        "colab": {
          "base_uri": "https://localhost:8080/",
          "height": 503
        }
      },
      "outputs": [
        {
          "output_type": "display_data",
          "data": {
            "text/plain": [
              "<Figure size 640x480 with 1 Axes>"
            ],
            "image/png": "[encoded data removed]"
          },
          "metadata": {}
        }
      ],
      "source": [
        "plt.plot(history.history['loss'],color = 'blue',label = 'loss')\n",
        "plt.plot(history.history['val_loss'],color = 'red',label = 'val_loss')\n",
        "plt.title(\"Training And Validation Loss Score\")\n",
        "plt.xlabel(\"loss\")\n",
        "plt.ylabel(\"epochs\")\n",
        "plt.grid()\n",
        "plt.legend()\n",
        "plt.show()"
      ]
    },
    {
      "cell_type": "markdown",
      "id": "d0a51d1c",
      "metadata": {
        "execution": {
          "iopub.execute_input": "2024-07-17T17:03:22.474977Z",
          "iopub.status.busy": "2024-07-17T17:03:22.474535Z",
          "iopub.status.idle": "2024-07-17T17:03:22.479319Z",
          "shell.execute_reply": "2024-07-17T17:03:22.478452Z",
          "shell.execute_reply.started": "2024-07-17T17:03:22.474942Z"
        },
        "papermill": {
          "duration": 0.548188,
          "end_time": "2024-09-19T09:52:49.064325",
          "exception": false,
          "start_time": "2024-09-19T09:52:48.516137",
          "status": "completed"
        },
        "tags": [],
        "id": "d0a51d1c"
      },
      "source": [
        "<a id='5.3'></a>\n",
        "### **5.3. PREDICTION FROM ENCODER-DECODER MODEL**"
      ]
    },
    {
      "cell_type": "code",
      "execution_count": 52,
      "id": "e2524d7c",
      "metadata": {
        "execution": {
          "iopub.execute_input": "2024-09-19T09:52:50.217784Z",
          "iopub.status.busy": "2024-09-19T09:52:50.217412Z",
          "iopub.status.idle": "2024-09-19T09:52:50.860024Z",
          "shell.execute_reply": "2024-09-19T09:52:50.858915Z"
        },
        "papermill": {
          "duration": 1.195378,
          "end_time": "2024-09-19T09:52:50.862312",
          "exception": false,
          "start_time": "2024-09-19T09:52:49.666934",
          "status": "completed"
        },
        "tags": [],
        "id": "e2524d7c",
        "outputId": "989bc310-48d5-4299-c8c7-b9b9462bf1ce",
        "colab": {
          "base_uri": "https://localhost:8080/"
        }
      },
      "outputs": [
        {
          "output_type": "stream",
          "name": "stdout",
          "text": [
            "\u001b[1m1/1\u001b[0m \u001b[32m━━━━━━━━━━━━━━━━━━━━\u001b[0m\u001b[37m\u001b[0m \u001b[1m0s\u001b[0m 301ms/step\n",
            "Shape of predictions: (10, 43, 8231)\n",
            "Shape of predicted_tokens: (10, 43)\n",
            "English sentence 1: we criticized them\n",
            "Predicted Hindi translation 1: हमने उनकी मूल की\n",
            "\n",
            "English sentence 2: and basit and amjad are first names\n",
            "Predicted Hindi translation 2: और और पहला नाम हैं\n",
            "\n",
            "English sentence 3: and nothing happened\n",
            "Predicted Hindi translation 3: और कुछ नहीं हुआ\n",
            "\n",
            "English sentence 4: and china was emitting 06\n",
            "Predicted Hindi translation 4: और चीन\n",
            "\n",
            "English sentence 5: in the tears in my eyes that passes\n",
            "Predicted Hindi translation 5: जो समय मूल\n",
            "\n",
            "English sentence 6: she reproached me for not answering the letter\n",
            "Predicted Hindi translation 6: उसने मुझे चिट्ठी का जवाब न बनाने के लिए लिये।\n",
            "\n",
            "English sentence 7: a man appeared at the door\n",
            "Predicted Hindi translation 7: पिछले पर एक आदमी गई। दिया।\n",
            "\n",
            "English sentence 8: i understand\n",
            "Predicted Hindi translation 8: मैं हूँ।\n",
            "\n",
            "English sentence 9: because i am john\n",
            "Predicted Hindi translation 9: मैं ही हूँ\n",
            "\n",
            "English sentence 10: like iraq egypt and syria\n",
            "Predicted Hindi translation 10: जैसा और और\n",
            "\n"
          ]
        }
      ],
      "source": [
        "import numpy as np\n",
        "import os\n",
        "os.environ['CUDA_VISIBLE_DEVICES'] = '-1'\n",
        "\n",
        "# Reverse token dictionaries\n",
        "rev_tok_hindi = {idx: word for word, idx in tok_hindi.word_index.items()}\n",
        "\n",
        "# Select a subset of test data\n",
        "num_samples = 10\n",
        "x_test_subset = x_test[:num_samples]\n",
        "y_test_padded_subset = y_test[:num_samples]\n",
        "\n",
        "# Predict\n",
        "predictions = model.predict([x_test_subset, y_test_padded_subset], batch_size=16)\n",
        "print('Shape of predictions:', predictions.shape)\n",
        "\n",
        "# Convert predictions to token indices\n",
        "predicted_tokens_np = np.argmax(predictions, axis=-1)\n",
        "print('Shape of predicted_tokens:', predicted_tokens_np.shape)\n",
        "\n",
        "# Map indices to tokens and remove 'start' and 'end' tokens\n",
        "predicted_sentences = []\n",
        "for sample in predicted_tokens_np:\n",
        "    sentence = ' '.join([rev_tok_hindi.get(token, '<unknown>') for token in sample if token != 0 and token not in [tok_hindi.word_index.get('start'), tok_hindi.word_index.get('end')]])  # Exclude padding, 'start', and 'end' tokens\n",
        "    predicted_sentences.append(sentence)\n",
        "\n",
        "# Reverse token dictionary for English (assuming you have `tok_english` for English tokens)\n",
        "rev_tok_english = {idx: word for word, idx in tok.word_index.items()}\n",
        "\n",
        "# Map the English test inputs to their corresponding sentences\n",
        "english_sentences = []\n",
        "for sample in x_test_subset:\n",
        "    sentence = ' '.join([rev_tok_english.get(token, '<unknown>') for token in sample if token != 0])  # Exclude padding token\n",
        "    english_sentences.append(sentence)\n",
        "\n",
        "# Print English sentence followed by predicted Hindi sentence\n",
        "for idx, (eng_sentence, hin_sentence) in enumerate(zip(english_sentences, predicted_sentences)):\n",
        "    print(f'English sentence {idx + 1}: {eng_sentence}')\n",
        "    print(f'Predicted Hindi translation {idx + 1}: {hin_sentence}\\n')\n"
      ]
    },
    {
      "cell_type": "code",
      "execution_count": 53,
      "id": "a2bc851e",
      "metadata": {
        "execution": {
          "iopub.execute_input": "2024-09-19T10:28:15.630368Z",
          "iopub.status.busy": "2024-09-19T10:28:15.629713Z",
          "iopub.status.idle": "2024-09-19T10:28:15.935900Z",
          "shell.execute_reply": "2024-09-19T10:28:15.934848Z"
        },
        "papermill": {
          "duration": 1.370133,
          "end_time": "2024-09-19T10:28:15.938060",
          "exception": false,
          "start_time": "2024-09-19T10:28:14.567927",
          "status": "completed"
        },
        "tags": [],
        "id": "a2bc851e",
        "outputId": "cdac9596-f95e-47cc-9ff0-ab4f2482cf22",
        "colab": {
          "base_uri": "https://localhost:8080/"
        }
      },
      "outputs": [
        {
          "output_type": "stream",
          "name": "stderr",
          "text": [
            "WARNING:absl:You are saving your model as an HDF5 file via `model.save()` or `keras.saving.save_model(model)`. This file format is considered legacy. We recommend using instead the native Keras format, e.g. `model.save('my_model.keras')` or `keras.saving.save_model(model, 'my_model.keras')`. \n"
          ]
        },
        {
          "output_type": "stream",
          "name": "stdout",
          "text": [
            "Model saved succesfully!\n"
          ]
        }
      ],
      "source": [
        "# Save the entire model\n",
        "model.save('encoder_decoder_model.h5')\n",
        "print('Model saved succesfully!')"
      ]
    }
  ],
  "metadata": {
    "kaggle": {
      "accelerator": "nvidiaTeslaT4",
      "dataSources": [
        {
          "datasetId": 2502545,
          "sourceId": 4246862,
          "sourceType": "datasetVersion"
        }
      ],
      "dockerImageVersionId": 30732,
      "isGpuEnabled": true,
      "isInternetEnabled": true,
      "language": "python",
      "sourceType": "notebook"
    },
    "kernelspec": {
      "display_name": "Python 3",
      "name": "python3"
    },
    "language_info": {
      "codemirror_mode": {
        "name": "ipython",
        "version": 3
      },
      "file_extension": ".py",
      "mimetype": "text/x-python",
      "name": "python",
      "nbconvert_exporter": "python",
      "pygments_lexer": "ipython3",
      "version": "3.10.13"
    },
    "papermill": {
      "default_parameters": {},
      "duration": 3828.188466,
      "end_time": "2024-09-19T10:28:20.043710",
      "environment_variables": {},
      "exception": null,
      "input_path": "__notebook__.ipynb",
      "output_path": "__notebook__.ipynb",
      "parameters": {},
      "start_time": "2024-09-19T09:24:31.855244",
      "version": "2.5.0"
    },
    "colab": {
      "provenance": [],
      "gpuType": "T4",
      "include_colab_link": true
    },
    "accelerator": "GPU"
  },
  "nbformat": 4,
  "nbformat_minor": 5
}