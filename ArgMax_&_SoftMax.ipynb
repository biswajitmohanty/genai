{
  "nbformat": 4,
  "nbformat_minor": 0,
  "metadata": {
    "colab": {
      "provenance": [],
      "include_colab_link": true
    },
    "kernelspec": {
      "name": "python3",
      "display_name": "Python 3"
    },
    "language_info": {
      "name": "python"
    }
  },
  "cells": [
    {
      "cell_type": "markdown",
      "metadata": {
        "id": "view-in-github",
        "colab_type": "text"
      },
      "source": [
        "<a href=\"https://colab.research.google.com/github/biswajitmohanty/genai/blob/main/ArgMax_%26_SoftMax.ipynb\" target=\"_parent\"><img src=\"https://colab.research.google.com/assets/colab-badge.svg\" alt=\"Open In Colab\"/></a>"
      ]
    },
    {
      "cell_type": "markdown",
      "source": [
        "# ArgMax"
      ],
      "metadata": {
        "id": "vFGs5OY73ziW"
      }
    },
    {
      "cell_type": "code",
      "execution_count": null,
      "metadata": {
        "colab": {
          "base_uri": "https://localhost:8080/"
        },
        "id": "Xov6pzZb3Y0y",
        "outputId": "14ff22af-9f87-4626-b975-2046431b1720"
      },
      "outputs": [
        {
          "output_type": "stream",
          "name": "stdout",
          "text": [
            "0\n"
          ]
        }
      ],
      "source": [
        "import numpy as np\n",
        "\n",
        "def argmax_output(output_values):\n",
        "    return np.argmax(output_values)  # Argmax finds the *index* of the maximum value\n",
        "\n",
        "# Test case\n",
        "raw_outputs = [1.5, 0.3, -0.7]\n",
        "print(argmax_output(raw_outputs))"
      ]
    },
    {
      "cell_type": "markdown",
      "source": [
        "# SoftMax"
      ],
      "metadata": {
        "id": "yfckR63_3858"
      }
    },
    {
      "cell_type": "code",
      "source": [
        "import numpy as np\n",
        "\n",
        "def softmax(x):\n",
        "    exp_x = np.exp(x - np.max(x))\n",
        "    return exp_x / np.sum(exp_x)\n",
        "\n",
        "# Test case\n",
        "raw_outputs = [2.0, 1.0, 0.1]\n",
        "print(softmax(raw_outputs))"
      ],
      "metadata": {
        "colab": {
          "base_uri": "https://localhost:8080/"
        },
        "id": "cRgFpy3z3_3P",
        "outputId": "4eec39cc-19b6-4d1e-863a-4a6600d20a6d"
      },
      "execution_count": null,
      "outputs": [
        {
          "output_type": "stream",
          "name": "stdout",
          "text": [
            "[0.65900114 0.24243297 0.09856589]\n"
          ]
        }
      ]
    },
    {
      "cell_type": "code",
      "source": [
        "import numpy as np\n",
        "import matplotlib.pyplot as plt\n",
        "\n",
        "def softmax(x):\n",
        "    exp_x = np.exp(x - np.max(x))\n",
        "    return exp_x / np.sum(exp_x)\n",
        "\n",
        "raw_outputs = np.array([2.0, 1.0, 0.1])\n",
        "softmax_probs = softmax(raw_outputs)\n",
        "\n",
        "# Plot raw outputs vs. softmax probabilities\n",
        "plt.bar(range(len(raw_outputs)), softmax_probs, tick_label=[\"Class 0\", \"Class 1\", \"Class 2\"])\n",
        "plt.xlabel(\"Class Index\")\n",
        "plt.ylabel(\"Softmax Probability\")\n",
        "plt.title(\"Softmax Probabilities of Different Classes\")\n",
        "plt.show()"
      ],
      "metadata": {
        "colab": {
          "base_uri": "https://localhost:8080/",
          "height": 472
        },
        "id": "M7p40Lkj4gFv",
        "outputId": "8f264cc4-937e-49c9-964c-1c3d1ab31312"
      },
      "execution_count": null,
      "outputs": [
        {
          "output_type": "display_data",
          "data": {
            "text/plain": [
              "<Figure size 640x480 with 1 Axes>"
            ],
            "image/png": "[encoded data removed]"
          },
          "metadata": {}
        }
      ]
    }
  ]
}