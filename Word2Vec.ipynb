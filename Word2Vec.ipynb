{
  "cells": [
    {
      "cell_type": "markdown",
      "metadata": {
        "id": "view-in-github",
        "colab_type": "text"
      },
      "source": [
        "<a href=\"https://colab.research.google.com/github/biswajitmohanty/genai/blob/main/Word2Vec.ipynb\" target=\"_parent\"><img src=\"https://colab.research.google.com/assets/colab-badge.svg\" alt=\"Open In Colab\"/></a>"
      ]
    },
    {
      "cell_type": "code",
      "execution_count": null,
      "metadata": {
        "colab": {
          "base_uri": "https://localhost:8080/"
        },
        "id": "9EJM2kccewbb",
        "outputId": "f0f8cf18-2197-4932-cb46-15c4d53568b3"
      },
      "outputs": [
        {
          "name": "stdout",
          "output_type": "stream",
          "text": [
            "Collecting gensim\n",
            "  Downloading gensim-4.3.3-cp311-cp311-manylinux_2_17_x86_64.manylinux2014_x86_64.whl.metadata (8.1 kB)\n",
            "Requirement already satisfied: numpy<2.0,>=1.18.5 in /usr/local/lib/python3.11/dist-packages (from gensim) (1.26.4)\n",
            "Collecting scipy<1.14.0,>=1.7.0 (from gensim)\n",
            "  Downloading scipy-1.13.1-cp311-cp311-manylinux_2_17_x86_64.manylinux2014_x86_64.whl.metadata (60 kB)\n",
            "\u001b[2K     \u001b[90m━━━━━━━━━━━━━━━━━━━━━━━━━━━━━━━━━━━━━━━━\u001b[0m \u001b[32m60.6/60.6 kB\u001b[0m \u001b[31m2.5 MB/s\u001b[0m eta \u001b[36m0:00:00\u001b[0m\n",
            "\u001b[?25hRequirement already satisfied: smart-open>=1.8.1 in /usr/local/lib/python3.11/dist-packages (from gensim) (7.1.0)\n",
            "Requirement already satisfied: wrapt in /usr/local/lib/python3.11/dist-packages (from smart-open>=1.8.1->gensim) (1.17.2)\n",
            "Downloading gensim-4.3.3-cp311-cp311-manylinux_2_17_x86_64.manylinux2014_x86_64.whl (26.7 MB)\n",
            "\u001b[2K   \u001b[90m━━━━━━━━━━━━━━━━━━━━━━━━━━━━━━━━━━━━━━━━\u001b[0m \u001b[32m26.7/26.7 MB\u001b[0m \u001b[31m65.6 MB/s\u001b[0m eta \u001b[36m0:00:00\u001b[0m\n",
            "\u001b[?25hDownloading scipy-1.13.1-cp311-cp311-manylinux_2_17_x86_64.manylinux2014_x86_64.whl (38.6 MB)\n",
            "\u001b[2K   \u001b[90m━━━━━━━━━━━━━━━━━━━━━━━━━━━━━━━━━━━━━━━━\u001b[0m \u001b[32m38.6/38.6 MB\u001b[0m \u001b[31m12.5 MB/s\u001b[0m eta \u001b[36m0:00:00\u001b[0m\n",
            "\u001b[?25hInstalling collected packages: scipy, gensim\n",
            "  Attempting uninstall: scipy\n",
            "    Found existing installation: scipy 1.14.1\n",
            "    Uninstalling scipy-1.14.1:\n",
            "      Successfully uninstalled scipy-1.14.1\n",
            "Successfully installed gensim-4.3.3 scipy-1.13.1\n"
          ]
        }
      ],
      "source": [
        "!pip install gensim"
      ]
    },
    {
      "cell_type": "code",
      "execution_count": null,
      "metadata": {
        "id": "jAC7-KXliLpX"
      },
      "outputs": [],
      "source": [
        "import pandas as pd\n",
        "import nltk\n",
        "import re\n",
        "import string\n",
        "import matplotlib.pyplot as plt\n",
        "import seaborn as sns\n",
        "from nltk.corpus import stopwords\n",
        "from nltk.tokenize import word_tokenize\n",
        "from nltk.stem import WordNetLemmatizer\n",
        "from gensim.models import Word2Vec\n",
        "from sklearn.decomposition import PCA"
      ]
    },
    {
      "cell_type": "code",
      "source": [
        "# Download necessary NLTK resources\n",
        "nltk.download('punkt')\n",
        "nltk.download('stopwords')\n",
        "nltk.download('wordnet') # lemmatization - running -> run"
      ],
      "metadata": {
        "colab": {
          "base_uri": "https://localhost:8080/"
        },
        "id": "YRrNtinZ95NS",
        "outputId": "9f185a51-ec60-42bc-decb-4f04da514022"
      },
      "execution_count": null,
      "outputs": [
        {
          "output_type": "stream",
          "name": "stderr",
          "text": [
            "[nltk_data] Downloading package punkt to /root/nltk_data...\n",
            "[nltk_data]   Package punkt is already up-to-date!\n",
            "[nltk_data] Downloading package stopwords to /root/nltk_data...\n",
            "[nltk_data]   Package stopwords is already up-to-date!\n",
            "[nltk_data] Downloading package wordnet to /root/nltk_data...\n",
            "[nltk_data]   Package wordnet is already up-to-date!\n"
          ]
        },
        {
          "output_type": "execute_result",
          "data": {
            "text/plain": [
              "True"
            ]
          },
          "metadata": {},
          "execution_count": 26
        }
      ]
    },
    {
      "cell_type": "code",
      "source": [
        "# Load BBC news dataset\n",
        "df = pd.read_csv(\"/content/BBC News Train.csv\")\n",
        "\n",
        "# Initialize stopwords and lemmatizer\n",
        "stop_words = set(stopwords.words(\"english\"))\n",
        "lemmatizer = WordNetLemmatizer()"
      ],
      "metadata": {
        "id": "e0tvBjKA9-3f"
      },
      "execution_count": null,
      "outputs": []
    },
    {
      "cell_type": "code",
      "source": [
        "# Function to clean and preprocess text\n",
        "def preprocess_text(text):\n",
        "    text = text.lower()  # Lowercasing\n",
        "    text = re.sub(r'\\d+', '', text)  # Remove numbers\n",
        "    text = text.translate(str.maketrans(\"\", \"\", string.punctuation))  # Remove punctuation\n",
        "    tokens = word_tokenize(text, language='english', preserve_line=True)  # Tokenization\n",
        "    tokens = [lemmatizer.lemmatize(word) for word in tokens if word not in stop_words]  # Remove stopwords & lemmatize\n",
        "    return tokens\n",
        "\n",
        "# Apply preprocessing to the \"Text\" column\n",
        "df[\"clean_text\"] = df[\"Text\"].apply(preprocess_text)\n",
        "\n",
        "# Convert to list of lists for Word2Vec training\n",
        "sentences = df[\"clean_text\"].tolist()"
      ],
      "metadata": {
        "id": "kxOAwuxN-Bte"
      },
      "execution_count": null,
      "outputs": []
    },
    {
      "cell_type": "code",
      "source": [
        "# Train Word2Vec model\n",
        "model = Word2Vec(sentences, vector_size=100, window=5, min_count=2, workers=4) # 100 EMEDDINGS\n",
        "\n",
        "# Save model (optional)\n",
        "model.save(\"word2vec_bbc.model\")"
      ],
      "metadata": {
        "id": "pLRyaLmC-J3b"
      },
      "execution_count": null,
      "outputs": []
    },
    {
      "cell_type": "code",
      "source": [
        "# Find similar words to a given word\n",
        "word = \"economy\"\n",
        "if word in model.wv:\n",
        "    similar_words = model.wv.most_similar(word, topn=10)\n",
        "    print(f\"Words similar to '{word}':\")\n",
        "    for sim_word, score in similar_words:\n",
        "        print(f\"{sim_word}: {score:.4f}\")\n",
        "\n",
        "# Visualization of similar words using PCA\n",
        "def plot_similar_words(word, model):\n",
        "    if word not in model.wv:\n",
        "        print(f\"'{word}' not found in vocabulary!\")\n",
        "        return\n",
        "\n",
        "    similar_words = [word] + [w for w, _ in model.wv.most_similar(word, topn=10)]\n",
        "    word_vectors = [model.wv[w] for w in similar_words]\n",
        "\n",
        "    # Reduce dimensions using PCA\n",
        "    pca = PCA(n_components=2)\n",
        "    reduced_vectors = pca.fit_transform(word_vectors)\n",
        "\n",
        "    # Plot the words\n",
        "    plt.figure(figsize=(10, 6))\n",
        "    sns.scatterplot(x=reduced_vectors[:, 0], y=reduced_vectors[:, 1], s=100)\n",
        "\n",
        "    for i, txt in enumerate(similar_words):\n",
        "        plt.annotate(txt, (reduced_vectors[i, 0], reduced_vectors[i, 1]), fontsize=12)\n",
        "\n",
        "    plt.title(f\"Visualization of Words Similar to '{word}'\")\n",
        "    plt.show()\n",
        "\n",
        "# Example visualization\n",
        "plot_similar_words(\"economy\", model)"
      ],
      "metadata": {
        "colab": {
          "base_uri": "https://localhost:8080/",
          "height": 736
        },
        "id": "Ev5qPfpa-Pru",
        "outputId": "fc8b67fd-dea2-42f0-d92f-3954ff4c7b1c"
      },
      "execution_count": null,
      "outputs": [
        {
          "output_type": "stream",
          "name": "stdout",
          "text": [
            "Words similar to 'economy':\n",
            "economic: 0.9988\n",
            "deal: 0.9964\n",
            "increase: 0.9959\n",
            "higher: 0.9945\n",
            "borrowing: 0.9938\n",
            "revenue: 0.9915\n",
            "however: 0.9909\n",
            "spending: 0.9905\n",
            "aviation: 0.9899\n",
            "yukos: 0.9897\n"
          ]
        },
        {
          "output_type": "display_data",
          "data": {
            "text/plain": [
              "<Figure size 1000x600 with 1 Axes>"
            ],
            "image/png": "[encoded data removed]"
          },
          "metadata": {}
        }
      ]
    },
    {
      "cell_type": "code",
      "execution_count": null,
      "metadata": {
        "colab": {
          "base_uri": "https://localhost:8080/"
        },
        "id": "JfZK-PfrjVeN",
        "outputId": "97fb01e2-ddb7-440e-9faf-5e51f05092bb"
      },
      "outputs": [
        {
          "output_type": "stream",
          "name": "stdout",
          "text": [
            "0.97116256\n",
            "0.9501339\n",
            "0.9471843\n"
          ]
        }
      ],
      "source": [
        "print(model.wv.similarity(\"business\", \"economy\"))\n",
        "print(model.wv.similarity(\"business\", \"politics\"))\n",
        "print(model.wv.similarity(\"happy\", \"content\"))"
      ]
    }
  ],
  "metadata": {
    "colab": {
      "provenance": [],
      "include_colab_link": true
    },
    "kernelspec": {
      "display_name": "Python 3",
      "name": "python3"
    },
    "language_info": {
      "name": "python"
    }
  },
  "nbformat": 4,
  "nbformat_minor": 0
}