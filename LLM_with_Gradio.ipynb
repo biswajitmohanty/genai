{
  "cells": [
    {
      "cell_type": "markdown",
      "metadata": {
        "id": "view-in-github",
        "colab_type": "text"
      },
      "source": [
        "<a href=\"https://colab.research.google.com/github/biswajitmohanty/genai/blob/main/LLM_with_Gradio.ipynb\" target=\"_parent\"><img src=\"https://colab.research.google.com/assets/colab-badge.svg\" alt=\"Open In Colab\"/></a>"
      ]
    },
    {
      "cell_type": "code",
      "execution_count": 1,
      "id": "7d5a338c-9cb8-45fc-924e-a05b5d947c5b",
      "metadata": {
        "id": "7d5a338c-9cb8-45fc-924e-a05b5d947c5b",
        "outputId": "ca25d1d0-5fd0-4c8c-e2ce-a2ebb1651556",
        "colab": {
          "base_uri": "https://localhost:8080/"
        }
      },
      "outputs": [
        {
          "output_type": "stream",
          "name": "stdout",
          "text": [
            "Requirement already satisfied: langchain in /usr/local/lib/python3.11/dist-packages (0.3.23)\n",
            "Collecting langchain-groq\n",
            "  Downloading langchain_groq-0.3.2-py3-none-any.whl.metadata (2.6 kB)\n",
            "Collecting gradio\n",
            "  Downloading gradio-5.25.1-py3-none-any.whl.metadata (16 kB)\n",
            "Collecting python-dotenv\n",
            "  Downloading python_dotenv-1.1.0-py3-none-any.whl.metadata (24 kB)\n",
            "Requirement already satisfied: langchain-core<1.0.0,>=0.3.51 in /usr/local/lib/python3.11/dist-packages (from langchain) (0.3.51)\n",
            "Requirement already satisfied: langchain-text-splitters<1.0.0,>=0.3.8 in /usr/local/lib/python3.11/dist-packages (from langchain) (0.3.8)\n",
            "Requirement already satisfied: langsmith<0.4,>=0.1.17 in /usr/local/lib/python3.11/dist-packages (from langchain) (0.3.28)\n",
            "Requirement already satisfied: pydantic<3.0.0,>=2.7.4 in /usr/local/lib/python3.11/dist-packages (from langchain) (2.11.3)\n",
            "Requirement already satisfied: SQLAlchemy<3,>=1.4 in /usr/local/lib/python3.11/dist-packages (from langchain) (2.0.40)\n",
            "Requirement already satisfied: requests<3,>=2 in /usr/local/lib/python3.11/dist-packages (from langchain) (2.32.3)\n",
            "Requirement already satisfied: PyYAML>=5.3 in /usr/local/lib/python3.11/dist-packages (from langchain) (6.0.2)\n",
            "Collecting groq<1,>=0.4.1 (from langchain-groq)\n",
            "  Downloading groq-0.22.0-py3-none-any.whl.metadata (15 kB)\n",
            "Collecting aiofiles<25.0,>=22.0 (from gradio)\n",
            "  Downloading aiofiles-24.1.0-py3-none-any.whl.metadata (10 kB)\n",
            "Requirement already satisfied: anyio<5.0,>=3.0 in /usr/local/lib/python3.11/dist-packages (from gradio) (4.9.0)\n",
            "Collecting fastapi<1.0,>=0.115.2 (from gradio)\n",
            "  Downloading fastapi-0.115.12-py3-none-any.whl.metadata (27 kB)\n",
            "Collecting ffmpy (from gradio)\n",
            "  Downloading ffmpy-0.5.0-py3-none-any.whl.metadata (3.0 kB)\n",
            "Collecting gradio-client==1.8.0 (from gradio)\n",
            "  Downloading gradio_client-1.8.0-py3-none-any.whl.metadata (7.1 kB)\n",
            "Collecting groovy~=0.1 (from gradio)\n",
            "  Downloading groovy-0.1.2-py3-none-any.whl.metadata (6.1 kB)\n",
            "Requirement already satisfied: httpx>=0.24.1 in /usr/local/lib/python3.11/dist-packages (from gradio) (0.28.1)\n",
            "Requirement already satisfied: huggingface-hub>=0.28.1 in /usr/local/lib/python3.11/dist-packages (from gradio) (0.30.2)\n",
            "Requirement already satisfied: jinja2<4.0 in /usr/local/lib/python3.11/dist-packages (from gradio) (3.1.6)\n",
            "Requirement already satisfied: markupsafe<4.0,>=2.0 in /usr/local/lib/python3.11/dist-packages (from gradio) (3.0.2)\n",
            "Requirement already satisfied: numpy<3.0,>=1.0 in /usr/local/lib/python3.11/dist-packages (from gradio) (2.0.2)\n",
            "Requirement already satisfied: orjson~=3.0 in /usr/local/lib/python3.11/dist-packages (from gradio) (3.10.16)\n",
            "Requirement already satisfied: packaging in /usr/local/lib/python3.11/dist-packages (from gradio) (24.2)\n",
            "Requirement already satisfied: pandas<3.0,>=1.0 in /usr/local/lib/python3.11/dist-packages (from gradio) (2.2.2)\n",
            "Requirement already satisfied: pillow<12.0,>=8.0 in /usr/local/lib/python3.11/dist-packages (from gradio) (11.1.0)\n",
            "Collecting pydub (from gradio)\n",
            "  Downloading pydub-0.25.1-py2.py3-none-any.whl.metadata (1.4 kB)\n",
            "Collecting python-multipart>=0.0.18 (from gradio)\n",
            "  Downloading python_multipart-0.0.20-py3-none-any.whl.metadata (1.8 kB)\n",
            "Collecting ruff>=0.9.3 (from gradio)\n",
            "  Downloading ruff-0.11.5-py3-none-manylinux_2_17_x86_64.manylinux2014_x86_64.whl.metadata (25 kB)\n",
            "Collecting safehttpx<0.2.0,>=0.1.6 (from gradio)\n",
            "  Downloading safehttpx-0.1.6-py3-none-any.whl.metadata (4.2 kB)\n",
            "Collecting semantic-version~=2.0 (from gradio)\n",
            "  Downloading semantic_version-2.10.0-py2.py3-none-any.whl.metadata (9.7 kB)\n",
            "Collecting starlette<1.0,>=0.40.0 (from gradio)\n",
            "  Downloading starlette-0.46.2-py3-none-any.whl.metadata (6.2 kB)\n",
            "Collecting tomlkit<0.14.0,>=0.12.0 (from gradio)\n",
            "  Downloading tomlkit-0.13.2-py3-none-any.whl.metadata (2.7 kB)\n",
            "Requirement already satisfied: typer<1.0,>=0.12 in /usr/local/lib/python3.11/dist-packages (from gradio) (0.15.2)\n",
            "Requirement already satisfied: typing-extensions~=4.0 in /usr/local/lib/python3.11/dist-packages (from gradio) (4.13.1)\n",
            "Collecting uvicorn>=0.14.0 (from gradio)\n",
            "  Downloading uvicorn-0.34.1-py3-none-any.whl.metadata (6.5 kB)\n",
            "Requirement already satisfied: fsspec in /usr/local/lib/python3.11/dist-packages (from gradio-client==1.8.0->gradio) (2025.3.2)\n",
            "Requirement already satisfied: websockets<16.0,>=10.0 in /usr/local/lib/python3.11/dist-packages (from gradio-client==1.8.0->gradio) (15.0.1)\n",
            "Requirement already satisfied: idna>=2.8 in /usr/local/lib/python3.11/dist-packages (from anyio<5.0,>=3.0->gradio) (3.10)\n",
            "Requirement already satisfied: sniffio>=1.1 in /usr/local/lib/python3.11/dist-packages (from anyio<5.0,>=3.0->gradio) (1.3.1)\n",
            "Requirement already satisfied: distro<2,>=1.7.0 in /usr/local/lib/python3.11/dist-packages (from groq<1,>=0.4.1->langchain-groq) (1.9.0)\n",
            "Requirement already satisfied: certifi in /usr/local/lib/python3.11/dist-packages (from httpx>=0.24.1->gradio) (2025.1.31)\n",
            "Requirement already satisfied: httpcore==1.* in /usr/local/lib/python3.11/dist-packages (from httpx>=0.24.1->gradio) (1.0.7)\n",
            "Requirement already satisfied: h11<0.15,>=0.13 in /usr/local/lib/python3.11/dist-packages (from httpcore==1.*->httpx>=0.24.1->gradio) (0.14.0)\n",
            "Requirement already satisfied: filelock in /usr/local/lib/python3.11/dist-packages (from huggingface-hub>=0.28.1->gradio) (3.18.0)\n",
            "Requirement already satisfied: tqdm>=4.42.1 in /usr/local/lib/python3.11/dist-packages (from huggingface-hub>=0.28.1->gradio) (4.67.1)\n",
            "Requirement already satisfied: tenacity!=8.4.0,<10.0.0,>=8.1.0 in /usr/local/lib/python3.11/dist-packages (from langchain-core<1.0.0,>=0.3.51->langchain) (9.1.2)\n",
            "Requirement already satisfied: jsonpatch<2.0,>=1.33 in /usr/local/lib/python3.11/dist-packages (from langchain-core<1.0.0,>=0.3.51->langchain) (1.33)\n",
            "Requirement already satisfied: requests-toolbelt<2.0.0,>=1.0.0 in /usr/local/lib/python3.11/dist-packages (from langsmith<0.4,>=0.1.17->langchain) (1.0.0)\n",
            "Requirement already satisfied: zstandard<0.24.0,>=0.23.0 in /usr/local/lib/python3.11/dist-packages (from langsmith<0.4,>=0.1.17->langchain) (0.23.0)\n",
            "Requirement already satisfied: python-dateutil>=2.8.2 in /usr/local/lib/python3.11/dist-packages (from pandas<3.0,>=1.0->gradio) (2.8.2)\n",
            "Requirement already satisfied: pytz>=2020.1 in /usr/local/lib/python3.11/dist-packages (from pandas<3.0,>=1.0->gradio) (2025.2)\n",
            "Requirement already satisfied: tzdata>=2022.7 in /usr/local/lib/python3.11/dist-packages (from pandas<3.0,>=1.0->gradio) (2025.2)\n",
            "Requirement already satisfied: annotated-types>=0.6.0 in /usr/local/lib/python3.11/dist-packages (from pydantic<3.0.0,>=2.7.4->langchain) (0.7.0)\n",
            "Requirement already satisfied: pydantic-core==2.33.1 in /usr/local/lib/python3.11/dist-packages (from pydantic<3.0.0,>=2.7.4->langchain) (2.33.1)\n",
            "Requirement already satisfied: typing-inspection>=0.4.0 in /usr/local/lib/python3.11/dist-packages (from pydantic<3.0.0,>=2.7.4->langchain) (0.4.0)\n",
            "Requirement already satisfied: charset-normalizer<4,>=2 in /usr/local/lib/python3.11/dist-packages (from requests<3,>=2->langchain) (3.4.1)\n",
            "Requirement already satisfied: urllib3<3,>=1.21.1 in /usr/local/lib/python3.11/dist-packages (from requests<3,>=2->langchain) (2.3.0)\n",
            "Requirement already satisfied: greenlet>=1 in /usr/local/lib/python3.11/dist-packages (from SQLAlchemy<3,>=1.4->langchain) (3.1.1)\n",
            "Requirement already satisfied: click>=8.0.0 in /usr/local/lib/python3.11/dist-packages (from typer<1.0,>=0.12->gradio) (8.1.8)\n",
            "Requirement already satisfied: shellingham>=1.3.0 in /usr/local/lib/python3.11/dist-packages (from typer<1.0,>=0.12->gradio) (1.5.4)\n",
            "Requirement already satisfied: rich>=10.11.0 in /usr/local/lib/python3.11/dist-packages (from typer<1.0,>=0.12->gradio) (13.9.4)\n",
            "Requirement already satisfied: jsonpointer>=1.9 in /usr/local/lib/python3.11/dist-packages (from jsonpatch<2.0,>=1.33->langchain-core<1.0.0,>=0.3.51->langchain) (3.0.0)\n",
            "Requirement already satisfied: six>=1.5 in /usr/local/lib/python3.11/dist-packages (from python-dateutil>=2.8.2->pandas<3.0,>=1.0->gradio) (1.17.0)\n",
            "Requirement already satisfied: markdown-it-py>=2.2.0 in /usr/local/lib/python3.11/dist-packages (from rich>=10.11.0->typer<1.0,>=0.12->gradio) (3.0.0)\n",
            "Requirement already satisfied: pygments<3.0.0,>=2.13.0 in /usr/local/lib/python3.11/dist-packages (from rich>=10.11.0->typer<1.0,>=0.12->gradio) (2.18.0)\n",
            "Requirement already satisfied: mdurl~=0.1 in /usr/local/lib/python3.11/dist-packages (from markdown-it-py>=2.2.0->rich>=10.11.0->typer<1.0,>=0.12->gradio) (0.1.2)\n",
            "Downloading langchain_groq-0.3.2-py3-none-any.whl (15 kB)\n",
            "Downloading gradio-5.25.1-py3-none-any.whl (46.9 MB)\n",
            "\u001b[2K   \u001b[90m━━━━━━━━━━━━━━━━━━━━━━━━━━━━━━━━━━━━━━━━\u001b[0m \u001b[32m46.9/46.9 MB\u001b[0m \u001b[31m19.1 MB/s\u001b[0m eta \u001b[36m0:00:00\u001b[0m\n",
            "\u001b[?25hDownloading gradio_client-1.8.0-py3-none-any.whl (322 kB)\n",
            "\u001b[2K   \u001b[90m━━━━━━━━━━━━━━━━━━━━━━━━━━━━━━━━━━━━━━━━\u001b[0m \u001b[32m322.2/322.2 kB\u001b[0m \u001b[31m19.1 MB/s\u001b[0m eta \u001b[36m0:00:00\u001b[0m\n",
            "\u001b[?25hDownloading python_dotenv-1.1.0-py3-none-any.whl (20 kB)\n",
            "Downloading aiofiles-24.1.0-py3-none-any.whl (15 kB)\n",
            "Downloading fastapi-0.115.12-py3-none-any.whl (95 kB)\n",
            "\u001b[2K   \u001b[90m━━━━━━━━━━━━━━━━━━━━━━━━━━━━━━━━━━━━━━━━\u001b[0m \u001b[32m95.2/95.2 kB\u001b[0m \u001b[31m7.7 MB/s\u001b[0m eta \u001b[36m0:00:00\u001b[0m\n",
            "\u001b[?25hDownloading groovy-0.1.2-py3-none-any.whl (14 kB)\n",
            "Downloading groq-0.22.0-py3-none-any.whl (126 kB)\n",
            "\u001b[2K   \u001b[90m━━━━━━━━━━━━━━━━━━━━━━━━━━━━━━━━━━━━━━━━\u001b[0m \u001b[32m126.7/126.7 kB\u001b[0m \u001b[31m10.2 MB/s\u001b[0m eta \u001b[36m0:00:00\u001b[0m\n",
            "\u001b[?25hDownloading python_multipart-0.0.20-py3-none-any.whl (24 kB)\n",
            "Downloading ruff-0.11.5-py3-none-manylinux_2_17_x86_64.manylinux2014_x86_64.whl (11.4 MB)\n",
            "\u001b[2K   \u001b[90m━━━━━━━━━━━━━━━━━━━━━━━━━━━━━━━━━━━━━━━━\u001b[0m \u001b[32m11.4/11.4 MB\u001b[0m \u001b[31m73.7 MB/s\u001b[0m eta \u001b[36m0:00:00\u001b[0m\n",
            "\u001b[?25hDownloading safehttpx-0.1.6-py3-none-any.whl (8.7 kB)\n",
            "Downloading semantic_version-2.10.0-py2.py3-none-any.whl (15 kB)\n",
            "Downloading starlette-0.46.2-py3-none-any.whl (72 kB)\n",
            "\u001b[2K   \u001b[90m━━━━━━━━━━━━━━━━━━━━━━━━━━━━━━━━━━━━━━━━\u001b[0m \u001b[32m72.0/72.0 kB\u001b[0m \u001b[31m5.9 MB/s\u001b[0m eta \u001b[36m0:00:00\u001b[0m\n",
            "\u001b[?25hDownloading tomlkit-0.13.2-py3-none-any.whl (37 kB)\n",
            "Downloading uvicorn-0.34.1-py3-none-any.whl (62 kB)\n",
            "\u001b[2K   \u001b[90m━━━━━━━━━━━━━━━━━━━━━━━━━━━━━━━━━━━━━━━━\u001b[0m \u001b[32m62.4/62.4 kB\u001b[0m \u001b[31m5.5 MB/s\u001b[0m eta \u001b[36m0:00:00\u001b[0m\n",
            "\u001b[?25hDownloading ffmpy-0.5.0-py3-none-any.whl (6.0 kB)\n",
            "Downloading pydub-0.25.1-py2.py3-none-any.whl (32 kB)\n",
            "Installing collected packages: pydub, uvicorn, tomlkit, semantic-version, ruff, python-multipart, python-dotenv, groovy, ffmpy, aiofiles, starlette, safehttpx, groq, gradio-client, fastapi, gradio, langchain-groq\n",
            "Successfully installed aiofiles-24.1.0 fastapi-0.115.12 ffmpy-0.5.0 gradio-5.25.1 gradio-client-1.8.0 groovy-0.1.2 groq-0.22.0 langchain-groq-0.3.2 pydub-0.25.1 python-dotenv-1.1.0 python-multipart-0.0.20 ruff-0.11.5 safehttpx-0.1.6 semantic-version-2.10.0 starlette-0.46.2 tomlkit-0.13.2 uvicorn-0.34.1\n"
          ]
        }
      ],
      "source": [
        "!pip install langchain langchain-groq gradio python-dotenv"
      ]
    },
    {
      "cell_type": "code",
      "execution_count": 8,
      "id": "f24dcdd6-c6d9-4b14-b5af-2ca4972dcc6e",
      "metadata": {
        "id": "f24dcdd6-c6d9-4b14-b5af-2ca4972dcc6e"
      },
      "outputs": [],
      "source": [
        "import os\n",
        "import warnings\n",
        "warnings.filterwarnings('ignore')\n",
        "# Replace with your Groq API key\n",
        "os.environ[\"GROQ_API_KEY\"] = \"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\""
      ]
    },
    {
      "cell_type": "code",
      "execution_count": 9,
      "id": "282c83e1-4427-4986-80ad-95d477a8615a",
      "metadata": {
        "id": "282c83e1-4427-4986-80ad-95d477a8615a"
      },
      "outputs": [],
      "source": [
        "from langchain_groq import ChatGroq\n",
        "from langchain_core.prompts import ChatPromptTemplate\n",
        "import gradio as gr\n",
        "from IPython.display import display, Markdown"
      ]
    },
    {
      "cell_type": "code",
      "execution_count": 10,
      "id": "5479b0bc-abce-47c5-babc-2c1e00ce7c75",
      "metadata": {
        "id": "5479b0bc-abce-47c5-babc-2c1e00ce7c75"
      },
      "outputs": [],
      "source": [
        "llm = ChatGroq(\n",
        "    model=\"llama-3.1-8b-instant\",\n",
        "    temperature=0.0,\n",
        "    max_tokens=200\n",
        ")"
      ]
    },
    {
      "cell_type": "markdown",
      "id": "1d4b7fa4-5f18-4103-a5e7-19b9c11219c4",
      "metadata": {
        "id": "1d4b7fa4-5f18-4103-a5e7-19b9c11219c4"
      },
      "source": [
        "## Define Summarization Prompt"
      ]
    },
    {
      "cell_type": "code",
      "execution_count": 11,
      "id": "94951c63-06b4-42b6-93b8-e2a82d948ebe",
      "metadata": {
        "id": "94951c63-06b4-42b6-93b8-e2a82d948ebe"
      },
      "outputs": [],
      "source": [
        "summarize_prompt = ChatPromptTemplate.from_messages([\n",
        "    (\"system\", \"Summarize the input text in 2-3 sentences, capturing key points concisely.\"),\n",
        "    (\"human\", \"{input}\")\n",
        "])"
      ]
    },
    {
      "cell_type": "markdown",
      "id": "1b53483e-02a4-42bc-991c-6e3b02929842",
      "metadata": {
        "id": "1b53483e-02a4-42bc-991c-6e3b02929842"
      },
      "source": [
        "## Summarization Function"
      ]
    },
    {
      "cell_type": "code",
      "execution_count": 12,
      "id": "02cb74f3-0e70-4728-b500-7b66d6b11535",
      "metadata": {
        "id": "02cb74f3-0e70-4728-b500-7b66d6b11535"
      },
      "outputs": [],
      "source": [
        "def summarize(input):\n",
        "    chain = summarize_prompt | llm\n",
        "    response = chain.invoke({\"input\": input})\n",
        "    return response.content"
      ]
    },
    {
      "cell_type": "code",
      "execution_count": 13,
      "id": "a354b67f-c527-463d-9a04-1bf81a847b86",
      "metadata": {
        "id": "a354b67f-c527-463d-9a04-1bf81a847b86",
        "outputId": "a0bff73a-4582-4d09-e057-280a73beb552",
        "colab": {
          "base_uri": "https://localhost:8080/"
        }
      },
      "outputs": [
        {
          "output_type": "stream",
          "name": "stdout",
          "text": [
            "Test Summary: The tower is 324 meters tall, equivalent to an 81-storey building, and holds the title of the tallest structure in Paris.\n"
          ]
        }
      ],
      "source": [
        "text = \"\"\"The tower is 324 metres tall, about the same height as an 81-storey building, and the tallest structure in Paris...\"\"\"\n",
        "print(\"Test Summary:\", summarize(text))"
      ]
    },
    {
      "cell_type": "markdown",
      "id": "f0fbc43a-ae04-4125-a747-b83f553ceb2f",
      "metadata": {
        "id": "f0fbc43a-ae04-4125-a747-b83f553ceb2f"
      },
      "source": [
        "## Summarization Gradio Interface"
      ]
    },
    {
      "cell_type": "code",
      "execution_count": 14,
      "id": "5279eda6-974d-4db0-92a3-16e930dea3b7",
      "metadata": {
        "id": "5279eda6-974d-4db0-92a3-16e930dea3b7"
      },
      "outputs": [],
      "source": [
        "gr.close_all()\n",
        "demo1 = gr.Interface(\n",
        "    fn=summarize,\n",
        "    inputs=[gr.Textbox(label=\"Text to summarize\", lines=6)],\n",
        "    outputs=[gr.Textbox(label=\"Result\", lines=3)],\n",
        "    title=\"Text Summarization with Groq\",\n",
        "    description=\"Summarize text using Groq's llama-3.1-8b-instant model.\"\n",
        ")"
      ]
    },
    {
      "cell_type": "code",
      "execution_count": 15,
      "id": "8c0c8eae-8c37-44f5-b717-8ea6394772ec",
      "metadata": {
        "id": "8c0c8eae-8c37-44f5-b717-8ea6394772ec",
        "outputId": "3a84e3c0-0cc4-4157-c946-188f4a3038ec",
        "colab": {
          "base_uri": "https://localhost:8080/",
          "height": 616
        }
      },
      "outputs": [
        {
          "output_type": "stream",
          "name": "stdout",
          "text": [
            "Colab notebook detected. To show errors in colab notebook, set debug=True in launch()\n",
            "Note: opening Chrome Inspector may crash demo inside Colab notebooks.\n",
            "\n",
            "To create a public link, set `share=True` in `launch()`.\n"
          ]
        },
        {
          "output_type": "display_data",
          "data": {
            "text/plain": [
              "<IPython.core.display.Javascript object>"
            ],
            "application/javascript": [
              "(async (port, path, width, height, cache, element) => {\n",
              "                        if (!google.colab.kernel.accessAllowed && !cache) {\n",
              "                            return;\n",
              "                        }\n",
              "                        element.appendChild(document.createTextNode(''));\n",
              "                        const url = await google.colab.kernel.proxyPort(port, {cache});\n",
              "\n",
              "                        const external_link = document.createElement('div');\n",
              "                        external_link.innerHTML = `\n",
              "                            <div style=\"font-family: monospace; margin-bottom: 0.5rem\">\n",
              "                                Running on <a href=${new URL(path, url).toString()} target=\"_blank\">\n",
              "                                    https://localhost:${port}${path}\n",
              "                                </a>\n",
              "                            </div>\n",
              "                        `;\n",
              "                        element.appendChild(external_link);\n",
              "\n",
              "                        const iframe = document.createElement('iframe');\n",
              "                        iframe.src = new URL(path, url).toString();\n",
              "                        iframe.height = height;\n",
              "                        iframe.allow = \"autoplay; camera; microphone; clipboard-read; clipboard-write;\"\n",
              "                        iframe.width = width;\n",
              "                        iframe.style.border = 0;\n",
              "                        element.appendChild(iframe);\n",
              "                    })(7860, \"/\", \"100%\", 500, false, window.element)"
            ]
          },
          "metadata": {}
        },
        {
          "output_type": "execute_result",
          "data": {
            "text/plain": []
          },
          "metadata": {},
          "execution_count": 15
        }
      ],
      "source": [
        "demo1.launch(share=False)  # Run locally; use share=True for public URL (may require paid plan)"
      ]
    },
    {
      "cell_type": "markdown",
      "id": "9e32407b-ce48-4fa3-af68-887009308f9f",
      "metadata": {
        "id": "9e32407b-ce48-4fa3-af68-887009308f9f"
      },
      "source": [
        "## Define NER Prompt"
      ]
    },
    {
      "cell_type": "code",
      "execution_count": 16,
      "id": "f55b9c09-1b47-4f71-9ed8-08629ac72571",
      "metadata": {
        "id": "f55b9c09-1b47-4f71-9ed8-08629ac72571"
      },
      "outputs": [],
      "source": [
        "ner_prompt = ChatPromptTemplate.from_messages([\n",
        "    (\"system\", r\"\"\"Identify named entities (Person, Organization, Location) in the text. Return a JSON list of objects, each with 'word' (entity name), 'type' (Person, Organization, Location), 'start' (0-based index of first character), and 'end' (index after last character). Do not split names (e.g., 'arbaz' or 'mumbai' as one word). Examples: For 'My name is arbaz and i stay in mumbai', return: [[{{\"word\": \"arbaz\", \"type\": \"Person\", \"start\": 11, \"end\": 16}}, {{\"word\": \"mumbai\", \"type\": \"Location\", \"start\": 29, \"end\": 35}}]].\"\"\"),\n",
        "    (\"human\", \"{input}\")\n",
        "])"
      ]
    },
    {
      "cell_type": "markdown",
      "id": "9da009ff-e557-4dd1-ab8c-4ec526ee5d1f",
      "metadata": {
        "id": "9da009ff-e557-4dd1-ab8c-4ec526ee5d1f"
      },
      "source": [
        "## NER Function"
      ]
    },
    {
      "cell_type": "code",
      "execution_count": null,
      "id": "cc371188-826a-43b5-828c-7184db92a7dc",
      "metadata": {
        "id": "cc371188-826a-43b5-828c-7184db92a7dc"
      },
      "outputs": [],
      "source": [
        "def ner(input):\n",
        "    chain = ner_prompt | llm\n",
        "    response = chain.invoke({\"input\": input})\n",
        "    print(\"Raw NER Response:\", response.content)\n",
        "    json_match = re.search(r'```json\\n([\\s\\S]*?)\\n```', response.content)\n",
        "    try:\n",
        "        entities = json.loads(json_match.group(1) if json_match else response.content)\n",
        "        formatted_entities = [{\"entity\": e[\"type\"], \"word\": e[\"word\"], \"start\": e[\"start\"], \"end\": e[\"end\"]} for e in entities]\n",
        "        for e in formatted_entities:\n",
        "            substring = input[e[\"start\"]:e[\"end\"]].strip()\n",
        "            if substring.lower() != e[\"word\"].lower():\n",
        "                print(f\"Index warning: Expected {e['word']}, got {substring} at {e['start']}:{e['end']}\")\n",
        "                # Adjust indices via string matching\n",
        "                match = re.search(r'\\b' + re.escape(e[\"word\"]) + r'\\b', input, re.IGNORECASE)\n",
        "                if match:\n",
        "                    e[\"start\"], e[\"end\"] = match.start(), match.end()\n",
        "                    print(f\"Corrected indices for {e['word']}: {e['start']}:{e['end']}\")\n",
        "        return {\"text\": input, \"entities\": formatted_entities}\n",
        "    except Exception as e:\n",
        "        print(\"Parsing Error:\", str(e))\n",
        "        return {\"text\": input, \"entities\": []}"
      ]
    },
    {
      "cell_type": "markdown",
      "id": "e4e0bce4-a7a2-42df-9169-74fd515f276d",
      "metadata": {
        "id": "e4e0bce4-a7a2-42df-9169-74fd515f276d"
      },
      "source": [
        "## Test NER"
      ]
    },
    {
      "cell_type": "code",
      "execution_count": null,
      "id": "91236df5-79b8-40a6-b741-6743e832470b",
      "metadata": {
        "id": "91236df5-79b8-40a6-b741-6743e832470b"
      },
      "outputs": [],
      "source": [
        "test_text = \"My name is arbaz and i stay in mumbai\"\n",
        "result = ner(test_text)\n",
        "print(\"Test NER:\", result)"
      ]
    },
    {
      "cell_type": "code",
      "execution_count": null,
      "id": "10f97e2f-7db8-4598-beff-a84148757704",
      "metadata": {
        "id": "10f97e2f-7db8-4598-beff-a84148757704"
      },
      "outputs": [],
      "source": [
        "gr.close_all()\n",
        "demo2 = gr.Interface(\n",
        "    fn=ner,\n",
        "    inputs=[gr.Textbox(label=\"Text to find entities\", lines=2)],\n",
        "    outputs=[gr.HighlightedText(label=\"Text with entities\")],\n",
        "    title=\"NER with Groq\",\n",
        "    examples=[\"My name is arbaz and i stay in mumbai\"]\n",
        ")"
      ]
    },
    {
      "cell_type": "code",
      "execution_count": null,
      "id": "42dffab5-da8a-4507-b94c-ceb24c74a430",
      "metadata": {
        "id": "42dffab5-da8a-4507-b94c-ceb24c74a430"
      },
      "outputs": [],
      "source": [
        "demo2.launch(share=False)  # Run locally"
      ]
    },
    {
      "cell_type": "code",
      "execution_count": null,
      "id": "002851c1-8326-4317-96d5-ff99e8a0c661",
      "metadata": {
        "id": "002851c1-8326-4317-96d5-ff99e8a0c661"
      },
      "outputs": [],
      "source": []
    }
  ],
  "metadata": {
    "kernelspec": {
      "display_name": "Python 3 (ipykernel)",
      "language": "python",
      "name": "python3"
    },
    "language_info": {
      "codemirror_mode": {
        "name": "ipython",
        "version": 3
      },
      "file_extension": ".py",
      "mimetype": "text/x-python",
      "name": "python",
      "nbconvert_exporter": "python",
      "pygments_lexer": "ipython3",
      "version": "3.13.2"
    },
    "colab": {
      "provenance": [],
      "include_colab_link": true
    }
  },
  "nbformat": 4,
  "nbformat_minor": 5
}