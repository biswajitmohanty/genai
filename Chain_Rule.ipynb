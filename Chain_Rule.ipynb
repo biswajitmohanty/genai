{
  "nbformat": 4,
  "nbformat_minor": 0,
  "metadata": {
    "colab": {
      "provenance": [],
      "include_colab_link": true
    },
    "kernelspec": {
      "name": "python3",
      "display_name": "Python 3"
    },
    "language_info": {
      "name": "python"
    }
  },
  "cells": [
    {
      "cell_type": "markdown",
      "metadata": {
        "id": "view-in-github",
        "colab_type": "text"
      },
      "source": [
        "<a href=\"https://colab.research.google.com/github/biswajitmohanty/genai/blob/main/Chain_Rule.ipynb\" target=\"_parent\"><img src=\"https://colab.research.google.com/assets/colab-badge.svg\" alt=\"Open In Colab\"/></a>"
      ]
    },
    {
      "cell_type": "code",
      "execution_count": 3,
      "metadata": {
        "colab": {
          "base_uri": "https://localhost:8080/"
        },
        "id": "eBUlXzkAvIag",
        "outputId": "05848f3d-fdd1-4f85-9914-1e35d5951b94"
      },
      "outputs": [
        {
          "output_type": "stream",
          "name": "stdout",
          "text": [
            "Derivative using chain rule: 30*x*(3*x**2 + 2)**4\n",
            "Derivative2 using chain rule: (1.5*x**2 + 2.0)/(x**3 + 4*x)**0.5\n"
          ]
        }
      ],
      "source": [
        "import sympy as sp\n",
        "\n",
        "# Define the variable\n",
        "x = sp.symbols('x')\n",
        "\n",
        "# Define the function\n",
        "inner_function = 3*x**2 + 2\n",
        "outer_function = inner_function**5\n",
        "\n",
        "# Compute the derivative using the chain rule\n",
        "derivative = sp.diff(outer_function, x)\n",
        "\n",
        "print(\"Derivative using chain rule:\", derivative)\n",
        "\n",
        "inner_function2 = x**3 + 4*x\n",
        "outer_function2 = inner_function2**(1/2)\n",
        "derivative2 = sp.diff(outer_function2, x)\n",
        "print(\"Derivative2 using chain rule:\", derivative2)"
      ]
    }
  ]
}