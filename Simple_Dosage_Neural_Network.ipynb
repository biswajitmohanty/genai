{
  "nbformat": 4,
  "nbformat_minor": 0,
  "metadata": {
    "colab": {
      "provenance": [],
      "include_colab_link": true
    },
    "kernelspec": {
      "name": "python3",
      "display_name": "Python 3"
    },
    "language_info": {
      "name": "python"
    }
  },
  "cells": [
    {
      "cell_type": "markdown",
      "metadata": {
        "id": "view-in-github",
        "colab_type": "text"
      },
      "source": [
        "<a href=\"https://colab.research.google.com/github/biswajitmohanty/genai/blob/main/Simple_Dosage_Neural_Network.ipynb\" target=\"_parent\"><img src=\"https://colab.research.google.com/assets/colab-badge.svg\" alt=\"Open In Colab\"/></a>"
      ]
    },
    {
      "cell_type": "code",
      "execution_count": null,
      "metadata": {
        "colab": {
          "base_uri": "https://localhost:8080/"
        },
        "id": "wExyvIegkSWH",
        "outputId": "1f54e719-b74e-434a-c271-0b0262041860"
      },
      "outputs": [
        {
          "output_type": "stream",
          "name": "stdout",
          "text": [
            "\u001b[1m1/1\u001b[0m \u001b[32m━━━━━━━━━━━━━━━━━━━━\u001b[0m\u001b[37m\u001b[0m \u001b[1m0s\u001b[0m 63ms/step\n",
            "Prediction for dosage 0.75: 0.5785\n"
          ]
        }
      ],
      "source": [
        "from tensorflow.keras.models import Sequential\n",
        "from tensorflow.keras.layers import Dense\n",
        "import numpy as np\n",
        "\n",
        "# Dummy dataset\n",
        "X = np.array([[0.0], [0.5], [1.0]])\n",
        "y = np.array([0, 1, 0])  # 0 = Not Effective, 1 = Effective\n",
        "\n",
        "# Define the model\n",
        "model = Sequential([\n",
        "    Dense(2, activation='softplus', input_shape=(1,)),\n",
        "    Dense(1, activation='sigmoid')  # Output: probability of being effective\n",
        "])\n",
        "\n",
        "# Compile & Train\n",
        "model.compile(optimizer='adam', loss='binary_crossentropy', metrics=['accuracy'])\n",
        "model.fit(X, y, epochs=50, verbose=0)\n",
        "\n"
      ]
    },
    {
      "cell_type": "code",
      "source": [
        "# Make Predictions\n",
        "predictions = model.predict(np.array([[0.5]]))\n",
        "print(f\"Prediction for dosage 0.5: {predictions[0][0]:.4f}\")"
      ],
      "metadata": {
        "id": "t6BmHSpSniuG",
        "outputId": "bf5e0308-4a31-482b-82fa-5c0d9aa97c56",
        "colab": {
          "base_uri": "https://localhost:8080/"
        }
      },
      "execution_count": null,
      "outputs": [
        {
          "output_type": "stream",
          "name": "stdout",
          "text": [
            "\u001b[1m1/1\u001b[0m \u001b[32m━━━━━━━━━━━━━━━━━━━━\u001b[0m\u001b[37m\u001b[0m \u001b[1m0s\u001b[0m 42ms/step\n",
            "Prediction for dosage 0.5: 0.5825\n"
          ]
        }
      ]
    }
  ]
}